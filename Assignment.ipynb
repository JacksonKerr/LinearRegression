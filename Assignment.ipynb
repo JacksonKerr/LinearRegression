{
  "nbformat": 4,
  "nbformat_minor": 0,
  "metadata": {
    "colab": {
      "name": "Assignment.ipynb",
      "provenance": []
    },
    "kernelspec": {
      "name": "python3",
      "display_name": "Python 3"
    },
    "language_info": {
      "name": "python"
    }
  },
  "cells": [
    {
      "cell_type": "markdown",
      "metadata": {
        "id": "Sffu5kODcxcZ"
      },
      "source": [
        "#INFO204 Assignment 1\n",
        "---\n",
        "*Jackson Kerr | 2942576*\n",
        "\n",
        "[GitHub Repo](https://github.com/JacksonKerr/LinearRegression)\n",
        "\n",
        "---\n",
        "\n"
      ]
    },
    {
      "cell_type": "markdown",
      "metadata": {
        "id": "lFWvOExer6QW"
      },
      "source": [
        "#### Doc Options:"
      ]
    },
    {
      "cell_type": "code",
      "metadata": {
        "id": "8YGcrv15ounG"
      },
      "source": [
        "fast = True         # If true, uses stored graph images from GitHub repo for speed\n",
        "dataFromGit = True  # If true, automatically get the data from github repo"
      ],
      "execution_count": 1,
      "outputs": []
    },
    {
      "cell_type": "markdown",
      "metadata": {
        "id": "13a85jgadaHL"
      },
      "source": [
        "##Gettin That Data:\n",
        "Let's start by importing the modified boston data.\n",
        "\n"
      ]
    },
    {
      "cell_type": "code",
      "metadata": {
        "colab": {
          "base_uri": "https://localhost:8080/",
          "height": 419
        },
        "id": "SbkubVVIawyo",
        "outputId": "a2544875-3940-46ab-c4cd-cf82c3a32da3"
      },
      "source": [
        "import pandas as pd\n",
        "import io\n",
        "from google.colab import files\n",
        "\n",
        "bost = pd.DataFrame()\n",
        "if dataFromGit:\n",
        "  url = \"https://raw.githubusercontent.com/JacksonKerr/LinearRegression/main/modified_boston.csv\"\n",
        "  bost = pd.read_csv(url, index_col=0)\n",
        "else:\n",
        "  uploaded = files.upload()\n",
        "  for fn in uploaded.keys():\n",
        "    print('User uploaded file \"{name}\" with length {length} bytes'.format(\n",
        "        name=fn, length=len(uploaded[fn])))\n",
        "  bost = pd.read_csv(io.BytesIO(uploaded['modified_boston.csv']), index_col=0)\n",
        "\n",
        "# Keep a copy of the original data so we are free to perform EDA\n",
        "bost_virgin = bost.copy()\n",
        "bost"
      ],
      "execution_count": 2,
      "outputs": [
        {
          "output_type": "execute_result",
          "data": {
            "text/html": [
              "<div>\n",
              "<style scoped>\n",
              "    .dataframe tbody tr th:only-of-type {\n",
              "        vertical-align: middle;\n",
              "    }\n",
              "\n",
              "    .dataframe tbody tr th {\n",
              "        vertical-align: top;\n",
              "    }\n",
              "\n",
              "    .dataframe thead th {\n",
              "        text-align: right;\n",
              "    }\n",
              "</style>\n",
              "<table border=\"1\" class=\"dataframe\">\n",
              "  <thead>\n",
              "    <tr style=\"text-align: right;\">\n",
              "      <th></th>\n",
              "      <th>crim</th>\n",
              "      <th>zn</th>\n",
              "      <th>indus</th>\n",
              "      <th>chas</th>\n",
              "      <th>nox</th>\n",
              "      <th>rm</th>\n",
              "      <th>age</th>\n",
              "      <th>dis</th>\n",
              "      <th>rad</th>\n",
              "      <th>tax</th>\n",
              "      <th>ptratio</th>\n",
              "      <th>b</th>\n",
              "      <th>lstat</th>\n",
              "      <th>medv</th>\n",
              "    </tr>\n",
              "  </thead>\n",
              "  <tbody>\n",
              "    <tr>\n",
              "      <th>0</th>\n",
              "      <td>0.00632</td>\n",
              "      <td>18.0</td>\n",
              "      <td>2.31</td>\n",
              "      <td>0.0</td>\n",
              "      <td>0.538</td>\n",
              "      <td>6.575</td>\n",
              "      <td>65.2</td>\n",
              "      <td>4.0900</td>\n",
              "      <td>1.0</td>\n",
              "      <td>296.0</td>\n",
              "      <td>15.3</td>\n",
              "      <td>396.90</td>\n",
              "      <td>4.98</td>\n",
              "      <td>11.292897</td>\n",
              "    </tr>\n",
              "    <tr>\n",
              "      <th>1</th>\n",
              "      <td>0.02731</td>\n",
              "      <td>0.0</td>\n",
              "      <td>7.07</td>\n",
              "      <td>0.0</td>\n",
              "      <td>0.469</td>\n",
              "      <td>6.421</td>\n",
              "      <td>78.9</td>\n",
              "      <td>4.9671</td>\n",
              "      <td>2.0</td>\n",
              "      <td>242.0</td>\n",
              "      <td>17.8</td>\n",
              "      <td>396.90</td>\n",
              "      <td>9.14</td>\n",
              "      <td>15.113707</td>\n",
              "    </tr>\n",
              "    <tr>\n",
              "      <th>2</th>\n",
              "      <td>0.02729</td>\n",
              "      <td>0.0</td>\n",
              "      <td>7.07</td>\n",
              "      <td>0.0</td>\n",
              "      <td>0.469</td>\n",
              "      <td>7.185</td>\n",
              "      <td>61.1</td>\n",
              "      <td>4.9671</td>\n",
              "      <td>2.0</td>\n",
              "      <td>242.0</td>\n",
              "      <td>17.8</td>\n",
              "      <td>392.83</td>\n",
              "      <td>4.03</td>\n",
              "      <td>26.034624</td>\n",
              "    </tr>\n",
              "    <tr>\n",
              "      <th>3</th>\n",
              "      <td>0.03237</td>\n",
              "      <td>0.0</td>\n",
              "      <td>2.18</td>\n",
              "      <td>0.0</td>\n",
              "      <td>0.458</td>\n",
              "      <td>6.998</td>\n",
              "      <td>45.8</td>\n",
              "      <td>6.0622</td>\n",
              "      <td>3.0</td>\n",
              "      <td>222.0</td>\n",
              "      <td>18.7</td>\n",
              "      <td>394.63</td>\n",
              "      <td>2.94</td>\n",
              "      <td>29.201223</td>\n",
              "    </tr>\n",
              "    <tr>\n",
              "      <th>4</th>\n",
              "      <td>0.06905</td>\n",
              "      <td>0.0</td>\n",
              "      <td>2.18</td>\n",
              "      <td>0.0</td>\n",
              "      <td>0.458</td>\n",
              "      <td>7.147</td>\n",
              "      <td>54.2</td>\n",
              "      <td>6.0622</td>\n",
              "      <td>3.0</td>\n",
              "      <td>222.0</td>\n",
              "      <td>18.7</td>\n",
              "      <td>396.90</td>\n",
              "      <td>5.33</td>\n",
              "      <td>24.099477</td>\n",
              "    </tr>\n",
              "    <tr>\n",
              "      <th>...</th>\n",
              "      <td>...</td>\n",
              "      <td>...</td>\n",
              "      <td>...</td>\n",
              "      <td>...</td>\n",
              "      <td>...</td>\n",
              "      <td>...</td>\n",
              "      <td>...</td>\n",
              "      <td>...</td>\n",
              "      <td>...</td>\n",
              "      <td>...</td>\n",
              "      <td>...</td>\n",
              "      <td>...</td>\n",
              "      <td>...</td>\n",
              "      <td>...</td>\n",
              "    </tr>\n",
              "    <tr>\n",
              "      <th>501</th>\n",
              "      <td>0.06263</td>\n",
              "      <td>0.0</td>\n",
              "      <td>11.93</td>\n",
              "      <td>0.0</td>\n",
              "      <td>0.573</td>\n",
              "      <td>6.593</td>\n",
              "      <td>69.1</td>\n",
              "      <td>2.4786</td>\n",
              "      <td>1.0</td>\n",
              "      <td>273.0</td>\n",
              "      <td>21.0</td>\n",
              "      <td>391.99</td>\n",
              "      <td>9.67</td>\n",
              "      <td>12.242679</td>\n",
              "    </tr>\n",
              "    <tr>\n",
              "      <th>502</th>\n",
              "      <td>0.04527</td>\n",
              "      <td>0.0</td>\n",
              "      <td>11.93</td>\n",
              "      <td>0.0</td>\n",
              "      <td>0.573</td>\n",
              "      <td>6.120</td>\n",
              "      <td>76.7</td>\n",
              "      <td>2.2875</td>\n",
              "      <td>1.0</td>\n",
              "      <td>273.0</td>\n",
              "      <td>21.0</td>\n",
              "      <td>396.90</td>\n",
              "      <td>9.08</td>\n",
              "      <td>17.066060</td>\n",
              "    </tr>\n",
              "    <tr>\n",
              "      <th>503</th>\n",
              "      <td>0.06076</td>\n",
              "      <td>0.0</td>\n",
              "      <td>11.93</td>\n",
              "      <td>0.0</td>\n",
              "      <td>0.573</td>\n",
              "      <td>6.976</td>\n",
              "      <td>91.0</td>\n",
              "      <td>2.1675</td>\n",
              "      <td>1.0</td>\n",
              "      <td>273.0</td>\n",
              "      <td>21.0</td>\n",
              "      <td>396.90</td>\n",
              "      <td>5.64</td>\n",
              "      <td>11.036473</td>\n",
              "    </tr>\n",
              "    <tr>\n",
              "      <th>504</th>\n",
              "      <td>0.10959</td>\n",
              "      <td>0.0</td>\n",
              "      <td>11.93</td>\n",
              "      <td>0.0</td>\n",
              "      <td>0.573</td>\n",
              "      <td>6.794</td>\n",
              "      <td>89.3</td>\n",
              "      <td>2.3889</td>\n",
              "      <td>1.0</td>\n",
              "      <td>273.0</td>\n",
              "      <td>21.0</td>\n",
              "      <td>393.45</td>\n",
              "      <td>6.48</td>\n",
              "      <td>13.672169</td>\n",
              "    </tr>\n",
              "    <tr>\n",
              "      <th>505</th>\n",
              "      <td>0.04741</td>\n",
              "      <td>0.0</td>\n",
              "      <td>11.93</td>\n",
              "      <td>0.0</td>\n",
              "      <td>0.573</td>\n",
              "      <td>6.030</td>\n",
              "      <td>80.8</td>\n",
              "      <td>2.5050</td>\n",
              "      <td>1.0</td>\n",
              "      <td>273.0</td>\n",
              "      <td>21.0</td>\n",
              "      <td>396.90</td>\n",
              "      <td>7.88</td>\n",
              "      <td>4.767363</td>\n",
              "    </tr>\n",
              "  </tbody>\n",
              "</table>\n",
              "<p>506 rows × 14 columns</p>\n",
              "</div>"
            ],
            "text/plain": [
              "        crim    zn  indus  chas  ...  ptratio       b  lstat       medv\n",
              "0    0.00632  18.0   2.31   0.0  ...     15.3  396.90   4.98  11.292897\n",
              "1    0.02731   0.0   7.07   0.0  ...     17.8  396.90   9.14  15.113707\n",
              "2    0.02729   0.0   7.07   0.0  ...     17.8  392.83   4.03  26.034624\n",
              "3    0.03237   0.0   2.18   0.0  ...     18.7  394.63   2.94  29.201223\n",
              "4    0.06905   0.0   2.18   0.0  ...     18.7  396.90   5.33  24.099477\n",
              "..       ...   ...    ...   ...  ...      ...     ...    ...        ...\n",
              "501  0.06263   0.0  11.93   0.0  ...     21.0  391.99   9.67  12.242679\n",
              "502  0.04527   0.0  11.93   0.0  ...     21.0  396.90   9.08  17.066060\n",
              "503  0.06076   0.0  11.93   0.0  ...     21.0  396.90   5.64  11.036473\n",
              "504  0.10959   0.0  11.93   0.0  ...     21.0  393.45   6.48  13.672169\n",
              "505  0.04741   0.0  11.93   0.0  ...     21.0  396.90   7.88   4.767363\n",
              "\n",
              "[506 rows x 14 columns]"
            ]
          },
          "metadata": {},
          "execution_count": 2
        }
      ]
    },
    {
      "cell_type": "markdown",
      "metadata": {
        "id": "EXdvCHRudxSi"
      },
      "source": [
        "#### Description:"
      ]
    },
    {
      "cell_type": "markdown",
      "metadata": {
        "id": "AErXBUzlfGyY"
      },
      "source": [
        "From [cs.toronto.edu](https://www.cs.toronto.edu/~delve/data/boston/bostonDetail.html)\n",
        "\n",
        "| Variable | Explaination|\n",
        "|----------|-------------|\n",
        "| CRIM     | per capita crime rate by town |\n",
        "| ZN       | proportion of residential land zoned for lots over 25,000 sq.ft. |\n",
        "| INDUS    | proportion of non-retail business acres per town. |\n",
        "| CHAS     | Charles River dummy var (1 if tract bounds river; 0 otherwise) |\n",
        "| NOX      | nitric oxides concentration (parts per 10 million) |\n",
        "| RM       | average number of rooms per dwelling |\n",
        "| AGE      | proportion of owner-occupied units built prior to 1940 |\n",
        "| DIS      | weighted distances to five Boston employment centres |\n",
        "| RAD      | index of accessibility to radial highways |\n",
        "| TAX      | full-value property-tax rate per \\$10,000 |\n",
        "| PTRATIO  | pupil-teacher ratio by town |\n",
        "| B        | 1000(Bk - 0.63)^2 where Bk is the proportion of blacks by town |\n",
        "| LSTAT    | % lower status of the population |\n",
        "| MEDV     | Median value of owner-occupied homes in $1000's |"
      ]
    },
    {
      "cell_type": "markdown",
      "metadata": {
        "id": "k9YYp9KDkyq5"
      },
      "source": [
        "Let's have a look at the fields."
      ]
    },
    {
      "cell_type": "code",
      "metadata": {
        "colab": {
          "base_uri": "https://localhost:8080/"
        },
        "id": "INiPi44XcpNU",
        "outputId": "7a7a4728-a648-4f7e-b50f-dd346ad5bd47"
      },
      "source": [
        "bost.info()"
      ],
      "execution_count": 3,
      "outputs": [
        {
          "output_type": "stream",
          "name": "stdout",
          "text": [
            "<class 'pandas.core.frame.DataFrame'>\n",
            "Int64Index: 506 entries, 0 to 505\n",
            "Data columns (total 14 columns):\n",
            " #   Column   Non-Null Count  Dtype  \n",
            "---  ------   --------------  -----  \n",
            " 0   crim     506 non-null    float64\n",
            " 1   zn       506 non-null    float64\n",
            " 2   indus    506 non-null    float64\n",
            " 3   chas     506 non-null    float64\n",
            " 4   nox      506 non-null    float64\n",
            " 5   rm       506 non-null    float64\n",
            " 6   age      506 non-null    float64\n",
            " 7   dis      506 non-null    float64\n",
            " 8   rad      506 non-null    float64\n",
            " 9   tax      506 non-null    float64\n",
            " 10  ptratio  506 non-null    float64\n",
            " 11  b        506 non-null    float64\n",
            " 12  lstat    506 non-null    float64\n",
            " 13  medv     506 non-null    float64\n",
            "dtypes: float64(14)\n",
            "memory usage: 59.3 KB\n"
          ]
        }
      ]
    },
    {
      "cell_type": "markdown",
      "metadata": {
        "id": "2DdAh8jVk3na"
      },
      "source": [
        "Looks simple. No missing values. All float64 decimal numbers."
      ]
    },
    {
      "cell_type": "markdown",
      "metadata": {
        "id": "_y4lKnevdjO7"
      },
      "source": [
        "## Exploratory Data Analysis"
      ]
    },
    {
      "cell_type": "markdown",
      "metadata": {
        "id": "weKncf_Hl5Ab"
      },
      "source": [
        "Let's look at the relationships between the variables using hue=\"chas\" as it's the only categorical variable."
      ]
    },
    {
      "cell_type": "code",
      "metadata": {
        "id": "6cdXbgPTh_Rg",
        "colab": {
          "base_uri": "https://localhost:8080/",
          "height": 1000
        },
        "outputId": "e28bc1ec-018c-4099-ac2d-364aaab2b644"
      },
      "source": [
        "import seaborn as sns\n",
        "import numpy as np\n",
        "\n",
        "if fast:\n",
        "  # Get stored pairplot from GitHub repo\n",
        "  from IPython.display import Image\n",
        "  from IPython.core.display import HTML \n",
        "  img = Image(url= \"https://raw.githubusercontent.com/JacksonKerr/LinearRegression/main/resources/initial_pairplot.png\")\n",
        "else:\n",
        "  # Create directly\n",
        "  img = sns.pairplot(bost, hue=\"chas\")\n",
        "img"
      ],
      "execution_count": 4,
      "outputs": [
        {
          "output_type": "execute_result",
          "data": {
            "text/html": [
              "<img src=\"https://raw.githubusercontent.com/JacksonKerr/LinearRegression/main/resources/initial_pairplot.png\"/>"
            ],
            "text/plain": [
              "<IPython.core.display.Image object>"
            ]
          },
          "metadata": {},
          "execution_count": 4
        }
      ]
    },
    {
      "cell_type": "markdown",
      "metadata": {
        "id": "CJirsAXlrnLF"
      },
      "source": [
        "### Upon Examination:\n",
        "- There doesen't seem to be any meaningful grouping going on with the CHAS variable.\n",
        "- There aren't any strong linear relationships between any of the variables.\n",
        "- There appears to a non-linear relationship between:\n",
        "  - RM and MEDV\n",
        "  - LSTAT and MEDV\n",
        "  - DIS and NOX\n",
        "- Age does not seem to be correlated with MEDV\n",
        "\n",
        "We will analyse these points one at a time."
      ]
    },
    {
      "cell_type": "markdown",
      "metadata": {
        "id": "-pUfT8xSACBb"
      },
      "source": [
        "#### 1. There doesen't seem to be any meaningful grouping going on with the CHAS variable.\n",
        "\n",
        "This is good, it means this data is likely to work well with a single model. We don't need to 'break up' the problem depending on CHAS."
      ]
    },
    {
      "cell_type": "markdown",
      "metadata": {
        "id": "6MK55wnCAW-_"
      },
      "source": [
        "#### 2. There aren't any strong linear relationships between any of the variables.\n",
        "\n",
        "Ideally at least one variable would have a strong relationship with the output.\n"
      ]
    },
    {
      "cell_type": "markdown",
      "metadata": {
        "id": "q0d1iYIbA_zI"
      },
      "source": [
        "#### 3. There appears to be a non-linear relationship between:"
      ]
    },
    {
      "cell_type": "markdown",
      "metadata": {
        "id": "10QdCAHbBqlb"
      },
      "source": [
        "##### 3a. RM and MEDV\n",
        "The scatter plot of RM and MEDV shows somewhat of a non-linear relationship between them.\n",
        "By transforming RM, we can create a new variable which more closely models a linear relationship.\n",
        "We can now drop RM and use the new variable RM²\n",
        "\n",
        "\n"
      ]
    },
    {
      "cell_type": "code",
      "metadata": {
        "id": "bs48XLBfET-Z",
        "colab": {
          "base_uri": "https://localhost:8080/",
          "height": 296
        },
        "outputId": "115258e0-fdfe-4606-d37e-2e1a737c2c79"
      },
      "source": [
        "sns.scatterplot(x=bost[\"rm\"], y=bost[\"medv\"])"
      ],
      "execution_count": 5,
      "outputs": [
        {
          "output_type": "execute_result",
          "data": {
            "text/plain": [
              "<matplotlib.axes._subplots.AxesSubplot at 0x7f1013f570d0>"
            ]
          },
          "metadata": {},
          "execution_count": 5
        },
        {
          "output_type": "display_data",
          "data": {
            "image/png": "[encoded data removed]",
            "text/plain": [
              "<Figure size 432x288 with 1 Axes>"
            ]
          },
          "metadata": {
            "needs_background": "light"
          }
        }
      ]
    },
    {
      "cell_type": "code",
      "metadata": {
        "id": "U1R-d6UAUUM_",
        "colab": {
          "base_uri": "https://localhost:8080/",
          "height": 296
        },
        "outputId": "618441e1-7c5f-455f-e62d-8bb4eb0b1a7f"
      },
      "source": [
        "# Remove RM and replace with RM2 = RM²\n",
        "if \"rm\" in bost.columns:\n",
        "  bost.insert(2, \"rm2\", bost[\"rm\"].copy()**2, True)\n",
        "  bost = bost.drop(['rm'], axis=1)\n",
        "\n",
        "sns.scatterplot(x=bost[\"rm2\"], y=bost[\"medv\"])"
      ],
      "execution_count": 6,
      "outputs": [
        {
          "output_type": "execute_result",
          "data": {
            "text/plain": [
              "<matplotlib.axes._subplots.AxesSubplot at 0x7f1013ee3ed0>"
            ]
          },
          "metadata": {},
          "execution_count": 6
        },
        {
          "output_type": "display_data",
          "data": {
            "image/png": "[encoded data removed]",
            "text/plain": [
              "<Figure size 432x288 with 1 Axes>"
            ]
          },
          "metadata": {
            "needs_background": "light"
          }
        }
      ]
    },
    {
      "cell_type": "markdown",
      "metadata": {
        "id": "eBEC7TqzIQD3"
      },
      "source": [
        "That looks a lot better."
      ]
    },
    {
      "cell_type": "markdown",
      "metadata": {
        "id": "_ck6IgafBNas"
      },
      "source": [
        "##### 3b. LSAT and MEDV\n",
        "Here we can repeat a similar process as for RM and MEDV\n"
      ]
    },
    {
      "cell_type": "code",
      "metadata": {
        "id": "SERlCsJ6Iloe",
        "colab": {
          "base_uri": "https://localhost:8080/",
          "height": 296
        },
        "outputId": "17e1df0e-2644-458d-8581-18f94dc6607b"
      },
      "source": [
        "sns.scatterplot(x=np.log(bost[\"lstat\"]), y=bost[\"medv\"])"
      ],
      "execution_count": 7,
      "outputs": [
        {
          "output_type": "execute_result",
          "data": {
            "text/plain": [
              "<matplotlib.axes._subplots.AxesSubplot at 0x7f1014702450>"
            ]
          },
          "metadata": {},
          "execution_count": 7
        },
        {
          "output_type": "display_data",
          "data": {
            "image/png": "[encoded data removed]",
            "text/plain": [
              "<Figure size 432x288 with 1 Axes>"
            ]
          },
          "metadata": {
            "needs_background": "light"
          }
        }
      ]
    },
    {
      "cell_type": "code",
      "metadata": {
        "id": "EEXYXLuPUUTv",
        "colab": {
          "base_uri": "https://localhost:8080/",
          "height": 297
        },
        "outputId": "23439ad8-d9ec-4328-8922-8ec660bd269f"
      },
      "source": [
        "# Remove LSTAT and replace with LOG_LSTAT = ln(LSTAT)\n",
        "if \"lstat\" in bost.columns:\n",
        "  bost.insert(2, \"LOG_lstat\", np.log(bost[\"lstat\"].copy()), True)\n",
        "  bost = bost.drop(['lstat'], axis=1)\n",
        "\n",
        "sns.scatterplot(x=bost[\"LOG_lstat\"], y=bost[\"medv\"])"
      ],
      "execution_count": 8,
      "outputs": [
        {
          "output_type": "execute_result",
          "data": {
            "text/plain": [
              "<matplotlib.axes._subplots.AxesSubplot at 0x7f1012ec7c50>"
            ]
          },
          "metadata": {},
          "execution_count": 8
        },
        {
          "output_type": "display_data",
          "data": {
            "image/png": "[encoded data removed]",
            "text/plain": [
              "<Figure size 432x288 with 1 Axes>"
            ]
          },
          "metadata": {
            "needs_background": "light"
          }
        }
      ]
    },
    {
      "cell_type": "markdown",
      "metadata": {
        "id": "MGvq_awCBgkf"
      },
      "source": [
        "##### 3c. DIS and NOX\n",
        "As shown below, DIS and NOX are highly correlated when one of them is correctly scaled."
      ]
    },
    {
      "cell_type": "code",
      "metadata": {
        "id": "akFV5Hfb88lk",
        "colab": {
          "base_uri": "https://localhost:8080/",
          "height": 296
        },
        "outputId": "c70e3a89-bdb1-4604-b0f4-863f22561933"
      },
      "source": [
        "sns.scatterplot(x=np.log(bost[\"dis\"]), y=bost[\"nox\"])"
      ],
      "execution_count": 9,
      "outputs": [
        {
          "output_type": "execute_result",
          "data": {
            "text/plain": [
              "<matplotlib.axes._subplots.AxesSubplot at 0x7f1012ec7e90>"
            ]
          },
          "metadata": {},
          "execution_count": 9
        },
        {
          "output_type": "display_data",
          "data": {
            "image/png": "[encoded data removed]",
            "text/plain": [
              "<Figure size 432x288 with 1 Axes>"
            ]
          },
          "metadata": {
            "needs_background": "light"
          }
        }
      ]
    },
    {
      "cell_type": "markdown",
      "metadata": {
        "id": "xUUD9LX4NO9c"
      },
      "source": [
        "If we examing the meaning of these variables we find:\n",
        "\n",
        "| Variable | Explaination|\n",
        "|----------|-------------|\n",
        "| NOX | nitric oxides concentration (parts per 10 million)   |\n",
        "| DIS | weighted distances to five Boston employment centres |\n",
        "\n",
        "It's reasonable to assume that there will be a higher concentration of nitric oxides around employment centers as there is more likely to be chemical production which leads to its emission. [Source: EPA](https://www.epa.gov/ghgemissions/overview-greenhouse-gases#nitrous-oxide)\n",
        "\n",
        "As these variables are essentially providing the same information, we should remove one of them.\n",
        "\n"
      ]
    },
    {
      "cell_type": "code",
      "metadata": {
        "id": "ixCEYwJEUYK_",
        "colab": {
          "base_uri": "https://localhost:8080/",
          "height": 324
        },
        "outputId": "72a40d0c-cd6d-4923-f5a3-012c60f3344e"
      },
      "source": [
        "sns.heatmap(bost.corr())"
      ],
      "execution_count": 10,
      "outputs": [
        {
          "output_type": "execute_result",
          "data": {
            "text/plain": [
              "<matplotlib.axes._subplots.AxesSubplot at 0x7f1012e1ae10>"
            ]
          },
          "metadata": {},
          "execution_count": 10
        },
        {
          "output_type": "display_data",
          "data": {
            "image/png": "[encoded data removed]",
            "text/plain": [
              "<Figure size 432x288 with 2 Axes>"
            ]
          },
          "metadata": {
            "needs_background": "light"
          }
        }
      ]
    },
    {
      "cell_type": "markdown",
      "metadata": {
        "id": "PoxF2-1_Q_uN"
      },
      "source": [
        "Looking at the heatmap of correlations between the variables, it appears DIS has a stronger correlation with MEDV than NOX does. Therefore we should choose to remove NOX"
      ]
    },
    {
      "cell_type": "code",
      "metadata": {
        "id": "qhdXlhXhRNo-",
        "colab": {
          "base_uri": "https://localhost:8080/",
          "height": 419
        },
        "outputId": "eff92d0f-1072-410c-f414-22d56f985281"
      },
      "source": [
        "if \"nox\" in bost.columns:\n",
        "  bost = bost.drop(['nox'], axis=1)\n",
        "bost"
      ],
      "execution_count": 11,
      "outputs": [
        {
          "output_type": "execute_result",
          "data": {
            "text/html": [
              "<div>\n",
              "<style scoped>\n",
              "    .dataframe tbody tr th:only-of-type {\n",
              "        vertical-align: middle;\n",
              "    }\n",
              "\n",
              "    .dataframe tbody tr th {\n",
              "        vertical-align: top;\n",
              "    }\n",
              "\n",
              "    .dataframe thead th {\n",
              "        text-align: right;\n",
              "    }\n",
              "</style>\n",
              "<table border=\"1\" class=\"dataframe\">\n",
              "  <thead>\n",
              "    <tr style=\"text-align: right;\">\n",
              "      <th></th>\n",
              "      <th>crim</th>\n",
              "      <th>zn</th>\n",
              "      <th>LOG_lstat</th>\n",
              "      <th>rm2</th>\n",
              "      <th>indus</th>\n",
              "      <th>chas</th>\n",
              "      <th>age</th>\n",
              "      <th>dis</th>\n",
              "      <th>rad</th>\n",
              "      <th>tax</th>\n",
              "      <th>ptratio</th>\n",
              "      <th>b</th>\n",
              "      <th>medv</th>\n",
              "    </tr>\n",
              "  </thead>\n",
              "  <tbody>\n",
              "    <tr>\n",
              "      <th>0</th>\n",
              "      <td>0.00632</td>\n",
              "      <td>18.0</td>\n",
              "      <td>1.605430</td>\n",
              "      <td>43.230625</td>\n",
              "      <td>2.31</td>\n",
              "      <td>0.0</td>\n",
              "      <td>65.2</td>\n",
              "      <td>4.0900</td>\n",
              "      <td>1.0</td>\n",
              "      <td>296.0</td>\n",
              "      <td>15.3</td>\n",
              "      <td>396.90</td>\n",
              "      <td>11.292897</td>\n",
              "    </tr>\n",
              "    <tr>\n",
              "      <th>1</th>\n",
              "      <td>0.02731</td>\n",
              "      <td>0.0</td>\n",
              "      <td>2.212660</td>\n",
              "      <td>41.229241</td>\n",
              "      <td>7.07</td>\n",
              "      <td>0.0</td>\n",
              "      <td>78.9</td>\n",
              "      <td>4.9671</td>\n",
              "      <td>2.0</td>\n",
              "      <td>242.0</td>\n",
              "      <td>17.8</td>\n",
              "      <td>396.90</td>\n",
              "      <td>15.113707</td>\n",
              "    </tr>\n",
              "    <tr>\n",
              "      <th>2</th>\n",
              "      <td>0.02729</td>\n",
              "      <td>0.0</td>\n",
              "      <td>1.393766</td>\n",
              "      <td>51.624225</td>\n",
              "      <td>7.07</td>\n",
              "      <td>0.0</td>\n",
              "      <td>61.1</td>\n",
              "      <td>4.9671</td>\n",
              "      <td>2.0</td>\n",
              "      <td>242.0</td>\n",
              "      <td>17.8</td>\n",
              "      <td>392.83</td>\n",
              "      <td>26.034624</td>\n",
              "    </tr>\n",
              "    <tr>\n",
              "      <th>3</th>\n",
              "      <td>0.03237</td>\n",
              "      <td>0.0</td>\n",
              "      <td>1.078410</td>\n",
              "      <td>48.972004</td>\n",
              "      <td>2.18</td>\n",
              "      <td>0.0</td>\n",
              "      <td>45.8</td>\n",
              "      <td>6.0622</td>\n",
              "      <td>3.0</td>\n",
              "      <td>222.0</td>\n",
              "      <td>18.7</td>\n",
              "      <td>394.63</td>\n",
              "      <td>29.201223</td>\n",
              "    </tr>\n",
              "    <tr>\n",
              "      <th>4</th>\n",
              "      <td>0.06905</td>\n",
              "      <td>0.0</td>\n",
              "      <td>1.673351</td>\n",
              "      <td>51.079609</td>\n",
              "      <td>2.18</td>\n",
              "      <td>0.0</td>\n",
              "      <td>54.2</td>\n",
              "      <td>6.0622</td>\n",
              "      <td>3.0</td>\n",
              "      <td>222.0</td>\n",
              "      <td>18.7</td>\n",
              "      <td>396.90</td>\n",
              "      <td>24.099477</td>\n",
              "    </tr>\n",
              "    <tr>\n",
              "      <th>...</th>\n",
              "      <td>...</td>\n",
              "      <td>...</td>\n",
              "      <td>...</td>\n",
              "      <td>...</td>\n",
              "      <td>...</td>\n",
              "      <td>...</td>\n",
              "      <td>...</td>\n",
              "      <td>...</td>\n",
              "      <td>...</td>\n",
              "      <td>...</td>\n",
              "      <td>...</td>\n",
              "      <td>...</td>\n",
              "      <td>...</td>\n",
              "    </tr>\n",
              "    <tr>\n",
              "      <th>501</th>\n",
              "      <td>0.06263</td>\n",
              "      <td>0.0</td>\n",
              "      <td>2.269028</td>\n",
              "      <td>43.467649</td>\n",
              "      <td>11.93</td>\n",
              "      <td>0.0</td>\n",
              "      <td>69.1</td>\n",
              "      <td>2.4786</td>\n",
              "      <td>1.0</td>\n",
              "      <td>273.0</td>\n",
              "      <td>21.0</td>\n",
              "      <td>391.99</td>\n",
              "      <td>12.242679</td>\n",
              "    </tr>\n",
              "    <tr>\n",
              "      <th>502</th>\n",
              "      <td>0.04527</td>\n",
              "      <td>0.0</td>\n",
              "      <td>2.206074</td>\n",
              "      <td>37.454400</td>\n",
              "      <td>11.93</td>\n",
              "      <td>0.0</td>\n",
              "      <td>76.7</td>\n",
              "      <td>2.2875</td>\n",
              "      <td>1.0</td>\n",
              "      <td>273.0</td>\n",
              "      <td>21.0</td>\n",
              "      <td>396.90</td>\n",
              "      <td>17.066060</td>\n",
              "    </tr>\n",
              "    <tr>\n",
              "      <th>503</th>\n",
              "      <td>0.06076</td>\n",
              "      <td>0.0</td>\n",
              "      <td>1.729884</td>\n",
              "      <td>48.664576</td>\n",
              "      <td>11.93</td>\n",
              "      <td>0.0</td>\n",
              "      <td>91.0</td>\n",
              "      <td>2.1675</td>\n",
              "      <td>1.0</td>\n",
              "      <td>273.0</td>\n",
              "      <td>21.0</td>\n",
              "      <td>396.90</td>\n",
              "      <td>11.036473</td>\n",
              "    </tr>\n",
              "    <tr>\n",
              "      <th>504</th>\n",
              "      <td>0.10959</td>\n",
              "      <td>0.0</td>\n",
              "      <td>1.868721</td>\n",
              "      <td>46.158436</td>\n",
              "      <td>11.93</td>\n",
              "      <td>0.0</td>\n",
              "      <td>89.3</td>\n",
              "      <td>2.3889</td>\n",
              "      <td>1.0</td>\n",
              "      <td>273.0</td>\n",
              "      <td>21.0</td>\n",
              "      <td>393.45</td>\n",
              "      <td>13.672169</td>\n",
              "    </tr>\n",
              "    <tr>\n",
              "      <th>505</th>\n",
              "      <td>0.04741</td>\n",
              "      <td>0.0</td>\n",
              "      <td>2.064328</td>\n",
              "      <td>36.360900</td>\n",
              "      <td>11.93</td>\n",
              "      <td>0.0</td>\n",
              "      <td>80.8</td>\n",
              "      <td>2.5050</td>\n",
              "      <td>1.0</td>\n",
              "      <td>273.0</td>\n",
              "      <td>21.0</td>\n",
              "      <td>396.90</td>\n",
              "      <td>4.767363</td>\n",
              "    </tr>\n",
              "  </tbody>\n",
              "</table>\n",
              "<p>506 rows × 13 columns</p>\n",
              "</div>"
            ],
            "text/plain": [
              "        crim    zn  LOG_lstat        rm2  ...    tax  ptratio       b       medv\n",
              "0    0.00632  18.0   1.605430  43.230625  ...  296.0     15.3  396.90  11.292897\n",
              "1    0.02731   0.0   2.212660  41.229241  ...  242.0     17.8  396.90  15.113707\n",
              "2    0.02729   0.0   1.393766  51.624225  ...  242.0     17.8  392.83  26.034624\n",
              "3    0.03237   0.0   1.078410  48.972004  ...  222.0     18.7  394.63  29.201223\n",
              "4    0.06905   0.0   1.673351  51.079609  ...  222.0     18.7  396.90  24.099477\n",
              "..       ...   ...        ...        ...  ...    ...      ...     ...        ...\n",
              "501  0.06263   0.0   2.269028  43.467649  ...  273.0     21.0  391.99  12.242679\n",
              "502  0.04527   0.0   2.206074  37.454400  ...  273.0     21.0  396.90  17.066060\n",
              "503  0.06076   0.0   1.729884  48.664576  ...  273.0     21.0  396.90  11.036473\n",
              "504  0.10959   0.0   1.868721  46.158436  ...  273.0     21.0  393.45  13.672169\n",
              "505  0.04741   0.0   2.064328  36.360900  ...  273.0     21.0  396.90   4.767363\n",
              "\n",
              "[506 rows x 13 columns]"
            ]
          },
          "metadata": {},
          "execution_count": 11
        }
      ]
    },
    {
      "cell_type": "markdown",
      "metadata": {
        "id": "qklSYxS-Rhrn"
      },
      "source": [
        "#### 4. AGE doesen't seem to be correlated with MEDV.\n",
        "\n",
        "Looking at the graph below, there seems to be no correlation between AGE and MEDV. This means we are free to remove AGE as it is not a good predictor for the outcome."
      ]
    },
    {
      "cell_type": "code",
      "metadata": {
        "id": "PQHBURqpUUZo",
        "colab": {
          "base_uri": "https://localhost:8080/",
          "height": 296
        },
        "outputId": "16e230ce-3fe7-48a2-c6d0-7fdb21c41bda"
      },
      "source": [
        "sns.scatterplot(x=bost[\"age\"], y=bost[\"medv\"]) "
      ],
      "execution_count": 12,
      "outputs": [
        {
          "output_type": "execute_result",
          "data": {
            "text/plain": [
              "<matplotlib.axes._subplots.AxesSubplot at 0x7f1012ecc190>"
            ]
          },
          "metadata": {},
          "execution_count": 12
        },
        {
          "output_type": "display_data",
          "data": {
            "image/png": "[encoded data removed]",
            "text/plain": [
              "<Figure size 432x288 with 1 Axes>"
            ]
          },
          "metadata": {
            "needs_background": "light"
          }
        }
      ]
    },
    {
      "cell_type": "code",
      "metadata": {
        "id": "cygBkUX1SdE1"
      },
      "source": [
        "# Remove AGE\n",
        "if \"age\" in bost.columns:\n",
        "  bost = bost.drop(['age'], axis=1)"
      ],
      "execution_count": 13,
      "outputs": []
    },
    {
      "cell_type": "markdown",
      "metadata": {
        "id": "y7w3bXczSpCS"
      },
      "source": [
        "#### Additionally, TAX and RAD seem to be highly correlated\n",
        "\n",
        "Looking back at the heatmap, we can see that TAX and RAD seem to be highly correlated."
      ]
    },
    {
      "cell_type": "code",
      "metadata": {
        "id": "AtnbRF9xTIlS",
        "colab": {
          "base_uri": "https://localhost:8080/",
          "height": 324
        },
        "outputId": "de3b6619-69d5-486a-9196-9cdfb2d46124"
      },
      "source": [
        "sns.heatmap(bost.corr())"
      ],
      "execution_count": 14,
      "outputs": [
        {
          "output_type": "execute_result",
          "data": {
            "text/plain": [
              "<matplotlib.axes._subplots.AxesSubplot at 0x7f100a488410>"
            ]
          },
          "metadata": {},
          "execution_count": 14
        },
        {
          "output_type": "display_data",
          "data": {
            "image/png": "[encoded data removed]",
            "text/plain": [
              "<Figure size 432x288 with 2 Axes>"
            ]
          },
          "metadata": {
            "needs_background": "light"
          }
        }
      ]
    },
    {
      "cell_type": "code",
      "metadata": {
        "id": "raVVS8gz_O1v",
        "colab": {
          "base_uri": "https://localhost:8080/",
          "height": 299
        },
        "outputId": "fbb2de75-011c-4777-dcf4-6c08b5d9ad43"
      },
      "source": [
        "sns.scatterplot(x=bost[\"tax\"], y=bost[\"rad\"]) "
      ],
      "execution_count": 15,
      "outputs": [
        {
          "output_type": "execute_result",
          "data": {
            "text/plain": [
              "<matplotlib.axes._subplots.AxesSubplot at 0x7f100a365ed0>"
            ]
          },
          "metadata": {},
          "execution_count": 15
        },
        {
          "output_type": "display_data",
          "data": {
            "image/png": "[encoded data removed]",
            "text/plain": [
              "<Figure size 432x288 with 1 Axes>"
            ]
          },
          "metadata": {
            "needs_background": "light"
          }
        }
      ]
    },
    {
      "cell_type": "markdown",
      "metadata": {
        "id": "xY7CoagMTMAC"
      },
      "source": [
        "This means we are free to remove one of them. TAX looks like it has a slightly stronger correlation to MEDV as shown in the heatmap. Though it is very close. We will remove RAD in this case."
      ]
    },
    {
      "cell_type": "code",
      "metadata": {
        "id": "Y_QGoFawUA70"
      },
      "source": [
        "# Remove RAD\n",
        "if \"rad\" in bost.columns:\n",
        "  bost = bost.drop(['rad'], axis=1)"
      ],
      "execution_count": 16,
      "outputs": []
    },
    {
      "cell_type": "markdown",
      "metadata": {
        "id": "JclHsVGG5gIG"
      },
      "source": [
        "### Now let's have a look at the data after our EDA"
      ]
    },
    {
      "cell_type": "code",
      "metadata": {
        "colab": {
          "base_uri": "https://localhost:8080/",
          "height": 297
        },
        "id": "nbPEZJX35gVH",
        "outputId": "a288967f-41d4-490c-d825-b255be7ac502"
      },
      "source": [
        "bost.describe()"
      ],
      "execution_count": 17,
      "outputs": [
        {
          "output_type": "execute_result",
          "data": {
            "text/html": [
              "<div>\n",
              "<style scoped>\n",
              "    .dataframe tbody tr th:only-of-type {\n",
              "        vertical-align: middle;\n",
              "    }\n",
              "\n",
              "    .dataframe tbody tr th {\n",
              "        vertical-align: top;\n",
              "    }\n",
              "\n",
              "    .dataframe thead th {\n",
              "        text-align: right;\n",
              "    }\n",
              "</style>\n",
              "<table border=\"1\" class=\"dataframe\">\n",
              "  <thead>\n",
              "    <tr style=\"text-align: right;\">\n",
              "      <th></th>\n",
              "      <th>crim</th>\n",
              "      <th>zn</th>\n",
              "      <th>LOG_lstat</th>\n",
              "      <th>rm2</th>\n",
              "      <th>indus</th>\n",
              "      <th>chas</th>\n",
              "      <th>dis</th>\n",
              "      <th>tax</th>\n",
              "      <th>ptratio</th>\n",
              "      <th>b</th>\n",
              "      <th>medv</th>\n",
              "    </tr>\n",
              "  </thead>\n",
              "  <tbody>\n",
              "    <tr>\n",
              "      <th>count</th>\n",
              "      <td>506.000000</td>\n",
              "      <td>506.000000</td>\n",
              "      <td>506.000000</td>\n",
              "      <td>506.000000</td>\n",
              "      <td>506.000000</td>\n",
              "      <td>506.000000</td>\n",
              "      <td>506.000000</td>\n",
              "      <td>506.000000</td>\n",
              "      <td>506.000000</td>\n",
              "      <td>506.000000</td>\n",
              "      <td>506.000000</td>\n",
              "    </tr>\n",
              "    <tr>\n",
              "      <th>mean</th>\n",
              "      <td>3.613524</td>\n",
              "      <td>11.363636</td>\n",
              "      <td>2.370965</td>\n",
              "      <td>39.989325</td>\n",
              "      <td>11.136779</td>\n",
              "      <td>0.069170</td>\n",
              "      <td>3.795043</td>\n",
              "      <td>408.237154</td>\n",
              "      <td>18.455534</td>\n",
              "      <td>356.674032</td>\n",
              "      <td>15.606038</td>\n",
              "    </tr>\n",
              "    <tr>\n",
              "      <th>std</th>\n",
              "      <td>8.601545</td>\n",
              "      <td>23.322453</td>\n",
              "      <td>0.600891</td>\n",
              "      <td>9.079531</td>\n",
              "      <td>6.860353</td>\n",
              "      <td>0.253994</td>\n",
              "      <td>2.105710</td>\n",
              "      <td>168.537116</td>\n",
              "      <td>2.164946</td>\n",
              "      <td>91.294864</td>\n",
              "      <td>9.480268</td>\n",
              "    </tr>\n",
              "    <tr>\n",
              "      <th>min</th>\n",
              "      <td>0.006320</td>\n",
              "      <td>0.000000</td>\n",
              "      <td>0.548121</td>\n",
              "      <td>12.680721</td>\n",
              "      <td>0.460000</td>\n",
              "      <td>0.000000</td>\n",
              "      <td>1.129600</td>\n",
              "      <td>187.000000</td>\n",
              "      <td>12.600000</td>\n",
              "      <td>0.320000</td>\n",
              "      <td>1.134841</td>\n",
              "    </tr>\n",
              "    <tr>\n",
              "      <th>25%</th>\n",
              "      <td>0.082045</td>\n",
              "      <td>0.000000</td>\n",
              "      <td>1.938729</td>\n",
              "      <td>34.639111</td>\n",
              "      <td>5.190000</td>\n",
              "      <td>0.000000</td>\n",
              "      <td>2.100175</td>\n",
              "      <td>279.000000</td>\n",
              "      <td>17.400000</td>\n",
              "      <td>375.377500</td>\n",
              "      <td>10.492041</td>\n",
              "    </tr>\n",
              "    <tr>\n",
              "      <th>50%</th>\n",
              "      <td>0.256510</td>\n",
              "      <td>0.000000</td>\n",
              "      <td>2.430097</td>\n",
              "      <td>38.545472</td>\n",
              "      <td>9.690000</td>\n",
              "      <td>0.000000</td>\n",
              "      <td>3.207450</td>\n",
              "      <td>330.000000</td>\n",
              "      <td>19.050000</td>\n",
              "      <td>391.440000</td>\n",
              "      <td>13.099290</td>\n",
              "    </tr>\n",
              "    <tr>\n",
              "      <th>75%</th>\n",
              "      <td>3.677082</td>\n",
              "      <td>12.500000</td>\n",
              "      <td>2.830563</td>\n",
              "      <td>43.870759</td>\n",
              "      <td>18.100000</td>\n",
              "      <td>0.000000</td>\n",
              "      <td>5.188425</td>\n",
              "      <td>666.000000</td>\n",
              "      <td>20.200000</td>\n",
              "      <td>396.225000</td>\n",
              "      <td>16.967099</td>\n",
              "    </tr>\n",
              "    <tr>\n",
              "      <th>max</th>\n",
              "      <td>88.976200</td>\n",
              "      <td>100.000000</td>\n",
              "      <td>3.636796</td>\n",
              "      <td>77.088400</td>\n",
              "      <td>27.740000</td>\n",
              "      <td>1.000000</td>\n",
              "      <td>12.126500</td>\n",
              "      <td>711.000000</td>\n",
              "      <td>22.000000</td>\n",
              "      <td>396.900000</td>\n",
              "      <td>48.819313</td>\n",
              "    </tr>\n",
              "  </tbody>\n",
              "</table>\n",
              "</div>"
            ],
            "text/plain": [
              "             crim          zn   LOG_lstat  ...     ptratio           b        medv\n",
              "count  506.000000  506.000000  506.000000  ...  506.000000  506.000000  506.000000\n",
              "mean     3.613524   11.363636    2.370965  ...   18.455534  356.674032   15.606038\n",
              "std      8.601545   23.322453    0.600891  ...    2.164946   91.294864    9.480268\n",
              "min      0.006320    0.000000    0.548121  ...   12.600000    0.320000    1.134841\n",
              "25%      0.082045    0.000000    1.938729  ...   17.400000  375.377500   10.492041\n",
              "50%      0.256510    0.000000    2.430097  ...   19.050000  391.440000   13.099290\n",
              "75%      3.677082   12.500000    2.830563  ...   20.200000  396.225000   16.967099\n",
              "max     88.976200  100.000000    3.636796  ...   22.000000  396.900000   48.819313\n",
              "\n",
              "[8 rows x 11 columns]"
            ]
          },
          "metadata": {},
          "execution_count": 17
        }
      ]
    },
    {
      "cell_type": "markdown",
      "metadata": {
        "id": "CKDoZkH_-p5B"
      },
      "source": [
        "Looks good, the seems to make sense after a quick glance.\n",
        "\n",
        "However, it seems there are some large differences in the standard deviations of our variables. More specificly; TAX, B, and to a lesser extent ZN seem to have deviations much greater than the others. This is likely to cause issues when modeling if not accounted for (Especially when using kNN). We will address this by scaling the data to have uniform standard deviation for all features.\n",
        "\n",
        "We will also keep a scaled copy of the virgin data. This will be useful as this scaling is likely to have a large impact on the performance of some models. Keeping a scaled copy of the virgin dataset will allow us to see the effects of the rest of out EDA on the performance of those models.\n",
        "\n",
        "I have choosen to do this instead of using a pipeline when performing cross validation as we will be scaling the data for use in three different models. Saving a scaled copy of the data means we only need to scale once."
      ]
    },
    {
      "cell_type": "code",
      "metadata": {
        "colab": {
          "base_uri": "https://localhost:8080/",
          "height": 297
        },
        "id": "JkxmM9EWI2mt",
        "outputId": "d2e38279-7890-4457-eba4-82e6b53d47fe"
      },
      "source": [
        "from sklearn.preprocessing import StandardScaler\n",
        "\n",
        "scaled_features = StandardScaler().fit_transform(bost.values)\n",
        "bost = pd.DataFrame(scaled_features, index=bost.index, columns=bost.columns)\n",
        "\n",
        "scaled_features = StandardScaler().fit_transform(bost_virgin.values)\n",
        "bost_virgin_scaled = pd.DataFrame(scaled_features, index=bost_virgin.index, columns=bost_virgin.columns)\n",
        "\n",
        "bost.describe()"
      ],
      "execution_count": 18,
      "outputs": [
        {
          "output_type": "execute_result",
          "data": {
            "text/html": [
              "<div>\n",
              "<style scoped>\n",
              "    .dataframe tbody tr th:only-of-type {\n",
              "        vertical-align: middle;\n",
              "    }\n",
              "\n",
              "    .dataframe tbody tr th {\n",
              "        vertical-align: top;\n",
              "    }\n",
              "\n",
              "    .dataframe thead th {\n",
              "        text-align: right;\n",
              "    }\n",
              "</style>\n",
              "<table border=\"1\" class=\"dataframe\">\n",
              "  <thead>\n",
              "    <tr style=\"text-align: right;\">\n",
              "      <th></th>\n",
              "      <th>crim</th>\n",
              "      <th>zn</th>\n",
              "      <th>LOG_lstat</th>\n",
              "      <th>rm2</th>\n",
              "      <th>indus</th>\n",
              "      <th>chas</th>\n",
              "      <th>dis</th>\n",
              "      <th>tax</th>\n",
              "      <th>ptratio</th>\n",
              "      <th>b</th>\n",
              "      <th>medv</th>\n",
              "    </tr>\n",
              "  </thead>\n",
              "  <tbody>\n",
              "    <tr>\n",
              "      <th>count</th>\n",
              "      <td>5.060000e+02</td>\n",
              "      <td>5.060000e+02</td>\n",
              "      <td>5.060000e+02</td>\n",
              "      <td>5.060000e+02</td>\n",
              "      <td>5.060000e+02</td>\n",
              "      <td>5.060000e+02</td>\n",
              "      <td>5.060000e+02</td>\n",
              "      <td>5.060000e+02</td>\n",
              "      <td>5.060000e+02</td>\n",
              "      <td>5.060000e+02</td>\n",
              "      <td>5.060000e+02</td>\n",
              "    </tr>\n",
              "    <tr>\n",
              "      <th>mean</th>\n",
              "      <td>-8.688702e-17</td>\n",
              "      <td>3.306534e-16</td>\n",
              "      <td>3.367969e-16</td>\n",
              "      <td>1.163979e-16</td>\n",
              "      <td>2.804081e-16</td>\n",
              "      <td>-3.100287e-16</td>\n",
              "      <td>8.293761e-17</td>\n",
              "      <td>-9.934960e-16</td>\n",
              "      <td>4.493551e-16</td>\n",
              "      <td>-1.451408e-16</td>\n",
              "      <td>2.782140e-16</td>\n",
              "    </tr>\n",
              "    <tr>\n",
              "      <th>std</th>\n",
              "      <td>1.000990e+00</td>\n",
              "      <td>1.000990e+00</td>\n",
              "      <td>1.000990e+00</td>\n",
              "      <td>1.000990e+00</td>\n",
              "      <td>1.000990e+00</td>\n",
              "      <td>1.000990e+00</td>\n",
              "      <td>1.000990e+00</td>\n",
              "      <td>1.000990e+00</td>\n",
              "      <td>1.000990e+00</td>\n",
              "      <td>1.000990e+00</td>\n",
              "      <td>1.000990e+00</td>\n",
              "    </tr>\n",
              "    <tr>\n",
              "      <th>min</th>\n",
              "      <td>-4.197819e-01</td>\n",
              "      <td>-4.877224e-01</td>\n",
              "      <td>-3.036568e+00</td>\n",
              "      <td>-3.010687e+00</td>\n",
              "      <td>-1.557842e+00</td>\n",
              "      <td>-2.725986e-01</td>\n",
              "      <td>-1.267069e+00</td>\n",
              "      <td>-1.313990e+00</td>\n",
              "      <td>-2.707379e+00</td>\n",
              "      <td>-3.907193e+00</td>\n",
              "      <td>-1.527965e+00</td>\n",
              "    </tr>\n",
              "    <tr>\n",
              "      <th>25%</th>\n",
              "      <td>-4.109696e-01</td>\n",
              "      <td>-4.877224e-01</td>\n",
              "      <td>-7.200364e-01</td>\n",
              "      <td>-5.898442e-01</td>\n",
              "      <td>-8.676906e-01</td>\n",
              "      <td>-2.725986e-01</td>\n",
              "      <td>-8.056878e-01</td>\n",
              "      <td>-7.675760e-01</td>\n",
              "      <td>-4.880391e-01</td>\n",
              "      <td>2.050715e-01</td>\n",
              "      <td>-5.399698e-01</td>\n",
              "    </tr>\n",
              "    <tr>\n",
              "      <th>50%</th>\n",
              "      <td>-3.906665e-01</td>\n",
              "      <td>-4.877224e-01</td>\n",
              "      <td>9.850402e-02</td>\n",
              "      <td>-1.591801e-01</td>\n",
              "      <td>-2.110985e-01</td>\n",
              "      <td>-2.725986e-01</td>\n",
              "      <td>-2.793234e-01</td>\n",
              "      <td>-4.646726e-01</td>\n",
              "      <td>2.748590e-01</td>\n",
              "      <td>3.811865e-01</td>\n",
              "      <td>-2.646791e-01</td>\n",
              "    </tr>\n",
              "    <tr>\n",
              "      <th>75%</th>\n",
              "      <td>7.396560e-03</td>\n",
              "      <td>4.877224e-02</td>\n",
              "      <td>7.656165e-01</td>\n",
              "      <td>4.279159e-01</td>\n",
              "      <td>1.015999e+00</td>\n",
              "      <td>-2.725986e-01</td>\n",
              "      <td>6.623709e-01</td>\n",
              "      <td>1.530926e+00</td>\n",
              "      <td>8.065758e-01</td>\n",
              "      <td>4.336510e-01</td>\n",
              "      <td>1.437098e-01</td>\n",
              "    </tr>\n",
              "    <tr>\n",
              "      <th>max</th>\n",
              "      <td>9.933931e+00</td>\n",
              "      <td>3.804234e+00</td>\n",
              "      <td>2.108674e+00</td>\n",
              "      <td>4.090056e+00</td>\n",
              "      <td>2.422565e+00</td>\n",
              "      <td>3.668398e+00</td>\n",
              "      <td>3.960518e+00</td>\n",
              "      <td>1.798194e+00</td>\n",
              "      <td>1.638828e+00</td>\n",
              "      <td>4.410519e-01</td>\n",
              "      <td>3.506878e+00</td>\n",
              "    </tr>\n",
              "  </tbody>\n",
              "</table>\n",
              "</div>"
            ],
            "text/plain": [
              "               crim            zn  ...             b          medv\n",
              "count  5.060000e+02  5.060000e+02  ...  5.060000e+02  5.060000e+02\n",
              "mean  -8.688702e-17  3.306534e-16  ... -1.451408e-16  2.782140e-16\n",
              "std    1.000990e+00  1.000990e+00  ...  1.000990e+00  1.000990e+00\n",
              "min   -4.197819e-01 -4.877224e-01  ... -3.907193e+00 -1.527965e+00\n",
              "25%   -4.109696e-01 -4.877224e-01  ...  2.050715e-01 -5.399698e-01\n",
              "50%   -3.906665e-01 -4.877224e-01  ...  3.811865e-01 -2.646791e-01\n",
              "75%    7.396560e-03  4.877224e-02  ...  4.336510e-01  1.437098e-01\n",
              "max    9.933931e+00  3.804234e+00  ...  4.410519e-01  3.506878e+00\n",
              "\n",
              "[8 rows x 11 columns]"
            ]
          },
          "metadata": {},
          "execution_count": 18
        }
      ]
    },
    {
      "cell_type": "markdown",
      "metadata": {
        "id": "ME0FTOwuNTnB"
      },
      "source": [
        "As you can see, the standard deviations of all features are now equal."
      ]
    },
    {
      "cell_type": "markdown",
      "metadata": {
        "id": "UvVnIJrHCy-B"
      },
      "source": [
        "## Hyperparameter Analysis"
      ]
    },
    {
      "cell_type": "markdown",
      "metadata": {
        "id": "GXvFxcfs975H"
      },
      "source": [
        "#### Helper function from lab\n",
        "```\n",
        "def cross_validate_model_mse(mdl, param_grid, X, y, cv=None)\n",
        "```\n",
        "\n"
      ]
    },
    {
      "cell_type": "code",
      "metadata": {
        "id": "i6fXYSez34HB"
      },
      "source": [
        "def cross_validate_model_mse(mdl, param_grid, X, y, cv=None):\n",
        "    import numpy as np\n",
        "    import pandas as pd\n",
        "\n",
        "    from sklearn.metrics import mean_squared_error, make_scorer, r2_score\n",
        "    from sklearn.model_selection import GridSearchCV\n",
        "    \n",
        "    # create a MSE scorer\n",
        "    scorer = make_scorer(mean_squared_error, greater_is_better=False)\n",
        "    \n",
        "    # perform the grid search on the supplied data\n",
        "    cv = GridSearchCV(mdl, param_grid, scoring=scorer, cv=cv, n_jobs=-1)\n",
        "    cv.fit(X, y)\n",
        "    cv_stats = pd.DataFrame(cv.cv_results_).filter(regex='(param_.*)|(split.*_test_score)', axis=1)\n",
        "    cv_stats = cv_stats.melt(id_vars=cv_stats.columns[cv_stats.columns.str.match('param_.*')], var_name='split', value_name='mse')\n",
        "    cv_stats.rename(columns=lambda n: n.replace('param_', ''), inplace=True)\n",
        "    cv_stats['split'] = cv_stats['split'].str.replace('split(\\d+)_test_score', '\\\\1', regex=True).astype(np.int64)\n",
        "    cv_stats['mse'] = -cv_stats['mse']\n",
        "    \n",
        "    return cv, cv_stats"
      ],
      "execution_count": 19,
      "outputs": []
    },
    {
      "cell_type": "markdown",
      "metadata": {
        "id": "277vb2_3-AQU"
      },
      "source": [
        "### Tuning:\n",
        "\n",
        "Using cross validation, we can find some suitable hyperparameters to use for our models.\n",
        "\n",
        "The code below will find suitable hyperparameters for K Nearest Neighbour and a Classification And Regression Tree using cross validation with 10 folds and 3 repeats."
      ]
    },
    {
      "cell_type": "code",
      "metadata": {
        "id": "RsUDu1Ow4aOL",
        "colab": {
          "base_uri": "https://localhost:8080/"
        },
        "outputId": "3390cc33-d825-4155-9a6d-c019d15c3fab"
      },
      "source": [
        "from sklearn.pipeline import Pipeline\n",
        "\n",
        "from sklearn.dummy import DummyRegressor\n",
        "from sklearn.neighbors import KNeighborsRegressor\n",
        "from sklearn.tree import DecisionTreeRegressor\n",
        "\n",
        "from sklearn.model_selection import RepeatedKFold\n",
        "\n",
        "from matplotlib import pyplot as plt\n",
        "\n",
        "rkf = RepeatedKFold(n_splits=10, n_repeats=3) # 3 ROUNDS and 10 FOLDS\n",
        "\n",
        "target = 'medv'\n",
        "\n",
        "# EDA Data\n",
        "X = bost.drop(columns=[target]).to_numpy()\n",
        "y = bost[target].to_numpy()\n",
        "\n",
        "# Virgin Data\n",
        "vX = bost_virgin.drop(columns=[target]).to_numpy()\n",
        "vy = bost_virgin[target].to_numpy()\n",
        "\n",
        "# Scaled virgin data\n",
        "vsX = bost_virgin_scaled.drop(columns=[target]).to_numpy()\n",
        "vsy = bost_virgin_scaled[target].to_numpy()\n",
        "\n",
        "# ===== kNN =====\n",
        "knn = KNeighborsRegressor()\n",
        "knn_grid = { 'n_neighbors' : [1, 2, 5, 10, 20, 40, 80, 120, 360] }\n",
        "\n",
        "knncv, knn_stats = cross_validate_model_mse(knn, knn_grid, X, y, cv=rkf)\n",
        "knn_virgin_cv, knn_virgin_stats = cross_validate_model_mse(knn, knn_grid, vX, vy, cv=rkf)\n",
        "knn_virgin_scaled_cv, knn_virgin_scaled_stats = cross_validate_model_mse(knn, knn_grid, vsX, vsy, cv=rkf)\n",
        "\n",
        "# ===== CART ========\n",
        "CART = DecisionTreeRegressor()\n",
        "CART_grid = { 'min_samples_split' : [2, 5, 10, 20, 40, 80, 120, 360] }\n",
        "\n",
        "CARTcv, CART_stats = cross_validate_model_mse(CART, CART_grid, X, y, cv=rkf)\n",
        "CART_virgin_cv, CART_virgin_stats = cross_validate_model_mse(CART, CART_grid, vX, vy, cv=rkf)\n",
        "CART_virgin_scaled_cv, CART_virgin_scaled_stats = cross_validate_model_mse(CART, CART_grid, vsX, vsy, cv=rkf)\n",
        "\n",
        "\n",
        "# Print result\n",
        "print(\"kNN optimal split:\\t\", knncv.best_params_['n_neighbors'], \"with MSE:\\t\", round(-knncv.best_score_, 3))\n",
        "print(\"CART optimal split:\\t\", CARTcv.best_params_['min_samples_split'], \"with MSE:\\t\", round(-CARTcv.best_score_, 3))"
      ],
      "execution_count": 20,
      "outputs": [
        {
          "output_type": "stream",
          "name": "stdout",
          "text": [
            "kNN optimal split:\t 10 with MSE:\t 0.363\n",
            "CART optimal split:\t 40 with MSE:\t 0.331\n"
          ]
        }
      ]
    },
    {
      "cell_type": "markdown",
      "metadata": {
        "id": "g3DLI9oz5k78"
      },
      "source": [
        "### Plotting\n",
        "A simple comparison of the performance of kNN and CART. By also comparing the tuned models score on the scaled virgin data we can see how effective out EDA was."
      ]
    },
    {
      "cell_type": "code",
      "metadata": {
        "id": "o_jlF2_nk2Ck",
        "colab": {
          "base_uri": "https://localhost:8080/",
          "height": 514
        },
        "outputId": "97619ce7-f5fc-4028-a631-e761a3451095"
      },
      "source": [
        "fig, axs = plt.subplots(nrows=1, ncols=2, figsize=(24,8))\n",
        "for ax in axs: ax.set_ylim((0, 1))\n",
        "\n",
        "# Scaled virgin data\n",
        "sns.lineplot(data=knn_virgin_scaled_stats, x='n_neighbors', y='mse', label='Virgin Scaled data', ax=axs[0])\n",
        "sns.lineplot(data=knn_stats, x='n_neighbors', y='mse', label='EDA data', ax=axs[0])\n",
        "axs[0].set_title('kNN with EDA data')\n",
        "\n",
        "# EDA Data\n",
        "sns.lineplot(data=CART_stats, x='min_samples_split', y='mse', label='EDA data', ax=axs[1])\n",
        "sns.lineplot(data=CART_virgin_scaled_stats, x='min_samples_split', y='mse', label='Scaled Virgin data', ax=axs[1])\n",
        "axs[1].set_title('CART with scaled virgin data');"
      ],
      "execution_count": 21,
      "outputs": [
        {
          "output_type": "display_data",
          "data": {
            "image/png": "[encoded data removed]",
            "text/plain": [
              "<Figure size 1728x576 with 2 Axes>"
            ]
          },
          "metadata": {
            "needs_background": "light"
          }
        }
      ]
    },
    {
      "cell_type": "markdown",
      "metadata": {
        "id": "J30OhODa7QPq"
      },
      "source": [
        "**Note:** We have ignored the effects of scaling the data here.\n",
        "\n",
        "Looks like CART is performing slightly better than kNN both having suitable hyperparameters on the data after EDA. Also, out EDA seems to have improved the performance of kNN but it seems it hasn't brought an improvement in the case of CART."
      ]
    },
    {
      "cell_type": "markdown",
      "metadata": {
        "id": "cnbhDhGW_VIN"
      },
      "source": [
        "# Final Comparison"
      ]
    },
    {
      "cell_type": "markdown",
      "metadata": {
        "id": "4rw0poEA7xIE"
      },
      "source": [
        "We can now compare the two models created above to a linear model. We can also see the effect of EDA by comparing the performance of our models using the virgin data to the data which has undergone EDA."
      ]
    },
    {
      "cell_type": "markdown",
      "metadata": {
        "id": "Ks9RQ23O9kDT"
      },
      "source": [
        "### Getting metrics\n",
        "The code below will evaluate the performance of each model with each dataset using cross validation as in hyperparameter tuning."
      ]
    },
    {
      "cell_type": "code",
      "metadata": {
        "id": "lSirmk0QbebK"
      },
      "source": [
        "from sklearn.linear_model import LinearRegression\n",
        "from sklearn.model_selection import cross_val_score\n",
        "\n",
        "performance = {\"linear\":{\"virgin\":0, \"eda\":0, \"scaled_virgin\":0},\n",
        "               \"knn\":   {\"virgin\":0, \"eda\":0, \"scaled_virgin\":0},\n",
        "               \"cart\":  {\"virgin\":0, \"eda\":0, \"scaled_virgin\":0},\n",
        "               \"dummy\": {\"virgin\":0, \"eda\":0, \"scaled_virgin\":0}}\n",
        "\n",
        "\n",
        "# Linear: <- No hyperparameters to tune \n",
        "linear_model = LinearRegression()\n",
        "performance[\"linear\"][\"eda\"] = np.mean(cross_val_score(linear_model, X, y, cv=rkf))\n",
        "performance[\"linear\"][\"virgin\"] = np.mean(cross_val_score(linear_model, vX, vy, cv=rkf))\n",
        "performance[\"linear\"][\"scaled_virgin\"] = np.mean(cross_val_score(linear_model, vsX, vsy, cv=rkf))\n",
        "\n",
        "# kNN:\n",
        "knn_model = KNeighborsRegressor(n_neighbors=knncv.best_params_['n_neighbors'])\n",
        "performance[\"knn\"][\"eda\"] = np.mean(cross_val_score(knn_model, X, y, cv=rkf))\n",
        "\n",
        "knn_virgin_model = KNeighborsRegressor(n_neighbors=knn_virgin_cv.best_params_['n_neighbors'])\n",
        "performance[\"knn\"][\"virgin\"] = np.mean(cross_val_score(knn_virgin_model, vX, vy, cv=rkf))\n",
        "\n",
        "knn_virgin_scaled_model = KNeighborsRegressor(n_neighbors=knn_virgin_scaled_cv.best_params_['n_neighbors'])\n",
        "performance[\"knn\"][\"scaled_virgin\"] = np.mean(cross_val_score(knn_virgin_scaled_model, vsX, vsy, cv=rkf))\n",
        "\n",
        "# CART\n",
        "cart_model = DecisionTreeRegressor(min_samples_split=CARTcv.best_params_['min_samples_split'])\n",
        "performance[\"cart\"][\"eda\"] = np.mean(cross_val_score(cart_model, X, y, cv=rkf))\n",
        "\n",
        "cart_virgin_model = DecisionTreeRegressor(min_samples_split=CART_virgin_cv.best_params_['min_samples_split'])\n",
        "performance[\"cart\"][\"virgin\"] = np.mean(cross_val_score(cart_virgin_model, vX, vy, cv=rkf))\n",
        "\n",
        "cart_virgin_scaled_model = DecisionTreeRegressor(min_samples_split=CART_virgin_scaled_cv.best_params_['min_samples_split'])\n",
        "performance[\"cart\"][\"scaled_virgin\"] = np.mean(cross_val_score(cart_virgin_scaled_model, vsX, vsy, cv=rkf))"
      ],
      "execution_count": 22,
      "outputs": []
    },
    {
      "cell_type": "markdown",
      "metadata": {
        "id": "VDeviCz3B9m3"
      },
      "source": [
        "### Comparison"
      ]
    },
    {
      "cell_type": "markdown",
      "metadata": {
        "id": "qo0U_pNx-I5d"
      },
      "source": [
        "Now we can display this performance data in a table"
      ]
    },
    {
      "cell_type": "code",
      "metadata": {
        "colab": {
          "base_uri": "https://localhost:8080/"
        },
        "id": "TtkfLnze6b5y",
        "outputId": "f85f51b7-a872-4501-d598-28d959042a73"
      },
      "source": [
        "# Display perfromance in table\n",
        "from tabulate import tabulate\n",
        "table = [['Linear', performance[\"linear\"][\"virgin\"], performance[\"linear\"][\"scaled_virgin\"], performance[\"linear\"][\"eda\"]],\n",
        "         ['kNN', performance[\"knn\"][\"virgin\"], performance[\"knn\"][\"scaled_virgin\"], performance[\"knn\"][\"eda\"]],\n",
        "         ['CART', performance[\"cart\"][\"virgin\"], performance[\"cart\"][\"scaled_virgin\"], performance[\"cart\"][\"eda\"]]]\n",
        "\n",
        "# Round all values to 3dp\n",
        "for i in range(len(table)):\n",
        "  for j in range(len(table[i])):\n",
        "    if isinstance(table[i][j], float):\n",
        "      table[i][j] = round(table[i][j], 2)\n",
        "\n",
        "print(tabulate(table, headers=['Model', 'Virgin r²', \"Scaled Virgin r²\", \"EDA r²\"]))\n",
        "\n",
        "\n",
        "# Find and print the best performing combination of model and data.\n",
        "best_model = {\"model\":None, \"data\":None, \"score\":0}\n",
        "for model_name in performance.keys():\n",
        "  for data_name in performance[model_name].keys():\n",
        "    score = performance[model_name][data_name]\n",
        "    if score > best_model[\"score\"]:\n",
        "      best_model = {\"model\":model_name, \"data\":data_name, \"score\":score}\n",
        "\n",
        "print(\"\\nBest performing:\", best_model[\"model\"], \"model with\", best_model[\"data\"], \"data.\")\n"
      ],
      "execution_count": 23,
      "outputs": [
        {
          "output_type": "stream",
          "name": "stdout",
          "text": [
            "Model      Virgin r²    Scaled Virgin r²    EDA r²\n",
            "-------  -----------  ------------------  --------\n",
            "Linear          0.47                0.48      0.54\n",
            "kNN             0.29                0.56      0.62\n",
            "CART            0.62                0.6       0.63\n",
            "\n",
            "Best performing: cart model with eda data.\n"
          ]
        }
      ]
    },
    {
      "cell_type": "markdown",
      "metadata": {
        "id": "QriMPeYPBTVU"
      },
      "source": [
        "CART and kNN appear to be performing a lot better than the the linear model which is not a big suprise if you recall from EDA when we said; \"There aren't any strong linear relationships between any of the variables\".\n",
        "\n",
        "While kNN does lose out to the linear model when using the virgin data, this is because kNN performs badly on data containing features with large variation in standard deviation.\n",
        "\n",
        "Because not many features have a linear relationship with the output even after EDA, a linear model will struggle to out-compete non-linear models. This also means that CART is very effective as it will simply ignore the features which don't have a strong relationship with the output for the most part."
      ]
    },
    {
      "cell_type": "markdown",
      "metadata": {
        "id": "LnArwm-KA2mS"
      },
      "source": [
        "# Knowledge Generation: Examining the tree"
      ]
    },
    {
      "cell_type": "code",
      "metadata": {
        "colab": {
          "base_uri": "https://localhost:8080/",
          "height": 458
        },
        "id": "tX8PlYNh5Wvx",
        "outputId": "26669deb-df8d-4972-9f06-1a783ee47abd"
      },
      "source": [
        "# Draw representation of simplified tree.\n",
        "cart_visual_model = DecisionTreeRegressor(min_samples_split=150)\n",
        "cart_visual_model.fit(X, y)\n",
        "\n",
        "from sklearn import tree\n",
        "import graphviz\n",
        "dot_data = tree.export_graphviz(cart_visual_model, feature_names=bost.columns[:10], max_depth=5, filled=True, rotate=True, rounded=True, precision=2)\n",
        "graph = graphviz.Source(dot_data, format=\"png\") \n",
        "graph\n"
      ],
      "execution_count": 25,
      "outputs": [
        {
          "output_type": "execute_result",
          "data": {
            "text/plain": [
              "<graphviz.files.Source at 0x7f1003da7d10>"
            ],
            "image/svg+xml": "<?xml version=\"1.0\" encoding=\"UTF-8\" standalone=\"no\"?>\n<!DOCTYPE svg PUBLIC \"-//W3C//DTD SVG 1.1//EN\"\n \"http://www.w3.org/Graphics/SVG/1.1/DTD/svg11.dtd\">\n<!-- Generated by graphviz version 2.40.1 (20161225.0304)\n -->\n<!-- Title: Tree Pages: 1 -->\n<svg width=\"761pt\" height=\"328pt\"\n viewBox=\"0.00 0.00 761.00 328.00\" xmlns=\"http://www.w3.org/2000/svg\" xmlns:xlink=\"http://www.w3.org/1999/xlink\">\n<g id=\"graph0\" class=\"graph\" transform=\"scale(1 1) rotate(0) translate(4 324)\">\n<title>Tree</title>\n<polygon fill=\"#ffffff\" stroke=\"transparent\" points=\"-4,4 -4,-324 757,-324 757,4 -4,4\"/>\n<!-- 0 -->\n<g id=\"node1\" class=\"node\">\n<title>0</title>\n<path fill=\"#fae8db\" stroke=\"#000000\" d=\"M100,-167.5C100,-167.5 12,-167.5 12,-167.5 6,-167.5 0,-161.5 0,-155.5 0,-155.5 0,-111.5 0,-111.5 0,-105.5 6,-99.5 12,-99.5 12,-99.5 100,-99.5 100,-99.5 106,-99.5 112,-105.5 112,-111.5 112,-111.5 112,-155.5 112,-155.5 112,-161.5 106,-167.5 100,-167.5\"/>\n<text text-anchor=\"middle\" x=\"56\" y=\"-152.3\" font-family=\"Helvetica,sans-Serif\" font-size=\"14.00\" fill=\"#000000\">rm2 &lt;= 1.65</text>\n<text text-anchor=\"middle\" x=\"56\" y=\"-137.3\" font-family=\"Helvetica,sans-Serif\" font-size=\"14.00\" fill=\"#000000\">mse = 1.0</text>\n<text text-anchor=\"middle\" x=\"56\" y=\"-122.3\" font-family=\"Helvetica,sans-Serif\" font-size=\"14.00\" fill=\"#000000\">samples = 506</text>\n<text text-anchor=\"middle\" x=\"56\" y=\"-107.3\" font-family=\"Helvetica,sans-Serif\" font-size=\"14.00\" fill=\"#000000\">value = 0.0</text>\n</g>\n<!-- 1 -->\n<g id=\"node2\" class=\"node\">\n<title>1</title>\n<path fill=\"#fbeee4\" stroke=\"#000000\" d=\"M275,-207.5C275,-207.5 160,-207.5 160,-207.5 154,-207.5 148,-201.5 148,-195.5 148,-195.5 148,-151.5 148,-151.5 148,-145.5 154,-139.5 160,-139.5 160,-139.5 275,-139.5 275,-139.5 281,-139.5 287,-145.5 287,-151.5 287,-151.5 287,-195.5 287,-195.5 287,-201.5 281,-207.5 275,-207.5\"/>\n<text text-anchor=\"middle\" x=\"217.5\" y=\"-192.3\" font-family=\"Helvetica,sans-Serif\" font-size=\"14.00\" fill=\"#000000\">LOG_lstat &lt;= &#45;0.11</text>\n<text text-anchor=\"middle\" x=\"217.5\" y=\"-177.3\" font-family=\"Helvetica,sans-Serif\" font-size=\"14.00\" fill=\"#000000\">mse = 0.51</text>\n<text text-anchor=\"middle\" x=\"217.5\" y=\"-162.3\" font-family=\"Helvetica,sans-Serif\" font-size=\"14.00\" fill=\"#000000\">samples = 474</text>\n<text text-anchor=\"middle\" x=\"217.5\" y=\"-147.3\" font-family=\"Helvetica,sans-Serif\" font-size=\"14.00\" fill=\"#000000\">value = &#45;0.18</text>\n</g>\n<!-- 0&#45;&gt;1 -->\n<g id=\"edge1\" class=\"edge\">\n<title>0&#45;&gt;1</title>\n<path fill=\"none\" stroke=\"#000000\" d=\"M112.0316,-147.3778C120.4381,-149.4599 129.2401,-151.64 138.022,-153.815\"/>\n<polygon fill=\"#000000\" stroke=\"#000000\" points=\"137.3582,-157.2563 147.9064,-156.2632 139.0412,-150.4616 137.3582,-157.2563\"/>\n<text text-anchor=\"middle\" x=\"126.4972\" y=\"-165.4724\" font-family=\"Helvetica,sans-Serif\" font-size=\"14.00\" fill=\"#000000\">True</text>\n</g>\n<!-- 12 -->\n<g id=\"node13\" class=\"node\">\n<title>12</title>\n<path fill=\"#ea9a61\" stroke=\"#000000\" d=\"M257.5,-121C257.5,-121 177.5,-121 177.5,-121 171.5,-121 165.5,-115 165.5,-109 165.5,-109 165.5,-80 165.5,-80 165.5,-74 171.5,-68 177.5,-68 177.5,-68 257.5,-68 257.5,-68 263.5,-68 269.5,-74 269.5,-80 269.5,-80 269.5,-109 269.5,-109 269.5,-115 263.5,-121 257.5,-121\"/>\n<text text-anchor=\"middle\" x=\"217.5\" y=\"-105.8\" font-family=\"Helvetica,sans-Serif\" font-size=\"14.00\" fill=\"#000000\">mse = 0.86</text>\n<text text-anchor=\"middle\" x=\"217.5\" y=\"-90.8\" font-family=\"Helvetica,sans-Serif\" font-size=\"14.00\" fill=\"#000000\">samples = 32</text>\n<text text-anchor=\"middle\" x=\"217.5\" y=\"-75.8\" font-family=\"Helvetica,sans-Serif\" font-size=\"14.00\" fill=\"#000000\">value = 2.64</text>\n</g>\n<!-- 0&#45;&gt;12 -->\n<g id=\"edge12\" class=\"edge\">\n<title>0&#45;&gt;12</title>\n<path fill=\"none\" stroke=\"#000000\" d=\"M112.0316,-119.9691C126.0957,-116.5729 141.267,-112.9092 155.5992,-109.4482\"/>\n<polygon fill=\"#000000\" stroke=\"#000000\" points=\"156.4645,-112.8399 165.3635,-107.0902 154.8213,-106.0355 156.4645,-112.8399\"/>\n<text text-anchor=\"middle\" x=\"144.0301\" y=\"-90.3561\" font-family=\"Helvetica,sans-Serif\" font-size=\"14.00\" fill=\"#000000\">False</text>\n</g>\n<!-- 2 -->\n<g id=\"node3\" class=\"node\">\n<title>2</title>\n<path fill=\"#f9e0cf\" stroke=\"#000000\" d=\"M434,-250.5C434,-250.5 346,-250.5 346,-250.5 340,-250.5 334,-244.5 334,-238.5 334,-238.5 334,-194.5 334,-194.5 334,-188.5 340,-182.5 346,-182.5 346,-182.5 434,-182.5 434,-182.5 440,-182.5 446,-188.5 446,-194.5 446,-194.5 446,-238.5 446,-238.5 446,-244.5 440,-250.5 434,-250.5\"/>\n<text text-anchor=\"middle\" x=\"390\" y=\"-235.3\" font-family=\"Helvetica,sans-Serif\" font-size=\"14.00\" fill=\"#000000\">dis &lt;= &#45;1.1</text>\n<text text-anchor=\"middle\" x=\"390\" y=\"-220.3\" font-family=\"Helvetica,sans-Serif\" font-size=\"14.00\" fill=\"#000000\">mse = 0.67</text>\n<text text-anchor=\"middle\" x=\"390\" y=\"-205.3\" font-family=\"Helvetica,sans-Serif\" font-size=\"14.00\" fill=\"#000000\">samples = 187</text>\n<text text-anchor=\"middle\" x=\"390\" y=\"-190.3\" font-family=\"Helvetica,sans-Serif\" font-size=\"14.00\" fill=\"#000000\">value = 0.27</text>\n</g>\n<!-- 1&#45;&gt;2 -->\n<g id=\"edge2\" class=\"edge\">\n<title>1&#45;&gt;2</title>\n<path fill=\"none\" stroke=\"#000000\" d=\"M287.1651,-190.8658C299.2917,-193.8887 311.8728,-197.0248 323.9002,-200.0229\"/>\n<polygon fill=\"#000000\" stroke=\"#000000\" points=\"323.3011,-203.4806 333.8508,-202.5034 324.9943,-196.6885 323.3011,-203.4806\"/>\n</g>\n<!-- 7 -->\n<g id=\"node8\" class=\"node\">\n<title>7</title>\n<path fill=\"#fdf6f1\" stroke=\"#000000\" d=\"M445,-164.5C445,-164.5 335,-164.5 335,-164.5 329,-164.5 323,-158.5 323,-152.5 323,-152.5 323,-108.5 323,-108.5 323,-102.5 329,-96.5 335,-96.5 335,-96.5 445,-96.5 445,-96.5 451,-96.5 457,-102.5 457,-108.5 457,-108.5 457,-152.5 457,-152.5 457,-158.5 451,-164.5 445,-164.5\"/>\n<text text-anchor=\"middle\" x=\"390\" y=\"-149.3\" font-family=\"Helvetica,sans-Serif\" font-size=\"14.00\" fill=\"#000000\">LOG_lstat &lt;= 0.48</text>\n<text text-anchor=\"middle\" x=\"390\" y=\"-134.3\" font-family=\"Helvetica,sans-Serif\" font-size=\"14.00\" fill=\"#000000\">mse = 0.19</text>\n<text text-anchor=\"middle\" x=\"390\" y=\"-119.3\" font-family=\"Helvetica,sans-Serif\" font-size=\"14.00\" fill=\"#000000\">samples = 287</text>\n<text text-anchor=\"middle\" x=\"390\" y=\"-104.3\" font-family=\"Helvetica,sans-Serif\" font-size=\"14.00\" fill=\"#000000\">value = &#45;0.47</text>\n</g>\n<!-- 1&#45;&gt;7 -->\n<g id=\"edge7\" class=\"edge\">\n<title>1&#45;&gt;7</title>\n<path fill=\"none\" stroke=\"#000000\" d=\"M287.1651,-156.1342C295.6333,-154.0233 304.3231,-151.8571 312.8912,-149.7213\"/>\n<polygon fill=\"#000000\" stroke=\"#000000\" points=\"314.0164,-153.048 322.8729,-147.2331 312.3232,-146.2559 314.0164,-153.048\"/>\n</g>\n<!-- 3 -->\n<g id=\"node4\" class=\"node\">\n<title>3</title>\n<path fill=\"#e58139\" stroke=\"#000000\" d=\"M585,-320C585,-320 513,-320 513,-320 507,-320 501,-314 501,-308 501,-308 501,-279 501,-279 501,-273 507,-267 513,-267 513,-267 585,-267 585,-267 591,-267 597,-273 597,-279 597,-279 597,-308 597,-308 597,-314 591,-320 585,-320\"/>\n<text text-anchor=\"middle\" x=\"549\" y=\"-304.8\" font-family=\"Helvetica,sans-Serif\" font-size=\"14.00\" fill=\"#000000\">mse = 0.0</text>\n<text text-anchor=\"middle\" x=\"549\" y=\"-289.8\" font-family=\"Helvetica,sans-Serif\" font-size=\"14.00\" fill=\"#000000\">samples = 5</text>\n<text text-anchor=\"middle\" x=\"549\" y=\"-274.8\" font-family=\"Helvetica,sans-Serif\" font-size=\"14.00\" fill=\"#000000\">value = 3.51</text>\n</g>\n<!-- 2&#45;&gt;3 -->\n<g id=\"edge3\" class=\"edge\">\n<title>2&#45;&gt;3</title>\n<path fill=\"none\" stroke=\"#000000\" d=\"M446.0575,-243.6473C460.8657,-250.8186 476.8657,-258.567 491.7368,-265.7688\"/>\n<polygon fill=\"#000000\" stroke=\"#000000\" points=\"490.3038,-268.9636 500.8295,-270.1722 493.3549,-262.6635 490.3038,-268.9636\"/>\n</g>\n<!-- 4 -->\n<g id=\"node5\" class=\"node\">\n<title>4</title>\n<path fill=\"#f9e3d3\" stroke=\"#000000\" d=\"M593,-248.5C593,-248.5 505,-248.5 505,-248.5 499,-248.5 493,-242.5 493,-236.5 493,-236.5 493,-192.5 493,-192.5 493,-186.5 499,-180.5 505,-180.5 505,-180.5 593,-180.5 593,-180.5 599,-180.5 605,-186.5 605,-192.5 605,-192.5 605,-236.5 605,-236.5 605,-242.5 599,-248.5 593,-248.5\"/>\n<text text-anchor=\"middle\" x=\"549\" y=\"-233.3\" font-family=\"Helvetica,sans-Serif\" font-size=\"14.00\" fill=\"#000000\">rm2 &lt;= 0.62</text>\n<text text-anchor=\"middle\" x=\"549\" y=\"-218.3\" font-family=\"Helvetica,sans-Serif\" font-size=\"14.00\" fill=\"#000000\">mse = 0.39</text>\n<text text-anchor=\"middle\" x=\"549\" y=\"-203.3\" font-family=\"Helvetica,sans-Serif\" font-size=\"14.00\" fill=\"#000000\">samples = 182</text>\n<text text-anchor=\"middle\" x=\"549\" y=\"-188.3\" font-family=\"Helvetica,sans-Serif\" font-size=\"14.00\" fill=\"#000000\">value = 0.18</text>\n</g>\n<!-- 2&#45;&gt;4 -->\n<g id=\"edge4\" class=\"edge\">\n<title>2&#45;&gt;4</title>\n<path fill=\"none\" stroke=\"#000000\" d=\"M446.0575,-215.7949C457.932,-215.6455 470.5728,-215.4865 482.7834,-215.3329\"/>\n<polygon fill=\"#000000\" stroke=\"#000000\" points=\"482.9577,-218.8311 492.9128,-215.2055 482.8696,-211.8316 482.9577,-218.8311\"/>\n</g>\n<!-- 5 -->\n<g id=\"node6\" class=\"node\">\n<title>5</title>\n<path fill=\"#fbebe0\" stroke=\"#000000\" d=\"M741,-289C741,-289 653,-289 653,-289 647,-289 641,-283 641,-277 641,-277 641,-248 641,-248 641,-242 647,-236 653,-236 653,-236 741,-236 741,-236 747,-236 753,-242 753,-248 753,-248 753,-277 753,-277 753,-283 747,-289 741,-289\"/>\n<text text-anchor=\"middle\" x=\"697\" y=\"-273.8\" font-family=\"Helvetica,sans-Serif\" font-size=\"14.00\" fill=\"#000000\">mse = 0.16</text>\n<text text-anchor=\"middle\" x=\"697\" y=\"-258.8\" font-family=\"Helvetica,sans-Serif\" font-size=\"14.00\" fill=\"#000000\">samples = 126</text>\n<text text-anchor=\"middle\" x=\"697\" y=\"-243.8\" font-family=\"Helvetica,sans-Serif\" font-size=\"14.00\" fill=\"#000000\">value = &#45;0.11</text>\n</g>\n<!-- 4&#45;&gt;5 -->\n<g id=\"edge5\" class=\"edge\">\n<title>4&#45;&gt;5</title>\n<path fill=\"none\" stroke=\"#000000\" d=\"M605.3747,-232.7837C613.8027,-235.5171 622.5545,-238.3555 631.1575,-241.1457\"/>\n<polygon fill=\"#000000\" stroke=\"#000000\" points=\"630.1901,-244.5113 640.7821,-244.2672 632.3496,-237.8528 630.1901,-244.5113\"/>\n</g>\n<!-- 6 -->\n<g id=\"node7\" class=\"node\">\n<title>6</title>\n<path fill=\"#f5d0b5\" stroke=\"#000000\" d=\"M737,-218C737,-218 657,-218 657,-218 651,-218 645,-212 645,-206 645,-206 645,-177 645,-177 645,-171 651,-165 657,-165 657,-165 737,-165 737,-165 743,-165 749,-171 749,-177 749,-177 749,-206 749,-206 749,-212 743,-218 737,-218\"/>\n<text text-anchor=\"middle\" x=\"697\" y=\"-202.8\" font-family=\"Helvetica,sans-Serif\" font-size=\"14.00\" fill=\"#000000\">mse = 0.3</text>\n<text text-anchor=\"middle\" x=\"697\" y=\"-187.8\" font-family=\"Helvetica,sans-Serif\" font-size=\"14.00\" fill=\"#000000\">samples = 56</text>\n<text text-anchor=\"middle\" x=\"697\" y=\"-172.8\" font-family=\"Helvetica,sans-Serif\" font-size=\"14.00\" fill=\"#000000\">value = 0.82</text>\n</g>\n<!-- 4&#45;&gt;6 -->\n<g id=\"edge6\" class=\"edge\">\n<title>4&#45;&gt;6</title>\n<path fill=\"none\" stroke=\"#000000\" d=\"M605.3747,-205.7391C614.954,-204.2504 624.9516,-202.6967 634.6736,-201.1859\"/>\n<polygon fill=\"#000000\" stroke=\"#000000\" points=\"635.332,-204.6256 644.6759,-199.6314 634.257,-197.7087 635.332,-204.6256\"/>\n</g>\n<!-- 8 -->\n<g id=\"node9\" class=\"node\">\n<title>8</title>\n<path fill=\"#fcefe6\" stroke=\"#000000\" d=\"M593,-159C593,-159 505,-159 505,-159 499,-159 493,-153 493,-147 493,-147 493,-118 493,-118 493,-112 499,-106 505,-106 505,-106 593,-106 593,-106 599,-106 605,-112 605,-118 605,-118 605,-147 605,-147 605,-153 599,-159 593,-159\"/>\n<text text-anchor=\"middle\" x=\"549\" y=\"-143.8\" font-family=\"Helvetica,sans-Serif\" font-size=\"14.00\" fill=\"#000000\">mse = 0.12</text>\n<text text-anchor=\"middle\" x=\"549\" y=\"-128.8\" font-family=\"Helvetica,sans-Serif\" font-size=\"14.00\" fill=\"#000000\">samples = 106</text>\n<text text-anchor=\"middle\" x=\"549\" y=\"-113.8\" font-family=\"Helvetica,sans-Serif\" font-size=\"14.00\" fill=\"#000000\">value = &#45;0.23</text>\n</g>\n<!-- 7&#45;&gt;8 -->\n<g id=\"edge8\" class=\"edge\">\n<title>7&#45;&gt;8</title>\n<path fill=\"none\" stroke=\"#000000\" d=\"M457.4303,-131.3482C465.8546,-131.4541 474.464,-131.5624 482.8682,-131.6682\"/>\n<polygon fill=\"#000000\" stroke=\"#000000\" points=\"482.9482,-135.1693 492.9915,-131.7955 483.0363,-128.1699 482.9482,-135.1693\"/>\n</g>\n<!-- 9 -->\n<g id=\"node10\" class=\"node\">\n<title>9</title>\n<path fill=\"#fefaf7\" stroke=\"#000000\" d=\"M593,-87.5C593,-87.5 505,-87.5 505,-87.5 499,-87.5 493,-81.5 493,-75.5 493,-75.5 493,-31.5 493,-31.5 493,-25.5 499,-19.5 505,-19.5 505,-19.5 593,-19.5 593,-19.5 599,-19.5 605,-25.5 605,-31.5 605,-31.5 605,-75.5 605,-75.5 605,-81.5 599,-87.5 593,-87.5\"/>\n<text text-anchor=\"middle\" x=\"549\" y=\"-72.3\" font-family=\"Helvetica,sans-Serif\" font-size=\"14.00\" fill=\"#000000\">dis &lt;= &#45;0.82</text>\n<text text-anchor=\"middle\" x=\"549\" y=\"-57.3\" font-family=\"Helvetica,sans-Serif\" font-size=\"14.00\" fill=\"#000000\">mse = 0.17</text>\n<text text-anchor=\"middle\" x=\"549\" y=\"-42.3\" font-family=\"Helvetica,sans-Serif\" font-size=\"14.00\" fill=\"#000000\">samples = 181</text>\n<text text-anchor=\"middle\" x=\"549\" y=\"-27.3\" font-family=\"Helvetica,sans-Serif\" font-size=\"14.00\" fill=\"#000000\">value = &#45;0.61</text>\n</g>\n<!-- 7&#45;&gt;9 -->\n<g id=\"edge9\" class=\"edge\">\n<title>7&#45;&gt;9</title>\n<path fill=\"none\" stroke=\"#000000\" d=\"M457.4303,-97.8451C466.2249,-93.5861 475.2212,-89.2293 483.9752,-84.99\"/>\n<polygon fill=\"#000000\" stroke=\"#000000\" points=\"485.5168,-88.1323 492.9915,-80.6236 482.4658,-81.8322 485.5168,-88.1323\"/>\n</g>\n<!-- 10 -->\n<g id=\"node11\" class=\"node\">\n<title>10</title>\n<path fill=\"#ffffff\" stroke=\"#000000\" d=\"M737,-124C737,-124 657,-124 657,-124 651,-124 645,-118 645,-112 645,-112 645,-83 645,-83 645,-77 651,-71 657,-71 657,-71 737,-71 737,-71 743,-71 749,-77 749,-83 749,-83 749,-112 749,-112 749,-118 743,-124 737,-124\"/>\n<text text-anchor=\"middle\" x=\"697\" y=\"-108.8\" font-family=\"Helvetica,sans-Serif\" font-size=\"14.00\" fill=\"#000000\">mse = 0.16</text>\n<text text-anchor=\"middle\" x=\"697\" y=\"-93.8\" font-family=\"Helvetica,sans-Serif\" font-size=\"14.00\" fill=\"#000000\">samples = 93</text>\n<text text-anchor=\"middle\" x=\"697\" y=\"-78.8\" font-family=\"Helvetica,sans-Serif\" font-size=\"14.00\" fill=\"#000000\">value = &#45;0.77</text>\n</g>\n<!-- 9&#45;&gt;10 -->\n<g id=\"edge10\" class=\"edge\">\n<title>9&#45;&gt;10</title>\n<path fill=\"none\" stroke=\"#000000\" d=\"M605.3747,-70.26C615.0548,-73.1379 625.1622,-76.1428 634.9805,-79.0618\"/>\n<polygon fill=\"#000000\" stroke=\"#000000\" points=\"634.0931,-82.4493 644.6759,-81.9442 636.088,-75.7395 634.0931,-82.4493\"/>\n</g>\n<!-- 11 -->\n<g id=\"node12\" class=\"node\">\n<title>11</title>\n<path fill=\"#fdf5ef\" stroke=\"#000000\" d=\"M737,-53C737,-53 657,-53 657,-53 651,-53 645,-47 645,-41 645,-41 645,-12 645,-12 645,-6 651,0 657,0 657,0 737,0 737,0 743,0 749,-6 749,-12 749,-12 749,-41 749,-41 749,-47 743,-53 737,-53\"/>\n<text text-anchor=\"middle\" x=\"697\" y=\"-37.8\" font-family=\"Helvetica,sans-Serif\" font-size=\"14.00\" fill=\"#000000\">mse = 0.13</text>\n<text text-anchor=\"middle\" x=\"697\" y=\"-22.8\" font-family=\"Helvetica,sans-Serif\" font-size=\"14.00\" fill=\"#000000\">samples = 88</text>\n<text text-anchor=\"middle\" x=\"697\" y=\"-7.8\" font-family=\"Helvetica,sans-Serif\" font-size=\"14.00\" fill=\"#000000\">value = &#45;0.44</text>\n</g>\n<!-- 9&#45;&gt;11 -->\n<g id=\"edge11\" class=\"edge\">\n<title>9&#45;&gt;11</title>\n<path fill=\"none\" stroke=\"#000000\" d=\"M605.3747,-43.2154C614.954,-41.4679 624.9516,-39.644 634.6736,-37.8704\"/>\n<polygon fill=\"#000000\" stroke=\"#000000\" points=\"635.4665,-41.2836 644.6759,-36.0456 634.2101,-34.3972 635.4665,-41.2836\"/>\n</g>\n</g>\n</svg>\n"
          },
          "metadata": {},
          "execution_count": 25
        }
      ]
    },
    {
      "cell_type": "markdown",
      "metadata": {
        "id": "CJH5VjSR08pV"
      },
      "source": [
        "# TODO\n",
        "- Tree walkthrough\n",
        "- Explain transforms"
      ]
    }
  ]
}