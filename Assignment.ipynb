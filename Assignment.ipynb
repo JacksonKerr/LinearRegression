{
  "nbformat": 4,
  "nbformat_minor": 0,
  "metadata": {
    "colab": {
      "name": "Assignment.ipynb",
      "provenance": []
    },
    "kernelspec": {
      "name": "python3",
      "display_name": "Python 3"
    },
    "language_info": {
      "name": "python"
    }
  },
  "cells": [
    {
      "cell_type": "markdown",
      "metadata": {
        "id": "Sffu5kODcxcZ"
      },
      "source": [
        "#INFO204 Assignment 1\n",
        "---\n",
        "*Jackson Kerr | 2942576*\n",
        "\n",
        "[GitHub Repo](https://github.com/JacksonKerr/LinearRegression)\n",
        "\n",
        "---\n",
        "\n"
      ]
    },
    {
      "cell_type": "markdown",
      "metadata": {
        "id": "lFWvOExer6QW"
      },
      "source": [
        "#### Doc Options:"
      ]
    },
    {
      "cell_type": "code",
      "metadata": {
        "id": "8YGcrv15ounG"
      },
      "source": [
        "fast = True         # If true, uses stored graph images from GitHub repo for speed\n",
        "dataFromGit = True  # If true, automatically get the data from github repo"
      ],
      "execution_count": 1,
      "outputs": []
    },
    {
      "cell_type": "markdown",
      "metadata": {
        "id": "13a85jgadaHL"
      },
      "source": [
        "##Gettin That Data:\n",
        "Let's start by importing the modified boston data.\n",
        "\n"
      ]
    },
    {
      "cell_type": "code",
      "metadata": {
        "colab": {
          "base_uri": "https://localhost:8080/",
          "height": 0
        },
        "id": "SbkubVVIawyo",
        "outputId": "30067a99-5d85-4a77-f42a-dd7f7a754cb7"
      },
      "source": [
        "import pandas as pd\n",
        "import io\n",
        "from google.colab import files\n",
        "\n",
        "bost = pd.DataFrame()\n",
        "if dataFromGit:\n",
        "  url = \"https://raw.githubusercontent.com/JacksonKerr/LinearRegression/main/modified_boston.csv\"\n",
        "  bost = pd.read_csv(url, index_col=0)\n",
        "else:\n",
        "  uploaded = files.upload()\n",
        "  for fn in uploaded.keys():\n",
        "    print('User uploaded file \"{name}\" with length {length} bytes'.format(\n",
        "        name=fn, length=len(uploaded[fn])))\n",
        "  bost = pd.read_csv(io.BytesIO(uploaded['modified_boston.csv']), index_col=0)\n",
        "\n",
        "# Keep a copy of the original data so we are free to perform EDA\n",
        "bost_virgin = bost.copy()\n",
        "bost"
      ],
      "execution_count": 2,
      "outputs": [
        {
          "output_type": "execute_result",
          "data": {
            "text/html": [
              "<div>\n",
              "<style scoped>\n",
              "    .dataframe tbody tr th:only-of-type {\n",
              "        vertical-align: middle;\n",
              "    }\n",
              "\n",
              "    .dataframe tbody tr th {\n",
              "        vertical-align: top;\n",
              "    }\n",
              "\n",
              "    .dataframe thead th {\n",
              "        text-align: right;\n",
              "    }\n",
              "</style>\n",
              "<table border=\"1\" class=\"dataframe\">\n",
              "  <thead>\n",
              "    <tr style=\"text-align: right;\">\n",
              "      <th></th>\n",
              "      <th>crim</th>\n",
              "      <th>zn</th>\n",
              "      <th>indus</th>\n",
              "      <th>chas</th>\n",
              "      <th>nox</th>\n",
              "      <th>rm</th>\n",
              "      <th>age</th>\n",
              "      <th>dis</th>\n",
              "      <th>rad</th>\n",
              "      <th>tax</th>\n",
              "      <th>ptratio</th>\n",
              "      <th>b</th>\n",
              "      <th>lstat</th>\n",
              "      <th>medv</th>\n",
              "    </tr>\n",
              "  </thead>\n",
              "  <tbody>\n",
              "    <tr>\n",
              "      <th>0</th>\n",
              "      <td>0.00632</td>\n",
              "      <td>18.0</td>\n",
              "      <td>2.31</td>\n",
              "      <td>0.0</td>\n",
              "      <td>0.538</td>\n",
              "      <td>6.575</td>\n",
              "      <td>65.2</td>\n",
              "      <td>4.0900</td>\n",
              "      <td>1.0</td>\n",
              "      <td>296.0</td>\n",
              "      <td>15.3</td>\n",
              "      <td>396.90</td>\n",
              "      <td>4.98</td>\n",
              "      <td>11.292897</td>\n",
              "    </tr>\n",
              "    <tr>\n",
              "      <th>1</th>\n",
              "      <td>0.02731</td>\n",
              "      <td>0.0</td>\n",
              "      <td>7.07</td>\n",
              "      <td>0.0</td>\n",
              "      <td>0.469</td>\n",
              "      <td>6.421</td>\n",
              "      <td>78.9</td>\n",
              "      <td>4.9671</td>\n",
              "      <td>2.0</td>\n",
              "      <td>242.0</td>\n",
              "      <td>17.8</td>\n",
              "      <td>396.90</td>\n",
              "      <td>9.14</td>\n",
              "      <td>15.113707</td>\n",
              "    </tr>\n",
              "    <tr>\n",
              "      <th>2</th>\n",
              "      <td>0.02729</td>\n",
              "      <td>0.0</td>\n",
              "      <td>7.07</td>\n",
              "      <td>0.0</td>\n",
              "      <td>0.469</td>\n",
              "      <td>7.185</td>\n",
              "      <td>61.1</td>\n",
              "      <td>4.9671</td>\n",
              "      <td>2.0</td>\n",
              "      <td>242.0</td>\n",
              "      <td>17.8</td>\n",
              "      <td>392.83</td>\n",
              "      <td>4.03</td>\n",
              "      <td>26.034624</td>\n",
              "    </tr>\n",
              "    <tr>\n",
              "      <th>3</th>\n",
              "      <td>0.03237</td>\n",
              "      <td>0.0</td>\n",
              "      <td>2.18</td>\n",
              "      <td>0.0</td>\n",
              "      <td>0.458</td>\n",
              "      <td>6.998</td>\n",
              "      <td>45.8</td>\n",
              "      <td>6.0622</td>\n",
              "      <td>3.0</td>\n",
              "      <td>222.0</td>\n",
              "      <td>18.7</td>\n",
              "      <td>394.63</td>\n",
              "      <td>2.94</td>\n",
              "      <td>29.201223</td>\n",
              "    </tr>\n",
              "    <tr>\n",
              "      <th>4</th>\n",
              "      <td>0.06905</td>\n",
              "      <td>0.0</td>\n",
              "      <td>2.18</td>\n",
              "      <td>0.0</td>\n",
              "      <td>0.458</td>\n",
              "      <td>7.147</td>\n",
              "      <td>54.2</td>\n",
              "      <td>6.0622</td>\n",
              "      <td>3.0</td>\n",
              "      <td>222.0</td>\n",
              "      <td>18.7</td>\n",
              "      <td>396.90</td>\n",
              "      <td>5.33</td>\n",
              "      <td>24.099477</td>\n",
              "    </tr>\n",
              "    <tr>\n",
              "      <th>...</th>\n",
              "      <td>...</td>\n",
              "      <td>...</td>\n",
              "      <td>...</td>\n",
              "      <td>...</td>\n",
              "      <td>...</td>\n",
              "      <td>...</td>\n",
              "      <td>...</td>\n",
              "      <td>...</td>\n",
              "      <td>...</td>\n",
              "      <td>...</td>\n",
              "      <td>...</td>\n",
              "      <td>...</td>\n",
              "      <td>...</td>\n",
              "      <td>...</td>\n",
              "    </tr>\n",
              "    <tr>\n",
              "      <th>501</th>\n",
              "      <td>0.06263</td>\n",
              "      <td>0.0</td>\n",
              "      <td>11.93</td>\n",
              "      <td>0.0</td>\n",
              "      <td>0.573</td>\n",
              "      <td>6.593</td>\n",
              "      <td>69.1</td>\n",
              "      <td>2.4786</td>\n",
              "      <td>1.0</td>\n",
              "      <td>273.0</td>\n",
              "      <td>21.0</td>\n",
              "      <td>391.99</td>\n",
              "      <td>9.67</td>\n",
              "      <td>12.242679</td>\n",
              "    </tr>\n",
              "    <tr>\n",
              "      <th>502</th>\n",
              "      <td>0.04527</td>\n",
              "      <td>0.0</td>\n",
              "      <td>11.93</td>\n",
              "      <td>0.0</td>\n",
              "      <td>0.573</td>\n",
              "      <td>6.120</td>\n",
              "      <td>76.7</td>\n",
              "      <td>2.2875</td>\n",
              "      <td>1.0</td>\n",
              "      <td>273.0</td>\n",
              "      <td>21.0</td>\n",
              "      <td>396.90</td>\n",
              "      <td>9.08</td>\n",
              "      <td>17.066060</td>\n",
              "    </tr>\n",
              "    <tr>\n",
              "      <th>503</th>\n",
              "      <td>0.06076</td>\n",
              "      <td>0.0</td>\n",
              "      <td>11.93</td>\n",
              "      <td>0.0</td>\n",
              "      <td>0.573</td>\n",
              "      <td>6.976</td>\n",
              "      <td>91.0</td>\n",
              "      <td>2.1675</td>\n",
              "      <td>1.0</td>\n",
              "      <td>273.0</td>\n",
              "      <td>21.0</td>\n",
              "      <td>396.90</td>\n",
              "      <td>5.64</td>\n",
              "      <td>11.036473</td>\n",
              "    </tr>\n",
              "    <tr>\n",
              "      <th>504</th>\n",
              "      <td>0.10959</td>\n",
              "      <td>0.0</td>\n",
              "      <td>11.93</td>\n",
              "      <td>0.0</td>\n",
              "      <td>0.573</td>\n",
              "      <td>6.794</td>\n",
              "      <td>89.3</td>\n",
              "      <td>2.3889</td>\n",
              "      <td>1.0</td>\n",
              "      <td>273.0</td>\n",
              "      <td>21.0</td>\n",
              "      <td>393.45</td>\n",
              "      <td>6.48</td>\n",
              "      <td>13.672169</td>\n",
              "    </tr>\n",
              "    <tr>\n",
              "      <th>505</th>\n",
              "      <td>0.04741</td>\n",
              "      <td>0.0</td>\n",
              "      <td>11.93</td>\n",
              "      <td>0.0</td>\n",
              "      <td>0.573</td>\n",
              "      <td>6.030</td>\n",
              "      <td>80.8</td>\n",
              "      <td>2.5050</td>\n",
              "      <td>1.0</td>\n",
              "      <td>273.0</td>\n",
              "      <td>21.0</td>\n",
              "      <td>396.90</td>\n",
              "      <td>7.88</td>\n",
              "      <td>4.767363</td>\n",
              "    </tr>\n",
              "  </tbody>\n",
              "</table>\n",
              "<p>506 rows × 14 columns</p>\n",
              "</div>"
            ],
            "text/plain": [
              "        crim    zn  indus  chas  ...  ptratio       b  lstat       medv\n",
              "0    0.00632  18.0   2.31   0.0  ...     15.3  396.90   4.98  11.292897\n",
              "1    0.02731   0.0   7.07   0.0  ...     17.8  396.90   9.14  15.113707\n",
              "2    0.02729   0.0   7.07   0.0  ...     17.8  392.83   4.03  26.034624\n",
              "3    0.03237   0.0   2.18   0.0  ...     18.7  394.63   2.94  29.201223\n",
              "4    0.06905   0.0   2.18   0.0  ...     18.7  396.90   5.33  24.099477\n",
              "..       ...   ...    ...   ...  ...      ...     ...    ...        ...\n",
              "501  0.06263   0.0  11.93   0.0  ...     21.0  391.99   9.67  12.242679\n",
              "502  0.04527   0.0  11.93   0.0  ...     21.0  396.90   9.08  17.066060\n",
              "503  0.06076   0.0  11.93   0.0  ...     21.0  396.90   5.64  11.036473\n",
              "504  0.10959   0.0  11.93   0.0  ...     21.0  393.45   6.48  13.672169\n",
              "505  0.04741   0.0  11.93   0.0  ...     21.0  396.90   7.88   4.767363\n",
              "\n",
              "[506 rows x 14 columns]"
            ]
          },
          "metadata": {},
          "execution_count": 2
        }
      ]
    },
    {
      "cell_type": "markdown",
      "metadata": {
        "id": "EXdvCHRudxSi"
      },
      "source": [
        "#### Description:"
      ]
    },
    {
      "cell_type": "markdown",
      "metadata": {
        "id": "AErXBUzlfGyY"
      },
      "source": [
        "From [cs.toronto.edu](https://www.cs.toronto.edu/~delve/data/boston/bostonDetail.html)\n",
        "\n",
        "| Variable | Explaination|\n",
        "|----------|-------------|\n",
        "| CRIM     | per capita crime rate by town |\n",
        "| ZN       | proportion of residential land zoned for lots over 25,000 sq.ft. |\n",
        "| INDUS    | proportion of non-retail business acres per town. |\n",
        "| CHAS     | Charles River dummy var (1 if tract bounds river; 0 otherwise) |\n",
        "| NOX      | nitric oxides concentration (parts per 10 million) |\n",
        "| RM       | average number of rooms per dwelling |\n",
        "| AGE      | proportion of owner-occupied units built prior to 1940 |\n",
        "| DIS      | weighted distances to five Boston employment centres |\n",
        "| RAD      | index of accessibility to radial highways |\n",
        "| TAX      | full-value property-tax rate per \\$10,000 |\n",
        "| PTRATIO  | pupil-teacher ratio by town |\n",
        "| B        | 1000(Bk - 0.63)^2 where Bk is the proportion of blacks by town |\n",
        "| LSTAT    | % lower status of the population |\n",
        "| MEDV     | Median value of owner-occupied homes in $1000's |"
      ]
    },
    {
      "cell_type": "markdown",
      "metadata": {
        "id": "k9YYp9KDkyq5"
      },
      "source": [
        "Let's have a look at the fields."
      ]
    },
    {
      "cell_type": "code",
      "metadata": {
        "colab": {
          "base_uri": "https://localhost:8080/"
        },
        "id": "INiPi44XcpNU",
        "outputId": "ef351bac-198b-43cd-c9d7-76a28232fb92"
      },
      "source": [
        "bost.info()"
      ],
      "execution_count": 3,
      "outputs": [
        {
          "output_type": "stream",
          "text": [
            "<class 'pandas.core.frame.DataFrame'>\n",
            "Int64Index: 506 entries, 0 to 505\n",
            "Data columns (total 14 columns):\n",
            " #   Column   Non-Null Count  Dtype  \n",
            "---  ------   --------------  -----  \n",
            " 0   crim     506 non-null    float64\n",
            " 1   zn       506 non-null    float64\n",
            " 2   indus    506 non-null    float64\n",
            " 3   chas     506 non-null    float64\n",
            " 4   nox      506 non-null    float64\n",
            " 5   rm       506 non-null    float64\n",
            " 6   age      506 non-null    float64\n",
            " 7   dis      506 non-null    float64\n",
            " 8   rad      506 non-null    float64\n",
            " 9   tax      506 non-null    float64\n",
            " 10  ptratio  506 non-null    float64\n",
            " 11  b        506 non-null    float64\n",
            " 12  lstat    506 non-null    float64\n",
            " 13  medv     506 non-null    float64\n",
            "dtypes: float64(14)\n",
            "memory usage: 59.3 KB\n"
          ],
          "name": "stdout"
        }
      ]
    },
    {
      "cell_type": "markdown",
      "metadata": {
        "id": "2DdAh8jVk3na"
      },
      "source": [
        "Looks simple. No missing values. All float64 decimal numbers."
      ]
    },
    {
      "cell_type": "markdown",
      "metadata": {
        "id": "_y4lKnevdjO7"
      },
      "source": [
        "## Exploratory Data Analysis"
      ]
    },
    {
      "cell_type": "markdown",
      "metadata": {
        "id": "weKncf_Hl5Ab"
      },
      "source": [
        "Let's look at the relationships between the variables using hue=\"chas\" as it's the only categorical variable."
      ]
    },
    {
      "cell_type": "code",
      "metadata": {
        "id": "6cdXbgPTh_Rg",
        "colab": {
          "base_uri": "https://localhost:8080/",
          "height": 0
        },
        "outputId": "7be06d69-7171-4ab2-dcb7-533c4d0cb363"
      },
      "source": [
        "import seaborn as sns\n",
        "import numpy as np\n",
        "\n",
        "if fast:\n",
        "  # Get stored pairplot from GitHub repo\n",
        "  from IPython.display import Image\n",
        "  from IPython.core.display import HTML \n",
        "  img = Image(url= \"https://raw.githubusercontent.com/JacksonKerr/LinearRegression/main/resources/initial_pairplot.png\")\n",
        "else:\n",
        "  # Create directly\n",
        "  img = sns.pairplot(bost, hue=\"chas\")\n",
        "img"
      ],
      "execution_count": 4,
      "outputs": [
        {
          "output_type": "execute_result",
          "data": {
            "text/html": [
              "<img src=\"https://raw.githubusercontent.com/JacksonKerr/LinearRegression/main/resources/initial_pairplot.png\"/>"
            ],
            "text/plain": [
              "<IPython.core.display.Image object>"
            ]
          },
          "metadata": {},
          "execution_count": 4
        }
      ]
    },
    {
      "cell_type": "markdown",
      "metadata": {
        "id": "CJirsAXlrnLF"
      },
      "source": [
        "### Upon Examination:\n",
        "- There doesen't seem to be any meaningful grouping going on with the CHAS variable.\n",
        "- There aren't any strong linear relationships between any of the variables.\n",
        "- There appears to a non-linear relationship between:\n",
        "  - RM and MEDV\n",
        "  - LSTAT and MEDV\n",
        "  - DIS and NOX\n",
        "- Age does not seem to be correlated with MEDV\n",
        "\n",
        "We will analyse these points one at a time."
      ]
    },
    {
      "cell_type": "markdown",
      "metadata": {
        "id": "-pUfT8xSACBb"
      },
      "source": [
        "#### 1. There doesen't seem to be any meaningful grouping going on with the CHAS variable.\n",
        "\n",
        "This is good, it means this data is likely to work well with a single model. We don't need to 'break up' the problem depending on CHAS."
      ]
    },
    {
      "cell_type": "markdown",
      "metadata": {
        "id": "6MK55wnCAW-_"
      },
      "source": [
        "#### 2. There aren't any strong linear relationships between any of the variables.\n",
        "\n",
        "Ideally at least one variable would have a strong relationship with the output but such is the way of life.\n"
      ]
    },
    {
      "cell_type": "markdown",
      "metadata": {
        "id": "q0d1iYIbA_zI"
      },
      "source": [
        "#### 3. There appears to be a non-linear relationship between:"
      ]
    },
    {
      "cell_type": "markdown",
      "metadata": {
        "id": "10QdCAHbBqlb"
      },
      "source": [
        "##### 3a. RM and MEDV\n",
        "The scatter plot of RM and MEDV shows somewhat of a non-linear relationship between them.\n",
        "By transforming RM, we can create a new variable which more closely models a linear relationship.\n",
        "We can now drop RM and use the new variable RM²\n",
        "\n",
        "\n"
      ]
    },
    {
      "cell_type": "code",
      "metadata": {
        "id": "bs48XLBfET-Z",
        "colab": {
          "base_uri": "https://localhost:8080/",
          "height": 0
        },
        "outputId": "6321cda5-7296-41dd-d7af-77a06a292f10"
      },
      "source": [
        "sns.scatterplot(x=bost[\"rm\"], y=bost[\"medv\"])"
      ],
      "execution_count": 5,
      "outputs": [
        {
          "output_type": "execute_result",
          "data": {
            "text/plain": [
              "<matplotlib.axes._subplots.AxesSubplot at 0x7f731e8c39d0>"
            ]
          },
          "metadata": {},
          "execution_count": 5
        },
        {
          "output_type": "display_data",
          "data": {
            "image/png": "[encoded data removed]",
            "text/plain": [
              "<Figure size 432x288 with 1 Axes>"
            ]
          },
          "metadata": {
            "needs_background": "light"
          }
        }
      ]
    },
    {
      "cell_type": "code",
      "metadata": {
        "id": "U1R-d6UAUUM_",
        "colab": {
          "base_uri": "https://localhost:8080/",
          "height": 0
        },
        "outputId": "0d3695b3-8aee-4d86-b183-02b164953e44"
      },
      "source": [
        "# Remove RM and replace with RM2 = RM²\n",
        "if \"rm\" in bost.columns:\n",
        "  bost.insert(2, \"rm2\", bost[\"rm\"].copy()**2, True)\n",
        "  bost = bost.drop(['rm'], axis=1)\n",
        "\n",
        "sns.scatterplot(x=bost[\"rm2\"], y=bost[\"medv\"])"
      ],
      "execution_count": 6,
      "outputs": [
        {
          "output_type": "execute_result",
          "data": {
            "text/plain": [
              "<matplotlib.axes._subplots.AxesSubplot at 0x7f731d5e5450>"
            ]
          },
          "metadata": {},
          "execution_count": 6
        },
        {
          "output_type": "display_data",
          "data": {
            "image/png": "[encoded data removed]",
            "text/plain": [
              "<Figure size 432x288 with 1 Axes>"
            ]
          },
          "metadata": {
            "needs_background": "light"
          }
        }
      ]
    },
    {
      "cell_type": "markdown",
      "metadata": {
        "id": "eBEC7TqzIQD3"
      },
      "source": [
        "That looks a lot better."
      ]
    },
    {
      "cell_type": "markdown",
      "metadata": {
        "id": "_ck6IgafBNas"
      },
      "source": [
        "##### 3b. LSAT and MEDV\n",
        "Here we can repeat a similar process as for RM and MEDV\n"
      ]
    },
    {
      "cell_type": "code",
      "metadata": {
        "id": "SERlCsJ6Iloe",
        "colab": {
          "base_uri": "https://localhost:8080/",
          "height": 0
        },
        "outputId": "d9be7e9d-cda3-4395-d1b0-711b8a7adfee"
      },
      "source": [
        "sns.scatterplot(x=np.log(bost[\"lstat\"]), y=bost[\"medv\"])"
      ],
      "execution_count": 7,
      "outputs": [
        {
          "output_type": "execute_result",
          "data": {
            "text/plain": [
              "<matplotlib.axes._subplots.AxesSubplot at 0x7f731d5e5ed0>"
            ]
          },
          "metadata": {},
          "execution_count": 7
        },
        {
          "output_type": "display_data",
          "data": {
            "image/png": "[encoded data removed]",
            "text/plain": [
              "<Figure size 432x288 with 1 Axes>"
            ]
          },
          "metadata": {
            "needs_background": "light"
          }
        }
      ]
    },
    {
      "cell_type": "code",
      "metadata": {
        "id": "EEXYXLuPUUTv",
        "colab": {
          "base_uri": "https://localhost:8080/",
          "height": 0
        },
        "outputId": "85b4b2d5-3afe-4e59-f5af-5f5b1ab752f2"
      },
      "source": [
        "# Remove LSTAT and replace with LOG_LSTAT = ln(LSTAT)\n",
        "if \"lstat\" in bost.columns:\n",
        "  bost.insert(2, \"LOG_lstat\", np.log(bost[\"lstat\"].copy()), True)\n",
        "  bost = bost.drop(['lstat'], axis=1)\n",
        "\n",
        "sns.scatterplot(x=bost[\"LOG_lstat\"], y=bost[\"medv\"])"
      ],
      "execution_count": 8,
      "outputs": [
        {
          "output_type": "execute_result",
          "data": {
            "text/plain": [
              "<matplotlib.axes._subplots.AxesSubplot at 0x7f731d0929d0>"
            ]
          },
          "metadata": {},
          "execution_count": 8
        },
        {
          "output_type": "display_data",
          "data": {
            "image/png": "[encoded data removed]",
            "text/plain": [
              "<Figure size 432x288 with 1 Axes>"
            ]
          },
          "metadata": {
            "needs_background": "light"
          }
        }
      ]
    },
    {
      "cell_type": "markdown",
      "metadata": {
        "id": "MGvq_awCBgkf"
      },
      "source": [
        "##### 3c. DIS and NOX\n",
        "As shown below, DIS and NOX are highly correlated when one of them is correctly scaled."
      ]
    },
    {
      "cell_type": "code",
      "metadata": {
        "id": "akFV5Hfb88lk",
        "colab": {
          "base_uri": "https://localhost:8080/",
          "height": 0
        },
        "outputId": "f58f0d80-47fe-47a9-8efe-f251575bb0e1"
      },
      "source": [
        "sns.scatterplot(x=np.log(bost[\"dis\"]), y=bost[\"nox\"])"
      ],
      "execution_count": 9,
      "outputs": [
        {
          "output_type": "execute_result",
          "data": {
            "text/plain": [
              "<matplotlib.axes._subplots.AxesSubplot at 0x7f731d0a0f10>"
            ]
          },
          "metadata": {},
          "execution_count": 9
        },
        {
          "output_type": "display_data",
          "data": {
            "image/png": "[encoded data removed]",
            "text/plain": [
              "<Figure size 432x288 with 1 Axes>"
            ]
          },
          "metadata": {
            "needs_background": "light"
          }
        }
      ]
    },
    {
      "cell_type": "markdown",
      "metadata": {
        "id": "xUUD9LX4NO9c"
      },
      "source": [
        "If we examing the meaning of these variables we find:\n",
        "\n",
        "| Variable | Explaination|\n",
        "|----------|-------------|\n",
        "| NOX | nitric oxides concentration (parts per 10 million)   |\n",
        "| DIS | weighted distances to five Boston employment centres |\n",
        "\n",
        "It's reasonable to assume that there will be a higher concentration of nitric oxides around employment centers as there is more likely to be chemical production which leads to its emission. [Source: EPA](https://www.epa.gov/ghgemissions/overview-greenhouse-gases#nitrous-oxide)\n",
        "\n",
        "As these variables are essentially providing the same information, we should remove one of them.\n",
        "\n"
      ]
    },
    {
      "cell_type": "code",
      "metadata": {
        "id": "ixCEYwJEUYK_",
        "colab": {
          "base_uri": "https://localhost:8080/",
          "height": 0
        },
        "outputId": "08043b33-92dd-4041-b0ac-905111fe3312"
      },
      "source": [
        "sns.heatmap(bost.corr())"
      ],
      "execution_count": 10,
      "outputs": [
        {
          "output_type": "execute_result",
          "data": {
            "text/plain": [
              "<matplotlib.axes._subplots.AxesSubplot at 0x7f731cfe96d0>"
            ]
          },
          "metadata": {},
          "execution_count": 10
        },
        {
          "output_type": "display_data",
          "data": {
            "image/png": "[encoded data removed]",
            "text/plain": [
              "<Figure size 432x288 with 2 Axes>"
            ]
          },
          "metadata": {
            "needs_background": "light"
          }
        }
      ]
    },
    {
      "cell_type": "markdown",
      "metadata": {
        "id": "PoxF2-1_Q_uN"
      },
      "source": [
        "Looking at the heatmap of correlations between the variables, it appears DIS has a stronger correlation with MEDV than NOX does. Therefore we should choose to remove NOX"
      ]
    },
    {
      "cell_type": "code",
      "metadata": {
        "id": "qhdXlhXhRNo-",
        "colab": {
          "base_uri": "https://localhost:8080/",
          "height": 0
        },
        "outputId": "0b52eb47-4160-46b0-9a22-88745dd7130d"
      },
      "source": [
        "if \"nox\" in bost.columns:\n",
        "  bost = bost.drop(['nox'], axis=1)\n",
        "bost"
      ],
      "execution_count": 11,
      "outputs": [
        {
          "output_type": "execute_result",
          "data": {
            "text/html": [
              "<div>\n",
              "<style scoped>\n",
              "    .dataframe tbody tr th:only-of-type {\n",
              "        vertical-align: middle;\n",
              "    }\n",
              "\n",
              "    .dataframe tbody tr th {\n",
              "        vertical-align: top;\n",
              "    }\n",
              "\n",
              "    .dataframe thead th {\n",
              "        text-align: right;\n",
              "    }\n",
              "</style>\n",
              "<table border=\"1\" class=\"dataframe\">\n",
              "  <thead>\n",
              "    <tr style=\"text-align: right;\">\n",
              "      <th></th>\n",
              "      <th>crim</th>\n",
              "      <th>zn</th>\n",
              "      <th>LOG_lstat</th>\n",
              "      <th>rm2</th>\n",
              "      <th>indus</th>\n",
              "      <th>chas</th>\n",
              "      <th>age</th>\n",
              "      <th>dis</th>\n",
              "      <th>rad</th>\n",
              "      <th>tax</th>\n",
              "      <th>ptratio</th>\n",
              "      <th>b</th>\n",
              "      <th>medv</th>\n",
              "    </tr>\n",
              "  </thead>\n",
              "  <tbody>\n",
              "    <tr>\n",
              "      <th>0</th>\n",
              "      <td>0.00632</td>\n",
              "      <td>18.0</td>\n",
              "      <td>1.605430</td>\n",
              "      <td>43.230625</td>\n",
              "      <td>2.31</td>\n",
              "      <td>0.0</td>\n",
              "      <td>65.2</td>\n",
              "      <td>4.0900</td>\n",
              "      <td>1.0</td>\n",
              "      <td>296.0</td>\n",
              "      <td>15.3</td>\n",
              "      <td>396.90</td>\n",
              "      <td>11.292897</td>\n",
              "    </tr>\n",
              "    <tr>\n",
              "      <th>1</th>\n",
              "      <td>0.02731</td>\n",
              "      <td>0.0</td>\n",
              "      <td>2.212660</td>\n",
              "      <td>41.229241</td>\n",
              "      <td>7.07</td>\n",
              "      <td>0.0</td>\n",
              "      <td>78.9</td>\n",
              "      <td>4.9671</td>\n",
              "      <td>2.0</td>\n",
              "      <td>242.0</td>\n",
              "      <td>17.8</td>\n",
              "      <td>396.90</td>\n",
              "      <td>15.113707</td>\n",
              "    </tr>\n",
              "    <tr>\n",
              "      <th>2</th>\n",
              "      <td>0.02729</td>\n",
              "      <td>0.0</td>\n",
              "      <td>1.393766</td>\n",
              "      <td>51.624225</td>\n",
              "      <td>7.07</td>\n",
              "      <td>0.0</td>\n",
              "      <td>61.1</td>\n",
              "      <td>4.9671</td>\n",
              "      <td>2.0</td>\n",
              "      <td>242.0</td>\n",
              "      <td>17.8</td>\n",
              "      <td>392.83</td>\n",
              "      <td>26.034624</td>\n",
              "    </tr>\n",
              "    <tr>\n",
              "      <th>3</th>\n",
              "      <td>0.03237</td>\n",
              "      <td>0.0</td>\n",
              "      <td>1.078410</td>\n",
              "      <td>48.972004</td>\n",
              "      <td>2.18</td>\n",
              "      <td>0.0</td>\n",
              "      <td>45.8</td>\n",
              "      <td>6.0622</td>\n",
              "      <td>3.0</td>\n",
              "      <td>222.0</td>\n",
              "      <td>18.7</td>\n",
              "      <td>394.63</td>\n",
              "      <td>29.201223</td>\n",
              "    </tr>\n",
              "    <tr>\n",
              "      <th>4</th>\n",
              "      <td>0.06905</td>\n",
              "      <td>0.0</td>\n",
              "      <td>1.673351</td>\n",
              "      <td>51.079609</td>\n",
              "      <td>2.18</td>\n",
              "      <td>0.0</td>\n",
              "      <td>54.2</td>\n",
              "      <td>6.0622</td>\n",
              "      <td>3.0</td>\n",
              "      <td>222.0</td>\n",
              "      <td>18.7</td>\n",
              "      <td>396.90</td>\n",
              "      <td>24.099477</td>\n",
              "    </tr>\n",
              "    <tr>\n",
              "      <th>...</th>\n",
              "      <td>...</td>\n",
              "      <td>...</td>\n",
              "      <td>...</td>\n",
              "      <td>...</td>\n",
              "      <td>...</td>\n",
              "      <td>...</td>\n",
              "      <td>...</td>\n",
              "      <td>...</td>\n",
              "      <td>...</td>\n",
              "      <td>...</td>\n",
              "      <td>...</td>\n",
              "      <td>...</td>\n",
              "      <td>...</td>\n",
              "    </tr>\n",
              "    <tr>\n",
              "      <th>501</th>\n",
              "      <td>0.06263</td>\n",
              "      <td>0.0</td>\n",
              "      <td>2.269028</td>\n",
              "      <td>43.467649</td>\n",
              "      <td>11.93</td>\n",
              "      <td>0.0</td>\n",
              "      <td>69.1</td>\n",
              "      <td>2.4786</td>\n",
              "      <td>1.0</td>\n",
              "      <td>273.0</td>\n",
              "      <td>21.0</td>\n",
              "      <td>391.99</td>\n",
              "      <td>12.242679</td>\n",
              "    </tr>\n",
              "    <tr>\n",
              "      <th>502</th>\n",
              "      <td>0.04527</td>\n",
              "      <td>0.0</td>\n",
              "      <td>2.206074</td>\n",
              "      <td>37.454400</td>\n",
              "      <td>11.93</td>\n",
              "      <td>0.0</td>\n",
              "      <td>76.7</td>\n",
              "      <td>2.2875</td>\n",
              "      <td>1.0</td>\n",
              "      <td>273.0</td>\n",
              "      <td>21.0</td>\n",
              "      <td>396.90</td>\n",
              "      <td>17.066060</td>\n",
              "    </tr>\n",
              "    <tr>\n",
              "      <th>503</th>\n",
              "      <td>0.06076</td>\n",
              "      <td>0.0</td>\n",
              "      <td>1.729884</td>\n",
              "      <td>48.664576</td>\n",
              "      <td>11.93</td>\n",
              "      <td>0.0</td>\n",
              "      <td>91.0</td>\n",
              "      <td>2.1675</td>\n",
              "      <td>1.0</td>\n",
              "      <td>273.0</td>\n",
              "      <td>21.0</td>\n",
              "      <td>396.90</td>\n",
              "      <td>11.036473</td>\n",
              "    </tr>\n",
              "    <tr>\n",
              "      <th>504</th>\n",
              "      <td>0.10959</td>\n",
              "      <td>0.0</td>\n",
              "      <td>1.868721</td>\n",
              "      <td>46.158436</td>\n",
              "      <td>11.93</td>\n",
              "      <td>0.0</td>\n",
              "      <td>89.3</td>\n",
              "      <td>2.3889</td>\n",
              "      <td>1.0</td>\n",
              "      <td>273.0</td>\n",
              "      <td>21.0</td>\n",
              "      <td>393.45</td>\n",
              "      <td>13.672169</td>\n",
              "    </tr>\n",
              "    <tr>\n",
              "      <th>505</th>\n",
              "      <td>0.04741</td>\n",
              "      <td>0.0</td>\n",
              "      <td>2.064328</td>\n",
              "      <td>36.360900</td>\n",
              "      <td>11.93</td>\n",
              "      <td>0.0</td>\n",
              "      <td>80.8</td>\n",
              "      <td>2.5050</td>\n",
              "      <td>1.0</td>\n",
              "      <td>273.0</td>\n",
              "      <td>21.0</td>\n",
              "      <td>396.90</td>\n",
              "      <td>4.767363</td>\n",
              "    </tr>\n",
              "  </tbody>\n",
              "</table>\n",
              "<p>506 rows × 13 columns</p>\n",
              "</div>"
            ],
            "text/plain": [
              "        crim    zn  LOG_lstat        rm2  ...    tax  ptratio       b       medv\n",
              "0    0.00632  18.0   1.605430  43.230625  ...  296.0     15.3  396.90  11.292897\n",
              "1    0.02731   0.0   2.212660  41.229241  ...  242.0     17.8  396.90  15.113707\n",
              "2    0.02729   0.0   1.393766  51.624225  ...  242.0     17.8  392.83  26.034624\n",
              "3    0.03237   0.0   1.078410  48.972004  ...  222.0     18.7  394.63  29.201223\n",
              "4    0.06905   0.0   1.673351  51.079609  ...  222.0     18.7  396.90  24.099477\n",
              "..       ...   ...        ...        ...  ...    ...      ...     ...        ...\n",
              "501  0.06263   0.0   2.269028  43.467649  ...  273.0     21.0  391.99  12.242679\n",
              "502  0.04527   0.0   2.206074  37.454400  ...  273.0     21.0  396.90  17.066060\n",
              "503  0.06076   0.0   1.729884  48.664576  ...  273.0     21.0  396.90  11.036473\n",
              "504  0.10959   0.0   1.868721  46.158436  ...  273.0     21.0  393.45  13.672169\n",
              "505  0.04741   0.0   2.064328  36.360900  ...  273.0     21.0  396.90   4.767363\n",
              "\n",
              "[506 rows x 13 columns]"
            ]
          },
          "metadata": {},
          "execution_count": 11
        }
      ]
    },
    {
      "cell_type": "markdown",
      "metadata": {
        "id": "qklSYxS-Rhrn"
      },
      "source": [
        "#### 4. AGE doesen't seem to be correlated with MEDV.\n",
        "\n",
        "Looking at the graph below, there seems to be no correlation between AGE and MEDV. This means we are free to remove AGE as it is not a good predictor for the outcome."
      ]
    },
    {
      "cell_type": "code",
      "metadata": {
        "id": "PQHBURqpUUZo",
        "colab": {
          "base_uri": "https://localhost:8080/",
          "height": 0
        },
        "outputId": "09858e47-607c-4116-9f3d-b06c9a93a3db"
      },
      "source": [
        "sns.scatterplot(x=bost[\"age\"], y=bost[\"medv\"]) "
      ],
      "execution_count": 12,
      "outputs": [
        {
          "output_type": "execute_result",
          "data": {
            "text/plain": [
              "<matplotlib.axes._subplots.AxesSubplot at 0x7f73146dc3d0>"
            ]
          },
          "metadata": {},
          "execution_count": 12
        },
        {
          "output_type": "display_data",
          "data": {
            "image/png": "[encoded data removed]",
            "text/plain": [
              "<Figure size 432x288 with 1 Axes>"
            ]
          },
          "metadata": {
            "needs_background": "light"
          }
        }
      ]
    },
    {
      "cell_type": "code",
      "metadata": {
        "id": "cygBkUX1SdE1"
      },
      "source": [
        "# Remove AGE\n",
        "if \"age\" in bost.columns:\n",
        "  bost = bost.drop(['age'], axis=1)"
      ],
      "execution_count": 13,
      "outputs": []
    },
    {
      "cell_type": "markdown",
      "metadata": {
        "id": "y7w3bXczSpCS"
      },
      "source": [
        "#### Additionally, TAX and RAD seem to be highly correlated\n",
        "\n",
        "Looking back at the heatmap, we can see that TAX and RAD seem to be highly correlated."
      ]
    },
    {
      "cell_type": "code",
      "metadata": {
        "id": "AtnbRF9xTIlS",
        "colab": {
          "base_uri": "https://localhost:8080/",
          "height": 0
        },
        "outputId": "cac43d5d-25c8-4136-c8e0-bcbe24cc0f8f"
      },
      "source": [
        "sns.heatmap(bost.corr())"
      ],
      "execution_count": 14,
      "outputs": [
        {
          "output_type": "execute_result",
          "data": {
            "text/plain": [
              "<matplotlib.axes._subplots.AxesSubplot at 0x7f7314636c50>"
            ]
          },
          "metadata": {},
          "execution_count": 14
        },
        {
          "output_type": "display_data",
          "data": {
            "image/png": "[encoded data removed]",
            "text/plain": [
              "<Figure size 432x288 with 2 Axes>"
            ]
          },
          "metadata": {
            "needs_background": "light"
          }
        }
      ]
    },
    {
      "cell_type": "code",
      "metadata": {
        "id": "raVVS8gz_O1v",
        "colab": {
          "base_uri": "https://localhost:8080/",
          "height": 0
        },
        "outputId": "cc87f0a0-e25e-4db4-a202-218bd13acb4c"
      },
      "source": [
        "sns.scatterplot(x=bost[\"tax\"], y=bost[\"rad\"]) "
      ],
      "execution_count": 15,
      "outputs": [
        {
          "output_type": "execute_result",
          "data": {
            "text/plain": [
              "<matplotlib.axes._subplots.AxesSubplot at 0x7f73145a9610>"
            ]
          },
          "metadata": {},
          "execution_count": 15
        },
        {
          "output_type": "display_data",
          "data": {
            "image/png": "[encoded data removed]",
            "text/plain": [
              "<Figure size 432x288 with 1 Axes>"
            ]
          },
          "metadata": {
            "needs_background": "light"
          }
        }
      ]
    },
    {
      "cell_type": "markdown",
      "metadata": {
        "id": "xY7CoagMTMAC"
      },
      "source": [
        "This means we are free to remove one of them. TAX looks like it has a slightly stronger correlation to MEDV as shown in the heatmap. Though it is very close. We will remove RAD in this case."
      ]
    },
    {
      "cell_type": "code",
      "metadata": {
        "id": "Y_QGoFawUA70"
      },
      "source": [
        "# Remove RAD\n",
        "if \"rad\" in bost.columns:\n",
        "  bost = bost.drop(['rad'], axis=1)"
      ],
      "execution_count": 16,
      "outputs": []
    },
    {
      "cell_type": "markdown",
      "metadata": {
        "id": "JclHsVGG5gIG"
      },
      "source": [
        "### Now let's have a look at the data after our EDA"
      ]
    },
    {
      "cell_type": "code",
      "metadata": {
        "colab": {
          "base_uri": "https://localhost:8080/",
          "height": 0
        },
        "id": "nbPEZJX35gVH",
        "outputId": "093535b1-5aae-4a39-a1e3-0f7902fcb6ec"
      },
      "source": [
        "bost.describe()"
      ],
      "execution_count": 17,
      "outputs": [
        {
          "output_type": "execute_result",
          "data": {
            "text/html": [
              "<div>\n",
              "<style scoped>\n",
              "    .dataframe tbody tr th:only-of-type {\n",
              "        vertical-align: middle;\n",
              "    }\n",
              "\n",
              "    .dataframe tbody tr th {\n",
              "        vertical-align: top;\n",
              "    }\n",
              "\n",
              "    .dataframe thead th {\n",
              "        text-align: right;\n",
              "    }\n",
              "</style>\n",
              "<table border=\"1\" class=\"dataframe\">\n",
              "  <thead>\n",
              "    <tr style=\"text-align: right;\">\n",
              "      <th></th>\n",
              "      <th>crim</th>\n",
              "      <th>zn</th>\n",
              "      <th>LOG_lstat</th>\n",
              "      <th>rm2</th>\n",
              "      <th>indus</th>\n",
              "      <th>chas</th>\n",
              "      <th>dis</th>\n",
              "      <th>tax</th>\n",
              "      <th>ptratio</th>\n",
              "      <th>b</th>\n",
              "      <th>medv</th>\n",
              "    </tr>\n",
              "  </thead>\n",
              "  <tbody>\n",
              "    <tr>\n",
              "      <th>count</th>\n",
              "      <td>506.000000</td>\n",
              "      <td>506.000000</td>\n",
              "      <td>506.000000</td>\n",
              "      <td>506.000000</td>\n",
              "      <td>506.000000</td>\n",
              "      <td>506.000000</td>\n",
              "      <td>506.000000</td>\n",
              "      <td>506.000000</td>\n",
              "      <td>506.000000</td>\n",
              "      <td>506.000000</td>\n",
              "      <td>506.000000</td>\n",
              "    </tr>\n",
              "    <tr>\n",
              "      <th>mean</th>\n",
              "      <td>3.613524</td>\n",
              "      <td>11.363636</td>\n",
              "      <td>2.370965</td>\n",
              "      <td>39.989325</td>\n",
              "      <td>11.136779</td>\n",
              "      <td>0.069170</td>\n",
              "      <td>3.795043</td>\n",
              "      <td>408.237154</td>\n",
              "      <td>18.455534</td>\n",
              "      <td>356.674032</td>\n",
              "      <td>15.606038</td>\n",
              "    </tr>\n",
              "    <tr>\n",
              "      <th>std</th>\n",
              "      <td>8.601545</td>\n",
              "      <td>23.322453</td>\n",
              "      <td>0.600891</td>\n",
              "      <td>9.079531</td>\n",
              "      <td>6.860353</td>\n",
              "      <td>0.253994</td>\n",
              "      <td>2.105710</td>\n",
              "      <td>168.537116</td>\n",
              "      <td>2.164946</td>\n",
              "      <td>91.294864</td>\n",
              "      <td>9.480268</td>\n",
              "    </tr>\n",
              "    <tr>\n",
              "      <th>min</th>\n",
              "      <td>0.006320</td>\n",
              "      <td>0.000000</td>\n",
              "      <td>0.548121</td>\n",
              "      <td>12.680721</td>\n",
              "      <td>0.460000</td>\n",
              "      <td>0.000000</td>\n",
              "      <td>1.129600</td>\n",
              "      <td>187.000000</td>\n",
              "      <td>12.600000</td>\n",
              "      <td>0.320000</td>\n",
              "      <td>1.134841</td>\n",
              "    </tr>\n",
              "    <tr>\n",
              "      <th>25%</th>\n",
              "      <td>0.082045</td>\n",
              "      <td>0.000000</td>\n",
              "      <td>1.938729</td>\n",
              "      <td>34.639111</td>\n",
              "      <td>5.190000</td>\n",
              "      <td>0.000000</td>\n",
              "      <td>2.100175</td>\n",
              "      <td>279.000000</td>\n",
              "      <td>17.400000</td>\n",
              "      <td>375.377500</td>\n",
              "      <td>10.492041</td>\n",
              "    </tr>\n",
              "    <tr>\n",
              "      <th>50%</th>\n",
              "      <td>0.256510</td>\n",
              "      <td>0.000000</td>\n",
              "      <td>2.430097</td>\n",
              "      <td>38.545472</td>\n",
              "      <td>9.690000</td>\n",
              "      <td>0.000000</td>\n",
              "      <td>3.207450</td>\n",
              "      <td>330.000000</td>\n",
              "      <td>19.050000</td>\n",
              "      <td>391.440000</td>\n",
              "      <td>13.099290</td>\n",
              "    </tr>\n",
              "    <tr>\n",
              "      <th>75%</th>\n",
              "      <td>3.677082</td>\n",
              "      <td>12.500000</td>\n",
              "      <td>2.830563</td>\n",
              "      <td>43.870759</td>\n",
              "      <td>18.100000</td>\n",
              "      <td>0.000000</td>\n",
              "      <td>5.188425</td>\n",
              "      <td>666.000000</td>\n",
              "      <td>20.200000</td>\n",
              "      <td>396.225000</td>\n",
              "      <td>16.967099</td>\n",
              "    </tr>\n",
              "    <tr>\n",
              "      <th>max</th>\n",
              "      <td>88.976200</td>\n",
              "      <td>100.000000</td>\n",
              "      <td>3.636796</td>\n",
              "      <td>77.088400</td>\n",
              "      <td>27.740000</td>\n",
              "      <td>1.000000</td>\n",
              "      <td>12.126500</td>\n",
              "      <td>711.000000</td>\n",
              "      <td>22.000000</td>\n",
              "      <td>396.900000</td>\n",
              "      <td>48.819313</td>\n",
              "    </tr>\n",
              "  </tbody>\n",
              "</table>\n",
              "</div>"
            ],
            "text/plain": [
              "             crim          zn   LOG_lstat  ...     ptratio           b        medv\n",
              "count  506.000000  506.000000  506.000000  ...  506.000000  506.000000  506.000000\n",
              "mean     3.613524   11.363636    2.370965  ...   18.455534  356.674032   15.606038\n",
              "std      8.601545   23.322453    0.600891  ...    2.164946   91.294864    9.480268\n",
              "min      0.006320    0.000000    0.548121  ...   12.600000    0.320000    1.134841\n",
              "25%      0.082045    0.000000    1.938729  ...   17.400000  375.377500   10.492041\n",
              "50%      0.256510    0.000000    2.430097  ...   19.050000  391.440000   13.099290\n",
              "75%      3.677082   12.500000    2.830563  ...   20.200000  396.225000   16.967099\n",
              "max     88.976200  100.000000    3.636796  ...   22.000000  396.900000   48.819313\n",
              "\n",
              "[8 rows x 11 columns]"
            ]
          },
          "metadata": {},
          "execution_count": 17
        }
      ]
    },
    {
      "cell_type": "markdown",
      "metadata": {
        "id": "CKDoZkH_-p5B"
      },
      "source": [
        "Looks good, the seems to make sense after a quick glance.\n",
        "\n",
        "However, it seems there are some large differences in the standard deviations of our variables. More specificly; TAX, B, and to a lesser extent ZN seem to have deviations much greater than the others. This is likely to cause issues when modeling if not accounted for (Especially when using kNN). We will address this by using a scaler later on."
      ]
    },
    {
      "cell_type": "markdown",
      "metadata": {
        "id": "UvVnIJrHCy-B"
      },
      "source": [
        "## Hyperparameter Analysis"
      ]
    },
    {
      "cell_type": "markdown",
      "metadata": {
        "id": "GXvFxcfs975H"
      },
      "source": [
        "### Helper function from lab\n",
        "```\n",
        "def cross_validate_model_mse(mdl, param_grid, X, y, cv=None)\n",
        "```\n",
        "\n"
      ]
    },
    {
      "cell_type": "code",
      "metadata": {
        "id": "i6fXYSez34HB"
      },
      "source": [
        "def cross_validate_model_mse(mdl, param_grid, X, y, cv=None):\n",
        "    import numpy as np\n",
        "    import pandas as pd\n",
        "\n",
        "    from sklearn.metrics import mean_squared_error, make_scorer, r2_score\n",
        "    from sklearn.model_selection import GridSearchCV\n",
        "    \n",
        "    # create a MSE scorer\n",
        "    scorer = make_scorer(mean_squared_error, greater_is_better=False)\n",
        "    \n",
        "    # perform the grid search on the supplied data\n",
        "    cv = GridSearchCV(mdl, param_grid, scoring=scorer, cv=cv, n_jobs=-1)\n",
        "    cv.fit(X, y)\n",
        "    cv_stats = pd.DataFrame(cv.cv_results_).filter(regex='(param_.*)|(split.*_test_score)', axis=1)\n",
        "    cv_stats = cv_stats.melt(id_vars=cv_stats.columns[cv_stats.columns.str.match('param_.*')], var_name='split', value_name='mse')\n",
        "    cv_stats.rename(columns=lambda n: n.replace('param_', ''), inplace=True)\n",
        "    cv_stats['split'] = cv_stats['split'].str.replace('split(\\d+)_test_score', '\\\\1', regex=True).astype(np.int64)\n",
        "    cv_stats['mse'] = -cv_stats['mse']\n",
        "    \n",
        "    return cv, cv_stats"
      ],
      "execution_count": 18,
      "outputs": []
    },
    {
      "cell_type": "markdown",
      "metadata": {
        "id": "277vb2_3-AQU"
      },
      "source": [
        "### Tuning:\n",
        "\n",
        "Using cross validation, we can find some suitable hyperparameters to use for our models.\n",
        "\n",
        "The code below will find suitable hyperparameters for K Nearest Neighbour and a Classification And Regression Tree."
      ]
    },
    {
      "cell_type": "code",
      "metadata": {
        "id": "RsUDu1Ow4aOL",
        "colab": {
          "base_uri": "https://localhost:8080/"
        },
        "outputId": "d51bea64-a871-4bd9-b292-efb1ba9b2fbd"
      },
      "source": [
        "from sklearn.pipeline import Pipeline\n",
        "from sklearn.preprocessing import StandardScaler\n",
        "\n",
        "from sklearn.dummy import DummyRegressor\n",
        "from sklearn.neighbors import KNeighborsRegressor\n",
        "from sklearn.tree import DecisionTreeRegressor\n",
        "\n",
        "from sklearn.model_selection import RepeatedKFold\n",
        "\n",
        "from matplotlib import pyplot as plt\n",
        "\n",
        "rkf = RepeatedKFold(n_splits=10, n_repeats=3) # 3 ROUNDS and 10 FOLDS\n",
        "\n",
        "target = 'medv'\n",
        "X = bost.drop(columns=[target]).to_numpy()\n",
        "y = bost[target].to_numpy()\n",
        "\n",
        "# DUMMY ========\n",
        "dummy = DummyRegressor(strategy='mean')\n",
        "dummyCrossVal, dummy_stats = cross_validate_model_mse(dummy, {}, X, y, cv=rkf)\n",
        "pd.set_option(\"display.max_rows\", None, \"display.max_columns\", None)\n",
        "\n",
        "# kNN ========\n",
        "knn = Pipeline([ ('scale', StandardScaler()), ('knn', KNeighborsRegressor()) ])\n",
        "knn_grid = { 'knn__n_neighbors' : [1, 2, 5, 10, 20, 40, 80, 120, 300] }\n",
        "knncv, knn_stats = cross_validate_model_mse(knn, knn_grid, X, y, cv=rkf)\n",
        "print(\"kNN optimal neighbours:\\t\", knncv.best_params_['knn__n_neighbors'], \"with MSE:\\t\", round(-knncv.best_score_, 3))\n",
        "\n",
        "# CART ========\n",
        "CART = DecisionTreeRegressor()\n",
        "CART_grid = { 'min_samples_split' : [2, 5, 10, 20, 40, 80, 120, 360] }\n",
        "CARTcv, CART_stats = cross_validate_model_mse(CART, CART_grid, X, y, cv=rkf)\n",
        "print(\"CART optimal split:\\t\", CARTcv.best_params_['min_samples_split'], \"with MSE:\\t\", round(-CARTcv.best_score_, 3))"
      ],
      "execution_count": 19,
      "outputs": [
        {
          "output_type": "stream",
          "text": [
            "kNN optimal neighbours:\t 10 with MSE:\t 32.286\n",
            "CART optimal split:\t 40 with MSE:\t 26.822\n"
          ],
          "name": "stdout"
        }
      ]
    },
    {
      "cell_type": "markdown",
      "metadata": {
        "id": "g3DLI9oz5k78"
      },
      "source": [
        "### Plotting\n",
        "A simple comparison of the performance of kNN and CART"
      ]
    },
    {
      "cell_type": "code",
      "metadata": {
        "id": "o_jlF2_nk2Ck",
        "colab": {
          "base_uri": "https://localhost:8080/",
          "height": 0
        },
        "outputId": "4e4f1aa9-5943-425c-ef90-13fb8fe569b8"
      },
      "source": [
        "fig, axs = plt.subplots(nrows=1, ncols=2, figsize=(24,8))\n",
        "#for ax in axs: ax.set_ylim((0, 100))\n",
        "\n",
        "sns.lineplot(data=knn_stats, x='knn__n_neighbors', y='mse', label='mse', ax=axs[0])\n",
        "axs[0].set_title('kNN')\n",
        "\n",
        "sns.lineplot(data=CART_stats, x='min_samples_split', y='mse', label='mse', ax=axs[1])\n",
        "axs[1].set_title('CART');"
      ],
      "execution_count": 20,
      "outputs": [
        {
          "output_type": "display_data",
          "data": {
            "image/png": "[encoded data removed]",
            "text/plain": [
              "<Figure size 1728x576 with 2 Axes>"
            ]
          },
          "metadata": {
            "needs_background": "light"
          }
        }
      ]
    },
    {
      "cell_type": "markdown",
      "metadata": {
        "id": "cnbhDhGW_VIN"
      },
      "source": [
        "# Final Comparison"
      ]
    },
    {
      "cell_type": "markdown",
      "metadata": {
        "id": "1fvlpASNeT-w"
      },
      "source": [
        "Data           MSE     r²\n",
        "-------------  ------  -----\n",
        "Virgin Linear  39.126  0.63\n",
        "EDA Linear     32.879  0.689\n",
        "EDA kNN        56.627  0.465\n",
        "EDA CART       22.082  0.791\n",
        "Winning Data   TODO    TODO"
      ]
    },
    {
      "cell_type": "code",
      "metadata": {
        "id": "lSirmk0QbebK",
        "outputId": "9cc7ecdc-822c-49c5-c80c-7460344ad860",
        "colab": {
          "base_uri": "https://localhost:8080/"
        }
      },
      "source": [
        "from sklearn.linear_model import LinearRegression\n",
        "from sklearn.metrics import mean_squared_error, r2_score\n",
        "from sklearn.model_selection import train_test_split\n",
        "\n",
        "num_runs = 100\n",
        "train_size = 0.75\n",
        "\n",
        "performance = {\"virgin_linear\":{\"mse\":0.0, \"r2\":0.0},\n",
        "              \"eda_linear\":{\"mse\":0.0, \"r2\":0.0},\n",
        "              \"eda_knn\":{\"mse\":0.0, \"r2\":0.0},\n",
        "              \"eda_cart\":{\"mse\":0.0, \"r2\":0.0}}\n",
        "for i in range(num_runs):\n",
        "  # Virgin Data\n",
        "  vX = bost_virgin.drop(columns=[target]).to_numpy()\n",
        "  vy = bost_virgin[target].to_numpy()\n",
        "  vX_train, vX_test, vy_train, vy_test = train_test_split(vX, vy, train_size=train_size)\n",
        "\n",
        "  # EDA Data\n",
        "  X_train, X_test, y_train, y_test = train_test_split(X, y, train_size=train_size)\n",
        "\n",
        "  # Virgin Linear Regression:\n",
        "  virgin_model = LinearRegression()\n",
        "  virgin_model.fit(vX_train, vy_train)\n",
        "\n",
        "  performance[\"virgin_linear\"][\"mse\"] += mean_squared_error(vy_test, virgin_model.predict(vX_test))\n",
        "  performance[\"virgin_linear\"][\"r2\"]  += r2_score(vy_test, virgin_model.predict(vX_test))\n",
        "\n",
        "  # EDA Linear Regression:\n",
        "  eda_lin_model = LinearRegression()\n",
        "  eda_lin_model.fit(X_train, y_train)\n",
        "\n",
        "  performance[\"eda_linear\"][\"mse\"] += mean_squared_error(y_test, eda_lin_model.predict(X_test))\n",
        "  performance[\"eda_linear\"][\"r2\"]  += r2_score(y_test, eda_lin_model.predict(X_test))\n",
        "\n",
        "  # EDA kNN:\n",
        "  eda_knn_model = KNeighborsRegressor(n_neighbors=knncv.best_params_['knn__n_neighbors'])\n",
        "  eda_knn_model.fit(X_train, y_train)\n",
        "\n",
        "  performance[\"eda_knn\"][\"mse\"] += mean_squared_error(y_test, eda_knn_model.predict(X_test))\n",
        "  performance[\"eda_knn\"][\"r2\"]  += r2_score(y_test, eda_knn_model.predict(X_test))\n",
        "\n",
        "  # EDA CART\n",
        "  eda_cart_model = DecisionTreeRegressor(min_samples_split=CARTcv.best_params_['min_samples_split'])\n",
        "  eda_cart_model.fit(X_train, y_train)\n",
        "\n",
        "  performance[\"eda_cart\"][\"mse\"] += mean_squared_error(y_test, eda_cart_model.predict(X_test))\n",
        "  performance[\"eda_cart\"][\"r2\"]  += r2_score(y_test, eda_cart_model.predict(X_test))\n",
        "\n",
        "for key in performance.keys():\n",
        "  performance[key][\"mse\"] /= num_runs\n",
        "  performance[key][\"r2\"] /= num_runs\n",
        "\n",
        "from tabulate import tabulate\n",
        "table = [['Virgin Linear', performance[\"virgin_linear\"][\"mse\"], performance[\"virgin_linear\"][\"r2\"]],\n",
        "         ['EDA Linear', performance[\"eda_linear\"][\"mse\"], performance[\"eda_linear\"][\"r2\"]],\n",
        "         ['EDA kNN', performance[\"eda_knn\"][\"mse\"], performance[\"eda_knn\"][\"r2\"]],\n",
        "         ['EDA CART', performance[\"eda_cart\"][\"mse\"], performance[\"eda_cart\"][\"r2\"]]]\n",
        "\n",
        "def round_float_in_table(table):\n",
        "  for i in range(len(table)):\n",
        "    cRow = table[i]\n",
        "    for j in range(len(cRow)):\n",
        "      if isinstance(table[i][j], float):\n",
        "        table[i][j] = round(table[i][j], 3)\n",
        "\n",
        "round_float_in_table(table)\n",
        "print(\"Average performance across\", num_runs, \"runs using random\", str(int(train_size*100))+\"%\", \"of data for training in each run\")\n",
        "print(tabulate(table, headers=['Data', 'MSE', \"r²\"]))\n"
      ],
      "execution_count": 29,
      "outputs": [
        {
          "output_type": "stream",
          "text": [
            "Average performance across 100 runs using random 75% of data for training in each run\n",
            "Data              MSE     r²\n",
            "-------------  ------  -----\n",
            "Virgin Linear  44.668  0.5\n",
            "EDA Linear     38.103  0.564\n",
            "EDA kNN        53.841  0.395\n",
            "EDA CART       32.396  0.624\n"
          ],
          "name": "stdout"
        }
      ]
    },
    {
      "cell_type": "markdown",
      "metadata": {
        "id": "OgeAjoUKJVhu"
      },
      "source": [
        "# TODO\n",
        "- Compare other models to linear regression\n",
        " - use hyperparams found using cross validation\n",
        " - use both virgin data and EDA data\n",
        " - plot findings in easy to understand graphics\n",
        "- Knowledge generation\n",
        " - generate CART decision tree and use it to learn about the data (see spec)"
      ]
    },
    {
      "cell_type": "markdown",
      "metadata": {
        "id": "LnArwm-KA2mS"
      },
      "source": [
        "### Spliting data into training and testing sets\n",
        "75% training and 25% testing\n"
      ]
    }
  ]
}