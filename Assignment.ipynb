{
  "nbformat": 4,
  "nbformat_minor": 0,
  "metadata": {
    "colab": {
      "name": "Assignment.ipynb",
      "provenance": []
    },
    "kernelspec": {
      "name": "python3",
      "display_name": "Python 3"
    },
    "language_info": {
      "name": "python"
    }
  },
  "cells": [
    {
      "cell_type": "markdown",
      "metadata": {
        "id": "Sffu5kODcxcZ"
      },
      "source": [
        "#INFO204 Assignment\n",
        "---\n",
        "*Jackson Kerr | 2942576*\n",
        "\n"
      ]
    },
    {
      "cell_type": "markdown",
      "metadata": {
        "id": "lFWvOExer6QW"
      },
      "source": [
        "##### Doc Options:"
      ]
    },
    {
      "cell_type": "code",
      "metadata": {
        "id": "8YGcrv15ounG"
      },
      "source": [
        "fast = True         # If true, uses cached graph images for speed\n",
        "dataFromGit = True  # If true, automatically get the data from github repo"
      ],
      "execution_count": 38,
      "outputs": []
    },
    {
      "cell_type": "markdown",
      "metadata": {
        "id": "13a85jgadaHL"
      },
      "source": [
        "##Gettin That Data:\n",
        "Let's start by importing the modified boston data.\n",
        "\n"
      ]
    },
    {
      "cell_type": "code",
      "metadata": {
        "colab": {
          "base_uri": "https://localhost:8080/",
          "height": 0
        },
        "id": "SbkubVVIawyo",
        "outputId": "8b3deee9-635a-45da-a4b9-832616ddd10d"
      },
      "source": [
        "import pandas as pd\n",
        "import io\n",
        "from google.colab import files\n",
        "\n",
        "bost = pd.DataFrame()\n",
        "if dataFromGit:\n",
        "  url = \"https://raw.githubusercontent.com/JacksonKerr/LinearRegression/main/modified_boston.csv\"\n",
        "  bost = pd.read_csv(url, index_col=0)\n",
        "else:\n",
        "  uploaded = files.upload()\n",
        "  for fn in uploaded.keys():\n",
        "    print('User uploaded file \"{name}\" with length {length} bytes'.format(\n",
        "        name=fn, length=len(uploaded[fn])))\n",
        "  bost = pd.read_csv(io.BytesIO(uploaded['modified_boston.csv']), index_col=0)\n",
        "bost"
      ],
      "execution_count": 39,
      "outputs": [
        {
          "output_type": "execute_result",
          "data": {
            "text/html": [
              "<div>\n",
              "<style scoped>\n",
              "    .dataframe tbody tr th:only-of-type {\n",
              "        vertical-align: middle;\n",
              "    }\n",
              "\n",
              "    .dataframe tbody tr th {\n",
              "        vertical-align: top;\n",
              "    }\n",
              "\n",
              "    .dataframe thead th {\n",
              "        text-align: right;\n",
              "    }\n",
              "</style>\n",
              "<table border=\"1\" class=\"dataframe\">\n",
              "  <thead>\n",
              "    <tr style=\"text-align: right;\">\n",
              "      <th></th>\n",
              "      <th>crim</th>\n",
              "      <th>zn</th>\n",
              "      <th>indus</th>\n",
              "      <th>chas</th>\n",
              "      <th>nox</th>\n",
              "      <th>rm</th>\n",
              "      <th>age</th>\n",
              "      <th>dis</th>\n",
              "      <th>rad</th>\n",
              "      <th>tax</th>\n",
              "      <th>ptratio</th>\n",
              "      <th>b</th>\n",
              "      <th>lstat</th>\n",
              "      <th>medv</th>\n",
              "    </tr>\n",
              "  </thead>\n",
              "  <tbody>\n",
              "    <tr>\n",
              "      <th>0</th>\n",
              "      <td>0.00632</td>\n",
              "      <td>18.0</td>\n",
              "      <td>2.31</td>\n",
              "      <td>0.0</td>\n",
              "      <td>0.538</td>\n",
              "      <td>6.575</td>\n",
              "      <td>65.2</td>\n",
              "      <td>4.0900</td>\n",
              "      <td>1.0</td>\n",
              "      <td>296.0</td>\n",
              "      <td>15.3</td>\n",
              "      <td>396.90</td>\n",
              "      <td>4.98</td>\n",
              "      <td>11.292897</td>\n",
              "    </tr>\n",
              "    <tr>\n",
              "      <th>1</th>\n",
              "      <td>0.02731</td>\n",
              "      <td>0.0</td>\n",
              "      <td>7.07</td>\n",
              "      <td>0.0</td>\n",
              "      <td>0.469</td>\n",
              "      <td>6.421</td>\n",
              "      <td>78.9</td>\n",
              "      <td>4.9671</td>\n",
              "      <td>2.0</td>\n",
              "      <td>242.0</td>\n",
              "      <td>17.8</td>\n",
              "      <td>396.90</td>\n",
              "      <td>9.14</td>\n",
              "      <td>15.113707</td>\n",
              "    </tr>\n",
              "    <tr>\n",
              "      <th>2</th>\n",
              "      <td>0.02729</td>\n",
              "      <td>0.0</td>\n",
              "      <td>7.07</td>\n",
              "      <td>0.0</td>\n",
              "      <td>0.469</td>\n",
              "      <td>7.185</td>\n",
              "      <td>61.1</td>\n",
              "      <td>4.9671</td>\n",
              "      <td>2.0</td>\n",
              "      <td>242.0</td>\n",
              "      <td>17.8</td>\n",
              "      <td>392.83</td>\n",
              "      <td>4.03</td>\n",
              "      <td>26.034624</td>\n",
              "    </tr>\n",
              "    <tr>\n",
              "      <th>3</th>\n",
              "      <td>0.03237</td>\n",
              "      <td>0.0</td>\n",
              "      <td>2.18</td>\n",
              "      <td>0.0</td>\n",
              "      <td>0.458</td>\n",
              "      <td>6.998</td>\n",
              "      <td>45.8</td>\n",
              "      <td>6.0622</td>\n",
              "      <td>3.0</td>\n",
              "      <td>222.0</td>\n",
              "      <td>18.7</td>\n",
              "      <td>394.63</td>\n",
              "      <td>2.94</td>\n",
              "      <td>29.201223</td>\n",
              "    </tr>\n",
              "    <tr>\n",
              "      <th>4</th>\n",
              "      <td>0.06905</td>\n",
              "      <td>0.0</td>\n",
              "      <td>2.18</td>\n",
              "      <td>0.0</td>\n",
              "      <td>0.458</td>\n",
              "      <td>7.147</td>\n",
              "      <td>54.2</td>\n",
              "      <td>6.0622</td>\n",
              "      <td>3.0</td>\n",
              "      <td>222.0</td>\n",
              "      <td>18.7</td>\n",
              "      <td>396.90</td>\n",
              "      <td>5.33</td>\n",
              "      <td>24.099477</td>\n",
              "    </tr>\n",
              "    <tr>\n",
              "      <th>...</th>\n",
              "      <td>...</td>\n",
              "      <td>...</td>\n",
              "      <td>...</td>\n",
              "      <td>...</td>\n",
              "      <td>...</td>\n",
              "      <td>...</td>\n",
              "      <td>...</td>\n",
              "      <td>...</td>\n",
              "      <td>...</td>\n",
              "      <td>...</td>\n",
              "      <td>...</td>\n",
              "      <td>...</td>\n",
              "      <td>...</td>\n",
              "      <td>...</td>\n",
              "    </tr>\n",
              "    <tr>\n",
              "      <th>501</th>\n",
              "      <td>0.06263</td>\n",
              "      <td>0.0</td>\n",
              "      <td>11.93</td>\n",
              "      <td>0.0</td>\n",
              "      <td>0.573</td>\n",
              "      <td>6.593</td>\n",
              "      <td>69.1</td>\n",
              "      <td>2.4786</td>\n",
              "      <td>1.0</td>\n",
              "      <td>273.0</td>\n",
              "      <td>21.0</td>\n",
              "      <td>391.99</td>\n",
              "      <td>9.67</td>\n",
              "      <td>12.242679</td>\n",
              "    </tr>\n",
              "    <tr>\n",
              "      <th>502</th>\n",
              "      <td>0.04527</td>\n",
              "      <td>0.0</td>\n",
              "      <td>11.93</td>\n",
              "      <td>0.0</td>\n",
              "      <td>0.573</td>\n",
              "      <td>6.120</td>\n",
              "      <td>76.7</td>\n",
              "      <td>2.2875</td>\n",
              "      <td>1.0</td>\n",
              "      <td>273.0</td>\n",
              "      <td>21.0</td>\n",
              "      <td>396.90</td>\n",
              "      <td>9.08</td>\n",
              "      <td>17.066060</td>\n",
              "    </tr>\n",
              "    <tr>\n",
              "      <th>503</th>\n",
              "      <td>0.06076</td>\n",
              "      <td>0.0</td>\n",
              "      <td>11.93</td>\n",
              "      <td>0.0</td>\n",
              "      <td>0.573</td>\n",
              "      <td>6.976</td>\n",
              "      <td>91.0</td>\n",
              "      <td>2.1675</td>\n",
              "      <td>1.0</td>\n",
              "      <td>273.0</td>\n",
              "      <td>21.0</td>\n",
              "      <td>396.90</td>\n",
              "      <td>5.64</td>\n",
              "      <td>11.036473</td>\n",
              "    </tr>\n",
              "    <tr>\n",
              "      <th>504</th>\n",
              "      <td>0.10959</td>\n",
              "      <td>0.0</td>\n",
              "      <td>11.93</td>\n",
              "      <td>0.0</td>\n",
              "      <td>0.573</td>\n",
              "      <td>6.794</td>\n",
              "      <td>89.3</td>\n",
              "      <td>2.3889</td>\n",
              "      <td>1.0</td>\n",
              "      <td>273.0</td>\n",
              "      <td>21.0</td>\n",
              "      <td>393.45</td>\n",
              "      <td>6.48</td>\n",
              "      <td>13.672169</td>\n",
              "    </tr>\n",
              "    <tr>\n",
              "      <th>505</th>\n",
              "      <td>0.04741</td>\n",
              "      <td>0.0</td>\n",
              "      <td>11.93</td>\n",
              "      <td>0.0</td>\n",
              "      <td>0.573</td>\n",
              "      <td>6.030</td>\n",
              "      <td>80.8</td>\n",
              "      <td>2.5050</td>\n",
              "      <td>1.0</td>\n",
              "      <td>273.0</td>\n",
              "      <td>21.0</td>\n",
              "      <td>396.90</td>\n",
              "      <td>7.88</td>\n",
              "      <td>4.767363</td>\n",
              "    </tr>\n",
              "  </tbody>\n",
              "</table>\n",
              "<p>506 rows × 14 columns</p>\n",
              "</div>"
            ],
            "text/plain": [
              "        crim    zn  indus  chas  ...  ptratio       b  lstat       medv\n",
              "0    0.00632  18.0   2.31   0.0  ...     15.3  396.90   4.98  11.292897\n",
              "1    0.02731   0.0   7.07   0.0  ...     17.8  396.90   9.14  15.113707\n",
              "2    0.02729   0.0   7.07   0.0  ...     17.8  392.83   4.03  26.034624\n",
              "3    0.03237   0.0   2.18   0.0  ...     18.7  394.63   2.94  29.201223\n",
              "4    0.06905   0.0   2.18   0.0  ...     18.7  396.90   5.33  24.099477\n",
              "..       ...   ...    ...   ...  ...      ...     ...    ...        ...\n",
              "501  0.06263   0.0  11.93   0.0  ...     21.0  391.99   9.67  12.242679\n",
              "502  0.04527   0.0  11.93   0.0  ...     21.0  396.90   9.08  17.066060\n",
              "503  0.06076   0.0  11.93   0.0  ...     21.0  396.90   5.64  11.036473\n",
              "504  0.10959   0.0  11.93   0.0  ...     21.0  393.45   6.48  13.672169\n",
              "505  0.04741   0.0  11.93   0.0  ...     21.0  396.90   7.88   4.767363\n",
              "\n",
              "[506 rows x 14 columns]"
            ]
          },
          "metadata": {},
          "execution_count": 39
        }
      ]
    },
    {
      "cell_type": "markdown",
      "metadata": {
        "id": "EXdvCHRudxSi"
      },
      "source": [
        "#### Description:"
      ]
    },
    {
      "cell_type": "markdown",
      "metadata": {
        "id": "AErXBUzlfGyY"
      },
      "source": [
        "From [cs.toronto.edu](https://www.cs.toronto.edu/~delve/data/boston/bostonDetail.html)\n",
        "\n",
        "| Variable | Explaination|\n",
        "|----------|-------------|\n",
        "| CRIM     | per capita crime rate by town |\n",
        "| ZN       | proportion of residential land zoned for lots over 25,000 sq.ft. |\n",
        "| INDUS    | proportion of non-retail business acres per town. |\n",
        "| CHAS     | Charles River dummy var (1 if tract bounds river; 0 otherwise) |\n",
        "| NOX      | nitric oxides concentration (parts per 10 million) |\n",
        "| RM       | average number of rooms per dwelling |\n",
        "| AGE      | proportion of owner-occupied units built prior to 1940 |\n",
        "| DIS      | weighted distances to five Boston employment centres |\n",
        "| RAD      | index of accessibility to radial highways |\n",
        "| TAX      | full-value property-tax rate per \\$10,000 |\n",
        "| PTRATIO  | pupil-teacher ratio by town |\n",
        "| B        | 1000(Bk - 0.63)^2 where Bk is the proportion of blacks by town |\n",
        "| LSTAT    | % lower status of the population |\n",
        "| MEDV     | Median value of owner-occupied homes in $1000's |"
      ]
    },
    {
      "cell_type": "markdown",
      "metadata": {
        "id": "k9YYp9KDkyq5"
      },
      "source": [
        "Let's have a look at the fields."
      ]
    },
    {
      "cell_type": "code",
      "metadata": {
        "colab": {
          "base_uri": "https://localhost:8080/"
        },
        "id": "INiPi44XcpNU",
        "outputId": "95ff1406-95a2-437f-fc3d-e49843ad88ea"
      },
      "source": [
        "bost.info()"
      ],
      "execution_count": 40,
      "outputs": [
        {
          "output_type": "stream",
          "text": [
            "<class 'pandas.core.frame.DataFrame'>\n",
            "Int64Index: 506 entries, 0 to 505\n",
            "Data columns (total 14 columns):\n",
            " #   Column   Non-Null Count  Dtype  \n",
            "---  ------   --------------  -----  \n",
            " 0   crim     506 non-null    float64\n",
            " 1   zn       506 non-null    float64\n",
            " 2   indus    506 non-null    float64\n",
            " 3   chas     506 non-null    float64\n",
            " 4   nox      506 non-null    float64\n",
            " 5   rm       506 non-null    float64\n",
            " 6   age      506 non-null    float64\n",
            " 7   dis      506 non-null    float64\n",
            " 8   rad      506 non-null    float64\n",
            " 9   tax      506 non-null    float64\n",
            " 10  ptratio  506 non-null    float64\n",
            " 11  b        506 non-null    float64\n",
            " 12  lstat    506 non-null    float64\n",
            " 13  medv     506 non-null    float64\n",
            "dtypes: float64(14)\n",
            "memory usage: 59.3 KB\n"
          ],
          "name": "stdout"
        }
      ]
    },
    {
      "cell_type": "markdown",
      "metadata": {
        "id": "2DdAh8jVk3na"
      },
      "source": [
        "Looks simple. No missing values. All float64 decimal numbers."
      ]
    },
    {
      "cell_type": "markdown",
      "metadata": {
        "id": "_y4lKnevdjO7"
      },
      "source": [
        "## Exploratory Data Analysis\n",
        "Examining the obvious.\n",
        "\n"
      ]
    },
    {
      "cell_type": "markdown",
      "metadata": {
        "id": "weKncf_Hl5Ab"
      },
      "source": [
        "Let's look at the relationships between the variables using hue=\"chas\" as it's the only categorical variable."
      ]
    },
    {
      "cell_type": "code",
      "metadata": {
        "id": "6cdXbgPTh_Rg",
        "colab": {
          "base_uri": "https://localhost:8080/",
          "height": 0
        },
        "outputId": "f3a41f75-cba6-4d19-c7a3-1a4d23e442bc"
      },
      "source": [
        "import seaborn as sns\n",
        "import numpy as np\n",
        "if fast:\n",
        "  from IPython.display import Image\n",
        "  from IPython.core.display import HTML \n",
        "  img = Image(url= \"https://raw.githubusercontent.com/JacksonKerr/LinearRegression/main/resources/initial_pairplot.png\")\n",
        "else:\n",
        "  img = sns.pairplot(bost, hue=\"chas\")\n",
        "img"
      ],
      "execution_count": 41,
      "outputs": [
        {
          "output_type": "execute_result",
          "data": {
            "text/html": [
              "<img src=\"https://raw.githubusercontent.com/JacksonKerr/LinearRegression/main/resources/initial_pairplot.png\"/>"
            ],
            "text/plain": [
              "<IPython.core.display.Image object>"
            ]
          },
          "metadata": {},
          "execution_count": 41
        }
      ]
    },
    {
      "cell_type": "markdown",
      "metadata": {
        "id": "CJirsAXlrnLF"
      },
      "source": [
        "### Upon Examination:\n",
        "- There doesen't seem to be any meaningful grouping going on with the CHAS variable.\n",
        "- There aren't any strong linear relationships between any of the variables.\n",
        "- There appears to a non-linear relationship between:\n",
        "  - RM and MEDV\n",
        "  - LSTAT and MEDV\n",
        "  - DIS and NOX\n",
        "- Age does not seem to be correlated with MEDV\n",
        "\n",
        "We will analyse these points one at a time."
      ]
    },
    {
      "cell_type": "markdown",
      "metadata": {
        "id": "-pUfT8xSACBb"
      },
      "source": [
        "#### 1. There doesen't seem to be any meaningful grouping going on with the CHAS variable.\n",
        "\n",
        "This is good, it means this data is likely to work well with a single model. We don't need to 'break up' the problem depending on CHAS."
      ]
    },
    {
      "cell_type": "markdown",
      "metadata": {
        "id": "6MK55wnCAW-_"
      },
      "source": [
        "#### 2. There aren't any strong linear relationships between any of the variables.\n",
        "\n",
        "Ideally at least one variable would have a strong relationship with the output but such is the way of life.\n"
      ]
    },
    {
      "cell_type": "markdown",
      "metadata": {
        "id": "q0d1iYIbA_zI"
      },
      "source": [
        "#### 3. There appears to be a non-linear relationship between:"
      ]
    },
    {
      "cell_type": "markdown",
      "metadata": {
        "id": "10QdCAHbBqlb"
      },
      "source": [
        "##### 3a. RM and MEDV\n",
        "The scatter plot of RM and MEDV shows somewhat of a non-linear relationship between them.\n",
        "By transforming RM, we can create a new variable which more closely models a linear relationship.\n",
        "We can now drop RM and use the new variable RM²\n",
        "\n",
        "\n"
      ]
    },
    {
      "cell_type": "code",
      "metadata": {
        "id": "bs48XLBfET-Z",
        "outputId": "af789688-bbed-47e2-8ba6-7007693c855a",
        "colab": {
          "base_uri": "https://localhost:8080/",
          "height": 0
        }
      },
      "source": [
        "sns.scatterplot(x=bost[\"rm\"], y=bost[\"medv\"])"
      ],
      "execution_count": 42,
      "outputs": [
        {
          "output_type": "execute_result",
          "data": {
            "text/plain": [
              "<matplotlib.axes._subplots.AxesSubplot at 0x7f24a1d2b5d0>"
            ]
          },
          "metadata": {},
          "execution_count": 42
        },
        {
          "output_type": "display_data",
          "data": {
            "image/png": "[encoded data removed]",
            "text/plain": [
              "<Figure size 432x288 with 1 Axes>"
            ]
          },
          "metadata": {
            "needs_background": "light"
          }
        }
      ]
    },
    {
      "cell_type": "code",
      "metadata": {
        "id": "U1R-d6UAUUM_",
        "outputId": "f0bc9f24-ceba-41c6-83e2-6efbf99821c2",
        "colab": {
          "base_uri": "https://localhost:8080/",
          "height": 0
        }
      },
      "source": [
        "# Remove RM and replace with RM2 = RM²\n",
        "if \"rm\" in bost.columns:\n",
        "  bost.insert(2, \"rm2\", bost[\"rm\"].copy()**2, True)\n",
        "  bost = bost.drop(['rm'], axis=1)\n",
        "\n",
        "sns.scatterplot(x=bost[\"rm2\"], y=bost[\"medv\"])"
      ],
      "execution_count": 43,
      "outputs": [
        {
          "output_type": "execute_result",
          "data": {
            "text/plain": [
              "<matplotlib.axes._subplots.AxesSubplot at 0x7f24addc3650>"
            ]
          },
          "metadata": {},
          "execution_count": 43
        },
        {
          "output_type": "display_data",
          "data": {
            "image/png": "[encoded data removed]",
            "text/plain": [
              "<Figure size 432x288 with 1 Axes>"
            ]
          },
          "metadata": {
            "needs_background": "light"
          }
        }
      ]
    },
    {
      "cell_type": "markdown",
      "metadata": {
        "id": "eBEC7TqzIQD3"
      },
      "source": [
        "That looks a lot better."
      ]
    },
    {
      "cell_type": "markdown",
      "metadata": {
        "id": "_ck6IgafBNas"
      },
      "source": [
        "##### 3b. LSAT and MEDV\n",
        "Here we can repeat a similar process as for RM and MEDV\n"
      ]
    },
    {
      "cell_type": "code",
      "metadata": {
        "id": "SERlCsJ6Iloe",
        "outputId": "96b11c72-5acb-44a1-ad45-2131f2cf1f5a",
        "colab": {
          "base_uri": "https://localhost:8080/",
          "height": 0
        }
      },
      "source": [
        "sns.scatterplot(x=np.log(bost[\"lstat\"]), y=bost[\"medv\"])"
      ],
      "execution_count": 44,
      "outputs": [
        {
          "output_type": "execute_result",
          "data": {
            "text/plain": [
              "<matplotlib.axes._subplots.AxesSubplot at 0x7f249e2dfb10>"
            ]
          },
          "metadata": {},
          "execution_count": 44
        },
        {
          "output_type": "display_data",
          "data": {
            "image/png": "[encoded data removed]",
            "text/plain": [
              "<Figure size 432x288 with 1 Axes>"
            ]
          },
          "metadata": {
            "needs_background": "light"
          }
        }
      ]
    },
    {
      "cell_type": "code",
      "metadata": {
        "id": "EEXYXLuPUUTv",
        "outputId": "ca1d43ff-2b48-4f94-8e60-e7f8cc8106dc",
        "colab": {
          "base_uri": "https://localhost:8080/",
          "height": 0
        }
      },
      "source": [
        "# Remove LSTAT and replace with LOG_LSTAT = ln(LSTAT)\n",
        "if \"lstat\" in bost.columns:\n",
        "  bost.insert(2, \"LOG_lstat\", np.log(bost[\"lstat\"].copy()), True)\n",
        "  bost = bost.drop(['lstat'], axis=1)\n",
        "\n",
        "sns.scatterplot(x=bost[\"LOG_lstat\"], y=bost[\"medv\"])"
      ],
      "execution_count": 45,
      "outputs": [
        {
          "output_type": "execute_result",
          "data": {
            "text/plain": [
              "<matplotlib.axes._subplots.AxesSubplot at 0x7f249e262110>"
            ]
          },
          "metadata": {},
          "execution_count": 45
        },
        {
          "output_type": "display_data",
          "data": {
            "image/png": "[encoded data removed]",
            "text/plain": [
              "<Figure size 432x288 with 1 Axes>"
            ]
          },
          "metadata": {
            "needs_background": "light"
          }
        }
      ]
    },
    {
      "cell_type": "markdown",
      "metadata": {
        "id": "MGvq_awCBgkf"
      },
      "source": [
        "##### 3c. DIS and NOX\n",
        "As shown below, DIS and NOX are highly correlated when one of them is correctly scaled."
      ]
    },
    {
      "cell_type": "code",
      "metadata": {
        "id": "akFV5Hfb88lk",
        "outputId": "3d39cd04-1115-4eee-e6b9-69ac2d169ed7",
        "colab": {
          "base_uri": "https://localhost:8080/",
          "height": 0
        }
      },
      "source": [
        "sns.scatterplot(x=np.log(bost[\"dis\"]), y=bost[\"nox\"])"
      ],
      "execution_count": 46,
      "outputs": [
        {
          "output_type": "execute_result",
          "data": {
            "text/plain": [
              "<matplotlib.axes._subplots.AxesSubplot at 0x7f24addc3b10>"
            ]
          },
          "metadata": {},
          "execution_count": 46
        },
        {
          "output_type": "display_data",
          "data": {
            "image/png": "[encoded data removed]",
            "text/plain": [
              "<Figure size 432x288 with 1 Axes>"
            ]
          },
          "metadata": {
            "needs_background": "light"
          }
        }
      ]
    },
    {
      "cell_type": "markdown",
      "metadata": {
        "id": "xUUD9LX4NO9c"
      },
      "source": [
        "If we examing the meaning of these variables we find:\n",
        "\n",
        "| Variable | Explaination|\n",
        "|----------|-------------|\n",
        "| NOX | nitric oxides concentration (parts per 10 million)   |\n",
        "| DIS | weighted distances to five Boston employment centres |\n",
        "\n",
        "It's reasonable to assume that there will be a higher concentration of nitric oxides around employment centers as there is more likely to be chemical production which leads to its emission. [Source: EPA](https://www.epa.gov/ghgemissions/overview-greenhouse-gases#nitrous-oxide)\n",
        "\n",
        "As these variables are essentially providing the same information, we should remove one of them.\n",
        "\n"
      ]
    },
    {
      "cell_type": "code",
      "metadata": {
        "id": "ixCEYwJEUYK_",
        "outputId": "f0845d93-5cd1-4bcc-be11-1771a1a47a1d",
        "colab": {
          "base_uri": "https://localhost:8080/",
          "height": 0
        }
      },
      "source": [
        "sns.heatmap(bost.corr())"
      ],
      "execution_count": 47,
      "outputs": [
        {
          "output_type": "execute_result",
          "data": {
            "text/plain": [
              "<matplotlib.axes._subplots.AxesSubplot at 0x7f249e187a90>"
            ]
          },
          "metadata": {},
          "execution_count": 47
        },
        {
          "output_type": "display_data",
          "data": {
            "image/png": "[encoded data removed]",
            "text/plain": [
              "<Figure size 432x288 with 2 Axes>"
            ]
          },
          "metadata": {
            "needs_background": "light"
          }
        }
      ]
    },
    {
      "cell_type": "markdown",
      "metadata": {
        "id": "PoxF2-1_Q_uN"
      },
      "source": [
        "Looking at the heatmap of correlations between the variables, it appears DIS has a stronger correlation with MEDV than NOX does. Therefore we should choose to remove NOX"
      ]
    },
    {
      "cell_type": "code",
      "metadata": {
        "id": "qhdXlhXhRNo-",
        "outputId": "adf6753c-b697-4349-8f42-a99bded1abb8",
        "colab": {
          "base_uri": "https://localhost:8080/",
          "height": 0
        }
      },
      "source": [
        "if \"nox\" in bost.columns:\n",
        "  bost = bost.drop(['nox'], axis=1)\n",
        "bost"
      ],
      "execution_count": 48,
      "outputs": [
        {
          "output_type": "execute_result",
          "data": {
            "text/html": [
              "<div>\n",
              "<style scoped>\n",
              "    .dataframe tbody tr th:only-of-type {\n",
              "        vertical-align: middle;\n",
              "    }\n",
              "\n",
              "    .dataframe tbody tr th {\n",
              "        vertical-align: top;\n",
              "    }\n",
              "\n",
              "    .dataframe thead th {\n",
              "        text-align: right;\n",
              "    }\n",
              "</style>\n",
              "<table border=\"1\" class=\"dataframe\">\n",
              "  <thead>\n",
              "    <tr style=\"text-align: right;\">\n",
              "      <th></th>\n",
              "      <th>crim</th>\n",
              "      <th>zn</th>\n",
              "      <th>LOG_lstat</th>\n",
              "      <th>rm2</th>\n",
              "      <th>indus</th>\n",
              "      <th>chas</th>\n",
              "      <th>age</th>\n",
              "      <th>dis</th>\n",
              "      <th>rad</th>\n",
              "      <th>tax</th>\n",
              "      <th>ptratio</th>\n",
              "      <th>b</th>\n",
              "      <th>medv</th>\n",
              "    </tr>\n",
              "  </thead>\n",
              "  <tbody>\n",
              "    <tr>\n",
              "      <th>0</th>\n",
              "      <td>0.00632</td>\n",
              "      <td>18.0</td>\n",
              "      <td>1.605430</td>\n",
              "      <td>43.230625</td>\n",
              "      <td>2.31</td>\n",
              "      <td>0.0</td>\n",
              "      <td>65.2</td>\n",
              "      <td>4.0900</td>\n",
              "      <td>1.0</td>\n",
              "      <td>296.0</td>\n",
              "      <td>15.3</td>\n",
              "      <td>396.90</td>\n",
              "      <td>11.292897</td>\n",
              "    </tr>\n",
              "    <tr>\n",
              "      <th>1</th>\n",
              "      <td>0.02731</td>\n",
              "      <td>0.0</td>\n",
              "      <td>2.212660</td>\n",
              "      <td>41.229241</td>\n",
              "      <td>7.07</td>\n",
              "      <td>0.0</td>\n",
              "      <td>78.9</td>\n",
              "      <td>4.9671</td>\n",
              "      <td>2.0</td>\n",
              "      <td>242.0</td>\n",
              "      <td>17.8</td>\n",
              "      <td>396.90</td>\n",
              "      <td>15.113707</td>\n",
              "    </tr>\n",
              "    <tr>\n",
              "      <th>2</th>\n",
              "      <td>0.02729</td>\n",
              "      <td>0.0</td>\n",
              "      <td>1.393766</td>\n",
              "      <td>51.624225</td>\n",
              "      <td>7.07</td>\n",
              "      <td>0.0</td>\n",
              "      <td>61.1</td>\n",
              "      <td>4.9671</td>\n",
              "      <td>2.0</td>\n",
              "      <td>242.0</td>\n",
              "      <td>17.8</td>\n",
              "      <td>392.83</td>\n",
              "      <td>26.034624</td>\n",
              "    </tr>\n",
              "    <tr>\n",
              "      <th>3</th>\n",
              "      <td>0.03237</td>\n",
              "      <td>0.0</td>\n",
              "      <td>1.078410</td>\n",
              "      <td>48.972004</td>\n",
              "      <td>2.18</td>\n",
              "      <td>0.0</td>\n",
              "      <td>45.8</td>\n",
              "      <td>6.0622</td>\n",
              "      <td>3.0</td>\n",
              "      <td>222.0</td>\n",
              "      <td>18.7</td>\n",
              "      <td>394.63</td>\n",
              "      <td>29.201223</td>\n",
              "    </tr>\n",
              "    <tr>\n",
              "      <th>4</th>\n",
              "      <td>0.06905</td>\n",
              "      <td>0.0</td>\n",
              "      <td>1.673351</td>\n",
              "      <td>51.079609</td>\n",
              "      <td>2.18</td>\n",
              "      <td>0.0</td>\n",
              "      <td>54.2</td>\n",
              "      <td>6.0622</td>\n",
              "      <td>3.0</td>\n",
              "      <td>222.0</td>\n",
              "      <td>18.7</td>\n",
              "      <td>396.90</td>\n",
              "      <td>24.099477</td>\n",
              "    </tr>\n",
              "    <tr>\n",
              "      <th>...</th>\n",
              "      <td>...</td>\n",
              "      <td>...</td>\n",
              "      <td>...</td>\n",
              "      <td>...</td>\n",
              "      <td>...</td>\n",
              "      <td>...</td>\n",
              "      <td>...</td>\n",
              "      <td>...</td>\n",
              "      <td>...</td>\n",
              "      <td>...</td>\n",
              "      <td>...</td>\n",
              "      <td>...</td>\n",
              "      <td>...</td>\n",
              "    </tr>\n",
              "    <tr>\n",
              "      <th>501</th>\n",
              "      <td>0.06263</td>\n",
              "      <td>0.0</td>\n",
              "      <td>2.269028</td>\n",
              "      <td>43.467649</td>\n",
              "      <td>11.93</td>\n",
              "      <td>0.0</td>\n",
              "      <td>69.1</td>\n",
              "      <td>2.4786</td>\n",
              "      <td>1.0</td>\n",
              "      <td>273.0</td>\n",
              "      <td>21.0</td>\n",
              "      <td>391.99</td>\n",
              "      <td>12.242679</td>\n",
              "    </tr>\n",
              "    <tr>\n",
              "      <th>502</th>\n",
              "      <td>0.04527</td>\n",
              "      <td>0.0</td>\n",
              "      <td>2.206074</td>\n",
              "      <td>37.454400</td>\n",
              "      <td>11.93</td>\n",
              "      <td>0.0</td>\n",
              "      <td>76.7</td>\n",
              "      <td>2.2875</td>\n",
              "      <td>1.0</td>\n",
              "      <td>273.0</td>\n",
              "      <td>21.0</td>\n",
              "      <td>396.90</td>\n",
              "      <td>17.066060</td>\n",
              "    </tr>\n",
              "    <tr>\n",
              "      <th>503</th>\n",
              "      <td>0.06076</td>\n",
              "      <td>0.0</td>\n",
              "      <td>1.729884</td>\n",
              "      <td>48.664576</td>\n",
              "      <td>11.93</td>\n",
              "      <td>0.0</td>\n",
              "      <td>91.0</td>\n",
              "      <td>2.1675</td>\n",
              "      <td>1.0</td>\n",
              "      <td>273.0</td>\n",
              "      <td>21.0</td>\n",
              "      <td>396.90</td>\n",
              "      <td>11.036473</td>\n",
              "    </tr>\n",
              "    <tr>\n",
              "      <th>504</th>\n",
              "      <td>0.10959</td>\n",
              "      <td>0.0</td>\n",
              "      <td>1.868721</td>\n",
              "      <td>46.158436</td>\n",
              "      <td>11.93</td>\n",
              "      <td>0.0</td>\n",
              "      <td>89.3</td>\n",
              "      <td>2.3889</td>\n",
              "      <td>1.0</td>\n",
              "      <td>273.0</td>\n",
              "      <td>21.0</td>\n",
              "      <td>393.45</td>\n",
              "      <td>13.672169</td>\n",
              "    </tr>\n",
              "    <tr>\n",
              "      <th>505</th>\n",
              "      <td>0.04741</td>\n",
              "      <td>0.0</td>\n",
              "      <td>2.064328</td>\n",
              "      <td>36.360900</td>\n",
              "      <td>11.93</td>\n",
              "      <td>0.0</td>\n",
              "      <td>80.8</td>\n",
              "      <td>2.5050</td>\n",
              "      <td>1.0</td>\n",
              "      <td>273.0</td>\n",
              "      <td>21.0</td>\n",
              "      <td>396.90</td>\n",
              "      <td>4.767363</td>\n",
              "    </tr>\n",
              "  </tbody>\n",
              "</table>\n",
              "<p>506 rows × 13 columns</p>\n",
              "</div>"
            ],
            "text/plain": [
              "        crim    zn  LOG_lstat        rm2  ...    tax  ptratio       b       medv\n",
              "0    0.00632  18.0   1.605430  43.230625  ...  296.0     15.3  396.90  11.292897\n",
              "1    0.02731   0.0   2.212660  41.229241  ...  242.0     17.8  396.90  15.113707\n",
              "2    0.02729   0.0   1.393766  51.624225  ...  242.0     17.8  392.83  26.034624\n",
              "3    0.03237   0.0   1.078410  48.972004  ...  222.0     18.7  394.63  29.201223\n",
              "4    0.06905   0.0   1.673351  51.079609  ...  222.0     18.7  396.90  24.099477\n",
              "..       ...   ...        ...        ...  ...    ...      ...     ...        ...\n",
              "501  0.06263   0.0   2.269028  43.467649  ...  273.0     21.0  391.99  12.242679\n",
              "502  0.04527   0.0   2.206074  37.454400  ...  273.0     21.0  396.90  17.066060\n",
              "503  0.06076   0.0   1.729884  48.664576  ...  273.0     21.0  396.90  11.036473\n",
              "504  0.10959   0.0   1.868721  46.158436  ...  273.0     21.0  393.45  13.672169\n",
              "505  0.04741   0.0   2.064328  36.360900  ...  273.0     21.0  396.90   4.767363\n",
              "\n",
              "[506 rows x 13 columns]"
            ]
          },
          "metadata": {},
          "execution_count": 48
        }
      ]
    },
    {
      "cell_type": "markdown",
      "metadata": {
        "id": "qklSYxS-Rhrn"
      },
      "source": [
        "#### 4. AGE doesen't seem to be correlated with MEDV.\n",
        "\n",
        "Looking at the graph below, there seems to be no correlation between AGE and MEDV. This means we are free to remove AGE as it is not a good predictor for the outcome."
      ]
    },
    {
      "cell_type": "code",
      "metadata": {
        "id": "PQHBURqpUUZo",
        "outputId": "40d19882-3832-42ac-f6f6-a3a00d68a6cc",
        "colab": {
          "base_uri": "https://localhost:8080/",
          "height": 0
        }
      },
      "source": [
        "sns.scatterplot(x=bost[\"age\"], y=bost[\"medv\"]) "
      ],
      "execution_count": 49,
      "outputs": [
        {
          "output_type": "execute_result",
          "data": {
            "text/plain": [
              "<matplotlib.axes._subplots.AxesSubplot at 0x7f249e037b90>"
            ]
          },
          "metadata": {},
          "execution_count": 49
        },
        {
          "output_type": "display_data",
          "data": {
            "image/png": "[encoded data removed]",
            "text/plain": [
              "<Figure size 432x288 with 1 Axes>"
            ]
          },
          "metadata": {
            "needs_background": "light"
          }
        }
      ]
    },
    {
      "cell_type": "code",
      "metadata": {
        "id": "cygBkUX1SdE1"
      },
      "source": [
        "# Remove AGE\n",
        "if \"age\" in bost.columns:\n",
        "  bost = bost.drop(['age'], axis=1)"
      ],
      "execution_count": 50,
      "outputs": []
    },
    {
      "cell_type": "markdown",
      "metadata": {
        "id": "y7w3bXczSpCS"
      },
      "source": [
        "#### Additionally, TAX and RAD seem to be highly correlated\n",
        "\n",
        "Looking back at the heatmap, we can see that TAX and RAD seem to be highly correlated."
      ]
    },
    {
      "cell_type": "code",
      "metadata": {
        "id": "AtnbRF9xTIlS",
        "outputId": "113e3343-9fe5-421c-f312-8a14acf2d23b",
        "colab": {
          "base_uri": "https://localhost:8080/",
          "height": 0
        }
      },
      "source": [
        "sns.heatmap(bost.corr())"
      ],
      "execution_count": 51,
      "outputs": [
        {
          "output_type": "execute_result",
          "data": {
            "text/plain": [
              "<matplotlib.axes._subplots.AxesSubplot at 0x7f249e095e10>"
            ]
          },
          "metadata": {},
          "execution_count": 51
        },
        {
          "output_type": "display_data",
          "data": {
            "image/png": "[encoded data removed]",
            "text/plain": [
              "<Figure size 432x288 with 2 Axes>"
            ]
          },
          "metadata": {
            "needs_background": "light"
          }
        }
      ]
    },
    {
      "cell_type": "code",
      "metadata": {
        "id": "raVVS8gz_O1v",
        "outputId": "b1a8f2f5-0049-4412-fbe9-ea916741b1e1",
        "colab": {
          "base_uri": "https://localhost:8080/",
          "height": 0
        }
      },
      "source": [
        "sns.scatterplot(x=bost[\"tax\"], y=bost[\"rad\"]) "
      ],
      "execution_count": 52,
      "outputs": [
        {
          "output_type": "execute_result",
          "data": {
            "text/plain": [
              "<matplotlib.axes._subplots.AxesSubplot at 0x7f249def5550>"
            ]
          },
          "metadata": {},
          "execution_count": 52
        },
        {
          "output_type": "display_data",
          "data": {
            "image/png": "[encoded data removed]",
            "text/plain": [
              "<Figure size 432x288 with 1 Axes>"
            ]
          },
          "metadata": {
            "needs_background": "light"
          }
        }
      ]
    },
    {
      "cell_type": "markdown",
      "metadata": {
        "id": "xY7CoagMTMAC"
      },
      "source": [
        "This means we are free to remove one of them. TAX looks like it has a slightly stronger correlation to MEDV as shown in the heatmap. Though it is very close. We will remove RAD in this case."
      ]
    },
    {
      "cell_type": "code",
      "metadata": {
        "id": "Y_QGoFawUA70"
      },
      "source": [
        "# Remove RAD\n",
        "if \"rad\" in bost.columns:\n",
        "  bost = bost.drop(['rad'], axis=1)"
      ],
      "execution_count": 53,
      "outputs": []
    },
    {
      "cell_type": "markdown",
      "metadata": {
        "id": "UvVnIJrHCy-B"
      },
      "source": [
        "## Hyperparameter Analysis"
      ]
    },
    {
      "cell_type": "markdown",
      "metadata": {
        "id": "GXvFxcfs975H"
      },
      "source": [
        "### Helper functions from labs\n",
        "```\n",
        "def obtain_train_test_mse(mdl, hyperparameter_name, hyperparameter_values, X_train, y_train, X_test, y_test, runs=1)\n",
        "\n",
        "def cross_validate_model_mse(mdl, param_grid, X, y, cv=None)\n",
        "```\n",
        "\n"
      ]
    },
    {
      "cell_type": "code",
      "metadata": {
        "id": "i6fXYSez34HB"
      },
      "source": [
        "def obtain_train_test_mse(mdl, hyperparameter_name, hyperparameter_values, X_train, y_train, X_test, y_test, runs=1):\n",
        "  from sklearn.metrics import mean_squared_error\n",
        "  import pandas as pd\n",
        "\n",
        "  # Start with an empty list\n",
        "  res = []\n",
        "  for i in range(runs):\n",
        "    for val in hyperparameter_values:\n",
        "      # call the set_params method of the mdl object, passing in a dictionary of the current parameter and value \n",
        "      # (in other words, execute: mdl.set_params(**{ hyperparameter_name : val })\n",
        "      mdl.set_params(**{hyperparameter_name : val})\n",
        "      # fit the model on X_train and y_train\n",
        "      mdl.fit(X_train, y_train)\n",
        "\n",
        "      test_mse = mean_squared_error(y_test, mdl.predict(X_test))\n",
        "      train_mse = mean_squared_error(y_train, mdl.predict(X_train))\n",
        "\n",
        "      res.append([val, train_mse, test_mse])\n",
        "\n",
        "  colNames = [hyperparameter_name, 'train', 'test']\n",
        "  return pd.DataFrame(res, columns=colNames)\n",
        "\n",
        "def cross_validate_model_mse(mdl, param_grid, X, y, cv=None):\n",
        "    import numpy as np\n",
        "    import pandas as pd\n",
        "\n",
        "    from sklearn.metrics import mean_squared_error, make_scorer\n",
        "    from sklearn.model_selection import GridSearchCV\n",
        "    \n",
        "    # create a MSE scorer\n",
        "    scorer = make_scorer(mean_squared_error, greater_is_better=False)\n",
        "    \n",
        "    # perform the grid search on the supplied data\n",
        "    cv = GridSearchCV(mdl, param_grid, scoring=scorer, cv=cv)\n",
        "    cv.fit(X, y)\n",
        "\n",
        "    cv_stats = pd.DataFrame(cv.cv_results_).filter(regex='(param_.*)|(split.*_test_score)', axis=1)\n",
        "    cv_stats = cv_stats.melt(id_vars=cv_stats.columns[cv_stats.columns.str.match('param_.*')], var_name='split', value_name='mse')\n",
        "    cv_stats.rename(columns=lambda n: n.replace('param_', ''), inplace=True)\n",
        "    cv_stats['split'] = cv_stats['split'].str.replace('split(\\d+)_test_score', '\\\\1', regex=True).astype(np.int64)\n",
        "    cv_stats['mse'] = -cv_stats['mse']\n",
        "    \n",
        "    return cv, cv_stats"
      ],
      "execution_count": 54,
      "outputs": []
    },
    {
      "cell_type": "markdown",
      "metadata": {
        "id": "277vb2_3-AQU"
      },
      "source": [
        "### Tuning:"
      ]
    },
    {
      "cell_type": "code",
      "metadata": {
        "id": "_6o6AfFqxAdJ",
        "outputId": "d8bda1d1-dbee-4d99-91fe-8683c7602d94",
        "colab": {
          "base_uri": "https://localhost:8080/"
        }
      },
      "source": [
        "from sklearn.metrics import mean_squared_error, r2_score\n",
        "from sklearn.model_selection import train_test_split\n",
        "from sklearn.linear_model import LinearRegression\n",
        "\n",
        "# Get train/test data\n",
        "target = 'medv'\n",
        "X = bost.drop(columns=[target]).to_numpy()\n",
        "y = bost[target].to_numpy()\n",
        "X_train, X_test, y_train, y_test = train_test_split(X, y, train_size=0.7)\n",
        "                 "
      ],
      "execution_count": 55,
      "outputs": [
        {
          "output_type": "stream",
          "text": [
            "MSE:\t 36.10419853308804\n",
            "R²:\t 0.6256321637478649\n"
          ],
          "name": "stdout"
        }
      ]
    },
    {
      "cell_type": "code",
      "metadata": {
        "id": "RsUDu1Ow4aOL"
      },
      "source": [
        "from sklearn.pipeline import Pipeline\n",
        "from sklearn.preprocessing import StandardScaler\n",
        "\n",
        "from sklearn.dummy import DummyRegressor\n",
        "from sklearn.tree import DecisionTreeRegressor\n",
        "from sklearn.neighbors import KNeighborsRegressor\n",
        "\n",
        "from sklearn.model_selection import RepeatedKFold\n",
        "# 3 ROUNDS and 10 FOLDS\n",
        "rkf = RepeatedKFold(n_splits=10, n_repeats=3)\n",
        "\n",
        "dummy = DummyRegressor(strategy='mean')\n",
        "dummy_grid = {} ## note: the dummy regressor has no real tunable hyperparameters, hence the empty dictionary\n",
        "\n",
        "CART = DecisionTreeRegressor()\n",
        "CART_grid = { 'min_samples_split' : [2, 5, 10, 20, 40, 80, 120, 360] }\n",
        "\n",
        "zknn = Pipeline([ ('scale', StandardScaler()), ('knn', KNeighborsRegressor()) ])\n",
        "zknn_grid = { 'knn__n_neighbors' : [1, 2, 5, 10, 20, 40, 80, 120] }\n",
        "\n",
        "dummyCrossVal, dummy_stats = cross_validate_model_mse(dummy, dummy_grid, X_train, y_train, cv=rkf)\n",
        "\n",
        "CART_train_test = obtain_train_test_mse(CART, 'min_samples_split', CART_grid['min_samples_split'], X_train, y_train, X_test, y_test)\n",
        "CARTcv, CART_stats = cross_validate_model_mse(CART, CART_grid, X_train, y_train, cv=rkf)\n",
        "\n",
        "knn_train_test = obtain_train_test_mse(zknn, 'knn__n_neighbors', zknn_grid['knn__n_neighbors'], X_train, y_train, X_test, y_test)\n",
        "knncv, knn_stats = cross_validate_model_mse(zknn, zknn_grid, X_train, y_train, cv=rkf)"
      ],
      "execution_count": 56,
      "outputs": []
    },
    {
      "cell_type": "markdown",
      "metadata": {
        "id": "g3DLI9oz5k78"
      },
      "source": [
        "# Plotting"
      ]
    },
    {
      "cell_type": "code",
      "metadata": {
        "id": "HYXNoiki5kGz",
        "outputId": "16914d29-d0f6-4216-f8bd-707b3e3a1ea2",
        "colab": {
          "base_uri": "https://localhost:8080/",
          "height": 431
        }
      },
      "source": [
        "import numpy as np\n",
        "import seaborn as sns\n",
        "from sklearn.metrics import mean_squared_error\n",
        "from matplotlib import pyplot as plt\n",
        "\n",
        "print(\"Dummy Regressor, mean CV MSE={}, test MSE={}\".format(dummy_stats['mse'].mean(), mean_squared_error(y_test, dummyCrossVal.predict(X_test))))\n",
        "print(\"CART, best CV MSE={}, test MSE={}\".format(CARTcv.best_score_, mean_squared_error(y_test, CARTcv.predict(X_test))))\n",
        "print(\"kNN, best CV MSE={}, test MSE={}\".format(knncv.best_score_, mean_squared_error(y_test, knncv.predict(X_test))))\n",
        "\n",
        "# 2 Plots side by side\n",
        "fig, axs = plt.subplots(nrows=1, ncols=2, figsize=(24,8))\n",
        "\n",
        "# CART plot\n",
        "sns.lineplot(data=CART_train_test, x='min_samples_split', y='test', label='mse', ax=axs[0])\n",
        "axs[0].set_ylim((0, 100))\n",
        "axs[0].set_title('CART')\n",
        "\n",
        "# kNN plot\n",
        "sns.lineplot(data=knn_train_test, x='knn__n_neighbors', y='test', label='mse', ax=axs[1])\n",
        "axs[1].set_ylim((0, 100))\n",
        "axs[1].set_title('kNN')\n"
      ],
      "execution_count": 59,
      "outputs": [
        {
          "output_type": "stream",
          "text": [
            "Dummy Regressor, mean CV MSE=87.21333803303439, test MSE=96.74167743039852\n",
            "CART, best CV MSE=-37.39830639381333, test MSE=22.474165639807676\n",
            "kNN, best CV MSE=-34.19255186905861, test MSE=29.513982883963326\n"
          ],
          "name": "stdout"
        },
        {
          "output_type": "execute_result",
          "data": {
            "text/plain": [
              "Text(0.5, 1.0, 'kNN')"
            ]
          },
          "metadata": {},
          "execution_count": 59
        },
        {
          "output_type": "display_data",
          "data": {
            "image/png": "[encoded data removed]",
            "text/plain": [
              "<Figure size 1728x576 with 2 Axes>"
            ]
          },
          "metadata": {
            "needs_background": "light"
          }
        }
      ]
    },
    {
      "cell_type": "markdown",
      "metadata": {
        "id": "cnbhDhGW_VIN"
      },
      "source": [
        "# Linear Regression"
      ]
    },
    {
      "cell_type": "code",
      "metadata": {
        "id": "VYRCdp8y_Wbg"
      },
      "source": [
        "mdl = LinearRegression()\n",
        "mdl.fit(X_train, y_train)\n",
        "\n",
        "print(\"MSE:\\t\", mean_squared_error(y_test, mdl.predict(X_test)))\n",
        "print(\"R²:\\t\", r2_score(y_test, mdl.predict(X_test)))"
      ],
      "execution_count": null,
      "outputs": []
    },
    {
      "cell_type": "markdown",
      "metadata": {
        "id": "OgeAjoUKJVhu"
      },
      "source": [
        "# TODO\n",
        "- Standardisation for kNN\n",
        "- Compare other modeld to linear regression\n",
        " - use cross validation (3 rounds of k folds)\n",
        " - use both original data and EDA data\n",
        " - plot findings in easy to understand graphics\n",
        "- Knowledge generation\n",
        " - generate CART decision tree and use it to learn about the data (see spec)"
      ]
    }
  ]
}