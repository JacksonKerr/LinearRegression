{
  "nbformat": 4,
  "nbformat_minor": 0,
  "metadata": {
    "colab": {
      "name": "PCA_Ensemble_Learning.ipynb",
      "provenance": [],
      "collapsed_sections": [
        "-Wnu2iNxOe-5",
        "wJ1NTXJLHsPp",
        "DkVq6zqzLIMk",
        "4YcOl9gbiL18",
        "JI_Zj44qiQlj",
        "s59YzcKViSpU"
      ],
      "authorship_tag": "ABX9TyPYSa9ZVVwPSBWTT8kUxT4D",
      "include_colab_link": true
    },
    "kernelspec": {
      "name": "python3",
      "display_name": "Python 3"
    },
    "language_info": {
      "name": "python"
    }
  },
  "cells": [
    {
      "cell_type": "markdown",
      "metadata": {
        "id": "view-in-github",
        "colab_type": "text"
      },
      "source": [
        "<a href=\"https://colab.research.google.com/github/JacksonKerr/LinearRegression/blob/main/PCA_Ensemble_Learning.ipynb\" target=\"_parent\"><img src=\"https://colab.research.google.com/assets/colab-badge.svg\" alt=\"Open In Colab\"/></a>"
      ]
    },
    {
      "cell_type": "markdown",
      "metadata": {
        "id": "Sffu5kODcxcZ"
      },
      "source": [
        "#INFO204 Assignment 2\n",
        "---\n",
        "*Jackson Kerr | 2942576*\n",
        "\n",
        "[GitHub Repo](https://github.com/JacksonKerr/LinearRegression)\n",
        "\n",
        "---\n",
        "\n"
      ]
    },
    {
      "cell_type": "markdown",
      "metadata": {
        "id": "vIgbIEAKd5U-"
      },
      "source": [
        "# Part 1: Principal Component Analysis"
      ]
    },
    {
      "cell_type": "markdown",
      "metadata": {
        "id": "Ft3cQeGtHm6J"
      },
      "source": [
        "#### Doc Options:"
      ]
    },
    {
      "cell_type": "code",
      "metadata": {
        "id": "dijao4zfGrVY"
      },
      "source": [
        "# If true, get graph images from GitHub repo instead (why is the pairplot function is so slow?!?!)\n",
        "fast = True\n",
        "rs=2\n",
        "\n",
        "if fast:\n",
        "  from IPython.display import Image\n",
        "  from IPython.core.display import HTML"
      ],
      "execution_count": 1,
      "outputs": []
    },
    {
      "cell_type": "markdown",
      "metadata": {
        "id": "-Wnu2iNxOe-5"
      },
      "source": [
        "## Helper functions from labs\n",
        "- extract_loadings(pca, feature_names=None, pipeline_component=None, prefix='PC')\n",
        "- biplot(X, loadings=None, pc1=0, pc2=1, y=None, labels=None)"
      ]
    },
    {
      "cell_type": "code",
      "metadata": {
        "id": "HbYVbr6bOhYS"
      },
      "source": [
        "def extract_loadings(pca, feature_names=None, pipeline_component=None, prefix='PC'):\n",
        "    \"\"\"\n",
        "       take a PCA model and extract its loadings into a data frame for easier interrogation\n",
        "    \"\"\"\n",
        "    if pipeline_component is not None:\n",
        "        pca = pca[pipeline_component]\n",
        "        \n",
        "    X = pca.components_.T\n",
        "    \n",
        "    return pd.DataFrame(X, columns=[ f'{prefix}{i+1}' for i in range(X.shape[1]) ], index=feature_names)"
      ],
      "execution_count": 2,
      "outputs": []
    },
    {
      "cell_type": "code",
      "metadata": {
        "id": "50nZQZ__OkTT"
      },
      "source": [
        "def biplot(X, loadings=None, pc1=0, pc2=1, y=None, labels=None):\n",
        "    \"\"\"\n",
        "      plot two principal components of data embedded via PCA along with their feature loadings\n",
        "    \"\"\"\n",
        "    xs = X[:, pc1]\n",
        "    ys = X[:, pc2]\n",
        "    \n",
        "    scalex = 1.0 / (xs.max() - xs.min())\n",
        "    scaley = 1.0 / (ys.max() - ys.min())    \n",
        "    sns.scatterplot(x=xs*scalex, y=ys*scaley, hue=y, palette='viridis')\n",
        "    \n",
        "    if loadings is not None:\n",
        "        n = len(loadings)\n",
        "        if labels is None:\n",
        "            labels = loadings.index.values\n",
        "        for i in range(n):\n",
        "            plt.arrow(0, 0, loadings.iloc[i, pc1], loadings.iloc[i, pc2], color='#ce2227', width=0.01, head_width=0.04)\n",
        "            plt.text(loadings.iloc[i, pc1]* 1.15, loadings.iloc[i, pc2] * 1.15, labels[i], color='#ce2227', ha='center', va='center')\n",
        "        \n",
        "    plt.xlim(-1,1)\n",
        "    plt.ylim(-1,1)\n",
        "    plt.xlabel(f'PC{pc1+1}')\n",
        "    plt.ylabel(f'PC{pc2+1}')\n",
        "    plt.grid()"
      ],
      "execution_count": 3,
      "outputs": []
    },
    {
      "cell_type": "code",
      "metadata": {
        "id": "rhHOkSGJOmHK"
      },
      "source": [
        "def screeplot(pca, pipeline_component=None, prefix='PC', n_components=None):\n",
        "    \"\"\"\n",
        "        produce a plot from a PCA embedding that visualises the amount of \n",
        "        explained variance for each of the principal components \n",
        "    \"\"\"\n",
        "    import seaborn as sns\n",
        "    from matplotlib import pyplot as plt\n",
        "    \n",
        "    if pipeline_component is not None:\n",
        "        pca = pca[pipeline_component]\n",
        "\n",
        "    explained_variance = pca.explained_variance_ratio_\n",
        "    if n_components is not None: explained_variance = explained_variance[0:n_components]\n",
        "    \n",
        "    total_variance = np.cumsum(explained_variance)\n",
        "    ticks = range(len(explained_variance))\n",
        "    labels = [ f'{prefix}{i+1}' for i in ticks ]\n",
        "\n",
        "    plt.bar(x=range(len(explained_variance)), height=explained_variance, label='Component')\n",
        "    plt.plot(range(len(total_variance)), total_variance, 'o-', color='#ce2227', linewidth=2, label='Cumulative')\n",
        "    plt.xticks(ticks=ticks, labels=labels)\n",
        "    plt.xlabel('Principal Component')\n",
        "    plt.ylabel('Explained Variance')\n",
        "    plt.legend()"
      ],
      "execution_count": 4,
      "outputs": []
    },
    {
      "cell_type": "markdown",
      "metadata": {
        "id": "wJ1NTXJLHsPp"
      },
      "source": [
        "##Gettin That Data:\n",
        "Let's start by importing the wine data."
      ]
    },
    {
      "cell_type": "code",
      "metadata": {
        "id": "muw09uiU-Ll4"
      },
      "source": [
        "from sklearn.datasets import load_wine\n",
        "import pandas as pd\n",
        "\n",
        "wine_data = load_wine()\n",
        "\n",
        "# Features\n",
        "wine_x = pd.DataFrame(wine_data['data'], columns=wine_data['feature_names'])\n",
        "\n",
        "# Target\n",
        "wine_y = wine_data['target']\n",
        "\n",
        "# Features with target included\n",
        "wine = wine_x.copy()\n",
        "wine['target'] = wine_y.copy();"
      ],
      "execution_count": 5,
      "outputs": []
    },
    {
      "cell_type": "markdown",
      "metadata": {
        "id": "DkVq6zqzLIMk"
      },
      "source": [
        "## Exploratory Data Analysis"
      ]
    },
    {
      "cell_type": "markdown",
      "metadata": {
        "id": "fVNls44LHzcZ"
      },
      "source": [
        "#### Description:\n",
        "Let's have a high level look at the data."
      ]
    },
    {
      "cell_type": "code",
      "metadata": {
        "colab": {
          "base_uri": "https://localhost:8080/"
        },
        "id": "xR5dR3TwAist",
        "outputId": "220ec554-ec32-4402-c845-5e4f420cfb9b"
      },
      "source": [
        "wine.info()"
      ],
      "execution_count": 6,
      "outputs": [
        {
          "output_type": "stream",
          "name": "stdout",
          "text": [
            "<class 'pandas.core.frame.DataFrame'>\n",
            "RangeIndex: 178 entries, 0 to 177\n",
            "Data columns (total 14 columns):\n",
            " #   Column                        Non-Null Count  Dtype  \n",
            "---  ------                        --------------  -----  \n",
            " 0   alcohol                       178 non-null    float64\n",
            " 1   malic_acid                    178 non-null    float64\n",
            " 2   ash                           178 non-null    float64\n",
            " 3   alcalinity_of_ash             178 non-null    float64\n",
            " 4   magnesium                     178 non-null    float64\n",
            " 5   total_phenols                 178 non-null    float64\n",
            " 6   flavanoids                    178 non-null    float64\n",
            " 7   nonflavanoid_phenols          178 non-null    float64\n",
            " 8   proanthocyanins               178 non-null    float64\n",
            " 9   color_intensity               178 non-null    float64\n",
            " 10  hue                           178 non-null    float64\n",
            " 11  od280/od315_of_diluted_wines  178 non-null    float64\n",
            " 12  proline                       178 non-null    float64\n",
            " 13  target                        178 non-null    int64  \n",
            "dtypes: float64(13), int64(1)\n",
            "memory usage: 19.6 KB\n"
          ]
        }
      ]
    },
    {
      "cell_type": "markdown",
      "metadata": {
        "id": "Y6LbZNQKH9oD"
      },
      "source": [
        "13 features plus the target. All inputs are decimal 64 bit floats. No null/missing values."
      ]
    },
    {
      "cell_type": "code",
      "metadata": {
        "colab": {
          "base_uri": "https://localhost:8080/"
        },
        "id": "3lXPGoMrIOiT",
        "outputId": "06732dd6-c435-4ace-abf9-2aceadb193e1"
      },
      "source": [
        "classes = list(set(wine['target']))\n",
        "classes"
      ],
      "execution_count": 7,
      "outputs": [
        {
          "output_type": "execute_result",
          "data": {
            "text/plain": [
              "[0, 1, 2]"
            ]
          },
          "metadata": {},
          "execution_count": 7
        }
      ]
    },
    {
      "cell_type": "markdown",
      "metadata": {
        "id": "uZlYg_2wISQE"
      },
      "source": [
        "The target only contains 3 unique values. This is likely an encoding for a three classes."
      ]
    },
    {
      "cell_type": "code",
      "metadata": {
        "colab": {
          "base_uri": "https://localhost:8080/"
        },
        "id": "PubOEAIMJCdK",
        "outputId": "1e554ce2-e17c-436e-fc80-f4129742e1ba"
      },
      "source": [
        "wine['target'].value_counts()"
      ],
      "execution_count": 8,
      "outputs": [
        {
          "output_type": "execute_result",
          "data": {
            "text/plain": [
              "1    71\n",
              "0    59\n",
              "2    48\n",
              "Name: target, dtype: int64"
            ]
          },
          "metadata": {},
          "execution_count": 8
        }
      ]
    },
    {
      "cell_type": "markdown",
      "metadata": {
        "id": "3Mtka7nvKuE3"
      },
      "source": [
        "Slight imbalance in occurances of each class, not too dramatic but may need to take this into account when modeling. Using KFold will help with this."
      ]
    },
    {
      "cell_type": "code",
      "metadata": {
        "colab": {
          "base_uri": "https://localhost:8080/",
          "height": 0
        },
        "id": "4oJfQazMHbYi",
        "outputId": "e607cce0-aa45-48c2-b982-e1ad64500542"
      },
      "source": [
        "wine_x.describe()"
      ],
      "execution_count": 9,
      "outputs": [
        {
          "output_type": "execute_result",
          "data": {
            "text/html": [
              "<div>\n",
              "<style scoped>\n",
              "    .dataframe tbody tr th:only-of-type {\n",
              "        vertical-align: middle;\n",
              "    }\n",
              "\n",
              "    .dataframe tbody tr th {\n",
              "        vertical-align: top;\n",
              "    }\n",
              "\n",
              "    .dataframe thead th {\n",
              "        text-align: right;\n",
              "    }\n",
              "</style>\n",
              "<table border=\"1\" class=\"dataframe\">\n",
              "  <thead>\n",
              "    <tr style=\"text-align: right;\">\n",
              "      <th></th>\n",
              "      <th>alcohol</th>\n",
              "      <th>malic_acid</th>\n",
              "      <th>ash</th>\n",
              "      <th>alcalinity_of_ash</th>\n",
              "      <th>magnesium</th>\n",
              "      <th>total_phenols</th>\n",
              "      <th>flavanoids</th>\n",
              "      <th>nonflavanoid_phenols</th>\n",
              "      <th>proanthocyanins</th>\n",
              "      <th>color_intensity</th>\n",
              "      <th>hue</th>\n",
              "      <th>od280/od315_of_diluted_wines</th>\n",
              "      <th>proline</th>\n",
              "    </tr>\n",
              "  </thead>\n",
              "  <tbody>\n",
              "    <tr>\n",
              "      <th>count</th>\n",
              "      <td>178.000000</td>\n",
              "      <td>178.000000</td>\n",
              "      <td>178.000000</td>\n",
              "      <td>178.000000</td>\n",
              "      <td>178.000000</td>\n",
              "      <td>178.000000</td>\n",
              "      <td>178.000000</td>\n",
              "      <td>178.000000</td>\n",
              "      <td>178.000000</td>\n",
              "      <td>178.000000</td>\n",
              "      <td>178.000000</td>\n",
              "      <td>178.000000</td>\n",
              "      <td>178.000000</td>\n",
              "    </tr>\n",
              "    <tr>\n",
              "      <th>mean</th>\n",
              "      <td>13.000618</td>\n",
              "      <td>2.336348</td>\n",
              "      <td>2.366517</td>\n",
              "      <td>19.494944</td>\n",
              "      <td>99.741573</td>\n",
              "      <td>2.295112</td>\n",
              "      <td>2.029270</td>\n",
              "      <td>0.361854</td>\n",
              "      <td>1.590899</td>\n",
              "      <td>5.058090</td>\n",
              "      <td>0.957449</td>\n",
              "      <td>2.611685</td>\n",
              "      <td>746.893258</td>\n",
              "    </tr>\n",
              "    <tr>\n",
              "      <th>std</th>\n",
              "      <td>0.811827</td>\n",
              "      <td>1.117146</td>\n",
              "      <td>0.274344</td>\n",
              "      <td>3.339564</td>\n",
              "      <td>14.282484</td>\n",
              "      <td>0.625851</td>\n",
              "      <td>0.998859</td>\n",
              "      <td>0.124453</td>\n",
              "      <td>0.572359</td>\n",
              "      <td>2.318286</td>\n",
              "      <td>0.228572</td>\n",
              "      <td>0.709990</td>\n",
              "      <td>314.907474</td>\n",
              "    </tr>\n",
              "    <tr>\n",
              "      <th>min</th>\n",
              "      <td>11.030000</td>\n",
              "      <td>0.740000</td>\n",
              "      <td>1.360000</td>\n",
              "      <td>10.600000</td>\n",
              "      <td>70.000000</td>\n",
              "      <td>0.980000</td>\n",
              "      <td>0.340000</td>\n",
              "      <td>0.130000</td>\n",
              "      <td>0.410000</td>\n",
              "      <td>1.280000</td>\n",
              "      <td>0.480000</td>\n",
              "      <td>1.270000</td>\n",
              "      <td>278.000000</td>\n",
              "    </tr>\n",
              "    <tr>\n",
              "      <th>25%</th>\n",
              "      <td>12.362500</td>\n",
              "      <td>1.602500</td>\n",
              "      <td>2.210000</td>\n",
              "      <td>17.200000</td>\n",
              "      <td>88.000000</td>\n",
              "      <td>1.742500</td>\n",
              "      <td>1.205000</td>\n",
              "      <td>0.270000</td>\n",
              "      <td>1.250000</td>\n",
              "      <td>3.220000</td>\n",
              "      <td>0.782500</td>\n",
              "      <td>1.937500</td>\n",
              "      <td>500.500000</td>\n",
              "    </tr>\n",
              "    <tr>\n",
              "      <th>50%</th>\n",
              "      <td>13.050000</td>\n",
              "      <td>1.865000</td>\n",
              "      <td>2.360000</td>\n",
              "      <td>19.500000</td>\n",
              "      <td>98.000000</td>\n",
              "      <td>2.355000</td>\n",
              "      <td>2.135000</td>\n",
              "      <td>0.340000</td>\n",
              "      <td>1.555000</td>\n",
              "      <td>4.690000</td>\n",
              "      <td>0.965000</td>\n",
              "      <td>2.780000</td>\n",
              "      <td>673.500000</td>\n",
              "    </tr>\n",
              "    <tr>\n",
              "      <th>75%</th>\n",
              "      <td>13.677500</td>\n",
              "      <td>3.082500</td>\n",
              "      <td>2.557500</td>\n",
              "      <td>21.500000</td>\n",
              "      <td>107.000000</td>\n",
              "      <td>2.800000</td>\n",
              "      <td>2.875000</td>\n",
              "      <td>0.437500</td>\n",
              "      <td>1.950000</td>\n",
              "      <td>6.200000</td>\n",
              "      <td>1.120000</td>\n",
              "      <td>3.170000</td>\n",
              "      <td>985.000000</td>\n",
              "    </tr>\n",
              "    <tr>\n",
              "      <th>max</th>\n",
              "      <td>14.830000</td>\n",
              "      <td>5.800000</td>\n",
              "      <td>3.230000</td>\n",
              "      <td>30.000000</td>\n",
              "      <td>162.000000</td>\n",
              "      <td>3.880000</td>\n",
              "      <td>5.080000</td>\n",
              "      <td>0.660000</td>\n",
              "      <td>3.580000</td>\n",
              "      <td>13.000000</td>\n",
              "      <td>1.710000</td>\n",
              "      <td>4.000000</td>\n",
              "      <td>1680.000000</td>\n",
              "    </tr>\n",
              "  </tbody>\n",
              "</table>\n",
              "</div>"
            ],
            "text/plain": [
              "          alcohol  malic_acid  ...  od280/od315_of_diluted_wines      proline\n",
              "count  178.000000  178.000000  ...                    178.000000   178.000000\n",
              "mean    13.000618    2.336348  ...                      2.611685   746.893258\n",
              "std      0.811827    1.117146  ...                      0.709990   314.907474\n",
              "min     11.030000    0.740000  ...                      1.270000   278.000000\n",
              "25%     12.362500    1.602500  ...                      1.937500   500.500000\n",
              "50%     13.050000    1.865000  ...                      2.780000   673.500000\n",
              "75%     13.677500    3.082500  ...                      3.170000   985.000000\n",
              "max     14.830000    5.800000  ...                      4.000000  1680.000000\n",
              "\n",
              "[8 rows x 13 columns]"
            ]
          },
          "metadata": {},
          "execution_count": 9
        }
      ]
    },
    {
      "cell_type": "markdown",
      "metadata": {
        "id": "RwX2yehiK5Jr"
      },
      "source": [
        "There are large differences between the standard deviations of some features. Standardisation is likely to be useful when doing PCA. I will use standardisation in all cases as it rarely hurts but can bring inprovements."
      ]
    },
    {
      "cell_type": "markdown",
      "metadata": {
        "id": "m3AtEfWELI7M"
      },
      "source": [
        "Let's look at the relationships between the variables using hue=\"target\"."
      ]
    },
    {
      "cell_type": "code",
      "metadata": {
        "colab": {
          "base_uri": "https://localhost:8080/",
          "height": 0
        },
        "id": "OXpG0nikA6C2",
        "outputId": "e8e05bd1-fda7-4c82-ab1b-1e9b71421dd9"
      },
      "source": [
        "import seaborn as sns\n",
        "import numpy as np\n",
        "\n",
        "if fast: \n",
        "  # Get stored pairplot from GitHub repo\n",
        "  img = Image(url= \"https://raw.githubusercontent.com/JacksonKerr/LinearRegression/main/resources/wine_data_pairplot.png\")\n",
        "else: img = sns.pairplot(wine, hue='target')\n",
        "img\n"
      ],
      "execution_count": 10,
      "outputs": [
        {
          "output_type": "execute_result",
          "data": {
            "text/html": [
              "<img src=\"https://raw.githubusercontent.com/JacksonKerr/LinearRegression/main/resources/wine_data_pairplot.png\"/>"
            ],
            "text/plain": [
              "<IPython.core.display.Image object>"
            ]
          },
          "metadata": {},
          "execution_count": 10
        }
      ]
    },
    {
      "cell_type": "markdown",
      "metadata": {
        "id": "e7bEGTn4Ms0z"
      },
      "source": [
        "Good grouping going on for many variables. Won't look at removing correlated features, etc as we have PCA to do the work for us."
      ]
    },
    {
      "cell_type": "markdown",
      "metadata": {
        "id": "IGsHrMlSOUBx"
      },
      "source": [
        "## PCA"
      ]
    },
    {
      "cell_type": "markdown",
      "metadata": {
        "id": "JekJOduOaN1Q"
      },
      "source": [
        "Let's start with by using sklearn's PCA library without any cross validation and using default params."
      ]
    },
    {
      "cell_type": "code",
      "metadata": {
        "id": "qo5YDe7POV5s"
      },
      "source": [
        "from sklearn.decomposition import PCA\n",
        "from sklearn.preprocessing import StandardScaler\n",
        "from matplotlib import pyplot as plt\n",
        "from sklearn.pipeline import Pipeline\n",
        "\n",
        "pca = PCA(random_state=rs)\n",
        "pipe = Pipeline([('scaler', StandardScaler()), ('pca', pca)])\n",
        "P = pipe.fit_transform(wine_x)\n",
        "pca_frame = pd.DataFrame(P, columns=[ f'PC{i+1}' for i in range(len(wine_data['feature_names'])) ])\n",
        "pca_frame['target'] = wine_y"
      ],
      "execution_count": 11,
      "outputs": []
    },
    {
      "cell_type": "markdown",
      "metadata": {
        "id": "KsVaii1wiJr2"
      },
      "source": [
        "### Pairplot"
      ]
    },
    {
      "cell_type": "code",
      "metadata": {
        "colab": {
          "base_uri": "https://localhost:8080/",
          "height": 0
        },
        "id": "mAr4Gmvqg_S6",
        "outputId": "009ae0d9-8a49-4c94-8ad9-6c6e3eefe0f9"
      },
      "source": [
        "if fast: \n",
        "  # Get stored pairplot from GitHub repo \n",
        "  img = Image(url= \"https://raw.githubusercontent.com/JacksonKerr/LinearRegression/main/resources/pca_pairplot.png\")\n",
        "else: img = sns.pairplot(pca_frame, hue='target')\n",
        "img"
      ],
      "execution_count": 12,
      "outputs": [
        {
          "output_type": "execute_result",
          "data": {
            "text/html": [
              "<img src=\"https://raw.githubusercontent.com/JacksonKerr/LinearRegression/main/resources/pca_pairplot.png\"/>"
            ],
            "text/plain": [
              "<IPython.core.display.Image object>"
            ]
          },
          "metadata": {},
          "execution_count": 12
        }
      ]
    },
    {
      "cell_type": "markdown",
      "metadata": {
        "id": "83YC4hA_eOEZ"
      },
      "source": [
        "The groupings are definately more segregated than they were in the original features which should provide better predictions."
      ]
    },
    {
      "cell_type": "markdown",
      "metadata": {
        "id": "4YcOl9gbiL18"
      },
      "source": [
        "### Loadings:"
      ]
    },
    {
      "cell_type": "code",
      "metadata": {
        "colab": {
          "base_uri": "https://localhost:8080/",
          "height": 0
        },
        "id": "hsU4dlRxhCmh",
        "outputId": "948425c0-b732-4837-89d9-4871f611491c"
      },
      "source": [
        "# Loadings\n",
        "display(extract_loadings(pca, feature_names=wine_data['feature_names']))"
      ],
      "execution_count": 13,
      "outputs": [
        {
          "output_type": "display_data",
          "data": {
            "text/html": [
              "<div>\n",
              "<style scoped>\n",
              "    .dataframe tbody tr th:only-of-type {\n",
              "        vertical-align: middle;\n",
              "    }\n",
              "\n",
              "    .dataframe tbody tr th {\n",
              "        vertical-align: top;\n",
              "    }\n",
              "\n",
              "    .dataframe thead th {\n",
              "        text-align: right;\n",
              "    }\n",
              "</style>\n",
              "<table border=\"1\" class=\"dataframe\">\n",
              "  <thead>\n",
              "    <tr style=\"text-align: right;\">\n",
              "      <th></th>\n",
              "      <th>PC1</th>\n",
              "      <th>PC2</th>\n",
              "      <th>PC3</th>\n",
              "      <th>PC4</th>\n",
              "      <th>PC5</th>\n",
              "      <th>PC6</th>\n",
              "      <th>PC7</th>\n",
              "      <th>PC8</th>\n",
              "      <th>PC9</th>\n",
              "      <th>PC10</th>\n",
              "      <th>PC11</th>\n",
              "      <th>PC12</th>\n",
              "      <th>PC13</th>\n",
              "    </tr>\n",
              "  </thead>\n",
              "  <tbody>\n",
              "    <tr>\n",
              "      <th>alcohol</th>\n",
              "      <td>0.144329</td>\n",
              "      <td>-0.483652</td>\n",
              "      <td>-0.207383</td>\n",
              "      <td>-0.017856</td>\n",
              "      <td>-0.265664</td>\n",
              "      <td>-0.213539</td>\n",
              "      <td>-0.056396</td>\n",
              "      <td>-0.396139</td>\n",
              "      <td>0.508619</td>\n",
              "      <td>0.211605</td>\n",
              "      <td>-0.225917</td>\n",
              "      <td>-0.266286</td>\n",
              "      <td>0.014970</td>\n",
              "    </tr>\n",
              "    <tr>\n",
              "      <th>malic_acid</th>\n",
              "      <td>-0.245188</td>\n",
              "      <td>-0.224931</td>\n",
              "      <td>0.089013</td>\n",
              "      <td>0.536890</td>\n",
              "      <td>0.035214</td>\n",
              "      <td>-0.536814</td>\n",
              "      <td>0.420524</td>\n",
              "      <td>-0.065827</td>\n",
              "      <td>-0.075283</td>\n",
              "      <td>-0.309080</td>\n",
              "      <td>0.076486</td>\n",
              "      <td>0.121696</td>\n",
              "      <td>0.025964</td>\n",
              "    </tr>\n",
              "    <tr>\n",
              "      <th>ash</th>\n",
              "      <td>-0.002051</td>\n",
              "      <td>-0.316069</td>\n",
              "      <td>0.626224</td>\n",
              "      <td>-0.214176</td>\n",
              "      <td>-0.143025</td>\n",
              "      <td>-0.154475</td>\n",
              "      <td>-0.149171</td>\n",
              "      <td>0.170260</td>\n",
              "      <td>-0.307694</td>\n",
              "      <td>-0.027125</td>\n",
              "      <td>-0.498691</td>\n",
              "      <td>-0.049622</td>\n",
              "      <td>-0.141218</td>\n",
              "    </tr>\n",
              "    <tr>\n",
              "      <th>alcalinity_of_ash</th>\n",
              "      <td>-0.239320</td>\n",
              "      <td>0.010591</td>\n",
              "      <td>0.612080</td>\n",
              "      <td>0.060859</td>\n",
              "      <td>0.066103</td>\n",
              "      <td>0.100825</td>\n",
              "      <td>-0.286969</td>\n",
              "      <td>-0.427970</td>\n",
              "      <td>0.200449</td>\n",
              "      <td>0.052799</td>\n",
              "      <td>0.479314</td>\n",
              "      <td>-0.055743</td>\n",
              "      <td>0.091683</td>\n",
              "    </tr>\n",
              "    <tr>\n",
              "      <th>magnesium</th>\n",
              "      <td>0.141992</td>\n",
              "      <td>-0.299634</td>\n",
              "      <td>0.130757</td>\n",
              "      <td>-0.351797</td>\n",
              "      <td>0.727049</td>\n",
              "      <td>-0.038144</td>\n",
              "      <td>0.322883</td>\n",
              "      <td>0.156361</td>\n",
              "      <td>0.271403</td>\n",
              "      <td>0.067870</td>\n",
              "      <td>0.071289</td>\n",
              "      <td>0.062220</td>\n",
              "      <td>0.056774</td>\n",
              "    </tr>\n",
              "    <tr>\n",
              "      <th>total_phenols</th>\n",
              "      <td>0.394661</td>\n",
              "      <td>-0.065040</td>\n",
              "      <td>0.146179</td>\n",
              "      <td>0.198068</td>\n",
              "      <td>-0.149318</td>\n",
              "      <td>0.084122</td>\n",
              "      <td>-0.027925</td>\n",
              "      <td>0.405934</td>\n",
              "      <td>0.286035</td>\n",
              "      <td>-0.320131</td>\n",
              "      <td>0.304341</td>\n",
              "      <td>-0.303882</td>\n",
              "      <td>-0.463908</td>\n",
              "    </tr>\n",
              "    <tr>\n",
              "      <th>flavanoids</th>\n",
              "      <td>0.422934</td>\n",
              "      <td>0.003360</td>\n",
              "      <td>0.150682</td>\n",
              "      <td>0.152295</td>\n",
              "      <td>-0.109026</td>\n",
              "      <td>0.018920</td>\n",
              "      <td>-0.060685</td>\n",
              "      <td>0.187245</td>\n",
              "      <td>0.049578</td>\n",
              "      <td>-0.163151</td>\n",
              "      <td>-0.025694</td>\n",
              "      <td>-0.042899</td>\n",
              "      <td>0.832257</td>\n",
              "    </tr>\n",
              "    <tr>\n",
              "      <th>nonflavanoid_phenols</th>\n",
              "      <td>-0.298533</td>\n",
              "      <td>-0.028779</td>\n",
              "      <td>0.170368</td>\n",
              "      <td>-0.203301</td>\n",
              "      <td>-0.500703</td>\n",
              "      <td>0.258594</td>\n",
              "      <td>0.595447</td>\n",
              "      <td>0.233285</td>\n",
              "      <td>0.195501</td>\n",
              "      <td>0.215535</td>\n",
              "      <td>0.116896</td>\n",
              "      <td>0.042352</td>\n",
              "      <td>0.114040</td>\n",
              "    </tr>\n",
              "    <tr>\n",
              "      <th>proanthocyanins</th>\n",
              "      <td>0.313429</td>\n",
              "      <td>-0.039302</td>\n",
              "      <td>0.149454</td>\n",
              "      <td>0.399057</td>\n",
              "      <td>0.136860</td>\n",
              "      <td>0.533795</td>\n",
              "      <td>0.372139</td>\n",
              "      <td>-0.368227</td>\n",
              "      <td>-0.209145</td>\n",
              "      <td>0.134184</td>\n",
              "      <td>-0.237363</td>\n",
              "      <td>-0.095553</td>\n",
              "      <td>-0.116917</td>\n",
              "    </tr>\n",
              "    <tr>\n",
              "      <th>color_intensity</th>\n",
              "      <td>-0.088617</td>\n",
              "      <td>-0.529996</td>\n",
              "      <td>-0.137306</td>\n",
              "      <td>0.065926</td>\n",
              "      <td>-0.076437</td>\n",
              "      <td>0.418644</td>\n",
              "      <td>-0.227712</td>\n",
              "      <td>0.033797</td>\n",
              "      <td>0.056218</td>\n",
              "      <td>-0.290775</td>\n",
              "      <td>0.031839</td>\n",
              "      <td>0.604222</td>\n",
              "      <td>-0.011993</td>\n",
              "    </tr>\n",
              "    <tr>\n",
              "      <th>hue</th>\n",
              "      <td>0.296715</td>\n",
              "      <td>0.279235</td>\n",
              "      <td>0.085222</td>\n",
              "      <td>-0.427771</td>\n",
              "      <td>-0.173615</td>\n",
              "      <td>-0.105983</td>\n",
              "      <td>0.232076</td>\n",
              "      <td>-0.436624</td>\n",
              "      <td>0.085828</td>\n",
              "      <td>-0.522399</td>\n",
              "      <td>-0.048212</td>\n",
              "      <td>0.259214</td>\n",
              "      <td>-0.089889</td>\n",
              "    </tr>\n",
              "    <tr>\n",
              "      <th>od280/od315_of_diluted_wines</th>\n",
              "      <td>0.376167</td>\n",
              "      <td>0.164496</td>\n",
              "      <td>0.166005</td>\n",
              "      <td>0.184121</td>\n",
              "      <td>-0.101161</td>\n",
              "      <td>-0.265851</td>\n",
              "      <td>-0.044764</td>\n",
              "      <td>0.078108</td>\n",
              "      <td>0.137227</td>\n",
              "      <td>0.523706</td>\n",
              "      <td>0.046423</td>\n",
              "      <td>0.600959</td>\n",
              "      <td>-0.156718</td>\n",
              "    </tr>\n",
              "    <tr>\n",
              "      <th>proline</th>\n",
              "      <td>0.286752</td>\n",
              "      <td>-0.364903</td>\n",
              "      <td>-0.126746</td>\n",
              "      <td>-0.232071</td>\n",
              "      <td>-0.157869</td>\n",
              "      <td>-0.119726</td>\n",
              "      <td>0.076805</td>\n",
              "      <td>-0.120023</td>\n",
              "      <td>-0.575786</td>\n",
              "      <td>0.162116</td>\n",
              "      <td>0.539270</td>\n",
              "      <td>-0.079402</td>\n",
              "      <td>0.014447</td>\n",
              "    </tr>\n",
              "  </tbody>\n",
              "</table>\n",
              "</div>"
            ],
            "text/plain": [
              "                                   PC1       PC2  ...      PC12      PC13\n",
              "alcohol                       0.144329 -0.483652  ... -0.266286  0.014970\n",
              "malic_acid                   -0.245188 -0.224931  ...  0.121696  0.025964\n",
              "ash                          -0.002051 -0.316069  ... -0.049622 -0.141218\n",
              "alcalinity_of_ash            -0.239320  0.010591  ... -0.055743  0.091683\n",
              "magnesium                     0.141992 -0.299634  ...  0.062220  0.056774\n",
              "total_phenols                 0.394661 -0.065040  ... -0.303882 -0.463908\n",
              "flavanoids                    0.422934  0.003360  ... -0.042899  0.832257\n",
              "nonflavanoid_phenols         -0.298533 -0.028779  ...  0.042352  0.114040\n",
              "proanthocyanins               0.313429 -0.039302  ... -0.095553 -0.116917\n",
              "color_intensity              -0.088617 -0.529996  ...  0.604222 -0.011993\n",
              "hue                           0.296715  0.279235  ...  0.259214 -0.089889\n",
              "od280/od315_of_diluted_wines  0.376167  0.164496  ...  0.600959 -0.156718\n",
              "proline                       0.286752 -0.364903  ... -0.079402  0.014447\n",
              "\n",
              "[13 rows x 13 columns]"
            ]
          },
          "metadata": {}
        }
      ]
    },
    {
      "cell_type": "markdown",
      "metadata": {
        "id": "XL4xatYJenEZ"
      },
      "source": [
        "Looking at the loadings, it seems PC1 mostly depends on total_phenols, od280/od315_of_diluted_wines and flavanoids. These are the features which are most correlated with the target."
      ]
    },
    {
      "cell_type": "markdown",
      "metadata": {
        "id": "JI_Zj44qiQlj"
      },
      "source": [
        "### Screeplot:"
      ]
    },
    {
      "cell_type": "code",
      "metadata": {
        "colab": {
          "base_uri": "https://localhost:8080/",
          "height": 0
        },
        "id": "1-3U0I1EiPtU",
        "outputId": "178d0ef2-6da8-4d11-a77d-ed164c9219e3"
      },
      "source": [
        "screeplot(pca)"
      ],
      "execution_count": 14,
      "outputs": [
        {
          "output_type": "display_data",
          "data": {
            "image/png": "[encoded data removed]",
            "text/plain": [
              "<Figure size 432x288 with 1 Axes>"
            ]
          },
          "metadata": {
            "needs_background": "light"
          }
        }
      ]
    },
    {
      "cell_type": "markdown",
      "metadata": {
        "id": "BWSklGVlaoEp"
      },
      "source": [
        "Looks like we're getting to 80% of the variance accounted for with around 5 principal components.This means few principal components are likely to still provide us with decent estimations."
      ]
    },
    {
      "cell_type": "markdown",
      "metadata": {
        "id": "s59YzcKViSpU"
      },
      "source": [
        "### Biplot:"
      ]
    },
    {
      "cell_type": "code",
      "metadata": {
        "colab": {
          "base_uri": "https://localhost:8080/",
          "height": 0
        },
        "id": "pk3h0ZtehFEA",
        "outputId": "c594a87b-84df-4924-eecf-cc504094fd7c"
      },
      "source": [
        "# Biplot\n",
        "fig = plt.figure(figsize=(15, 15))\n",
        "biplot(P, extract_loadings(pca, feature_names=wine_data['feature_names']), y=wine_y)\n",
        "plt.show()"
      ],
      "execution_count": 15,
      "outputs": [
        {
          "output_type": "display_data",
          "data": {
            "image/png": "[encoded data removed]",
            "text/plain": [
              "<Figure size 1080x1080 with 1 Axes>"
            ]
          },
          "metadata": {
            "needs_background": "light"
          }
        }
      ]
    },
    {
      "cell_type": "markdown",
      "metadata": {
        "id": "w6CVu-WPa28B"
      },
      "source": [
        "Based on the plot above, we are likely to have an easy time classifying class2 from class0 and class1. However, there is some overlap between class0 and class1 meaning our models may have some trouble telling them apart.\n",
        "\n",
        "We can wee some correlations that were hinted at in the pairplot, namely between:\n",
        "- Proanthocyanins and total_phenols\n",
        "- Alcalinity_of_ash and nonflavanoid_phenols\n",
        "\n",
        "As PCA1 mainly depends on flavanoids and PCA2 mainly depends on ash, we would expect these to be the best features for use in estimation and result in the best segregations of the classes.\n"
      ]
    },
    {
      "cell_type": "markdown",
      "metadata": {
        "id": "sQ7jEN5qdQHf"
      },
      "source": [
        "## Cross validation and Model Comparison"
      ]
    },
    {
      "cell_type": "markdown",
      "metadata": {
        "id": "0F30w4rZfUzg"
      },
      "source": [
        "## Getting the metrics"
      ]
    },
    {
      "cell_type": "markdown",
      "metadata": {
        "id": "YG-ZT4OiZUYY"
      },
      "source": [
        "### Imports and helper methods"
      ]
    },
    {
      "cell_type": "code",
      "metadata": {
        "id": "rCTKXpYqgkGU"
      },
      "source": [
        "# We'll need these\n",
        "from sklearn.linear_model import LogisticRegression\n",
        "from sklearn.model_selection import GridSearchCV\n",
        "from sklearn.model_selection import cross_val_score\n",
        "from sklearn.model_selection import RepeatedKFold\n",
        "rkf = RepeatedKFold(n_splits=10, n_repeats=10) # 10 ROUNDS and 10 FOLDS"
      ],
      "execution_count": 16,
      "outputs": []
    },
    {
      "cell_type": "code",
      "metadata": {
        "id": "S_3RrK4dMi9C"
      },
      "source": [
        "# Evaluates a model, returning the mean test score\n",
        "def cross_val_eval(pipe, x, y):\n",
        "  cv = cross_val_score(pipe, x, y, cv=rkf)\n",
        "  return sum(cv) / len(cv)"
      ],
      "execution_count": 17,
      "outputs": []
    },
    {
      "cell_type": "markdown",
      "metadata": {
        "id": "f_FO_JG4Mqn_"
      },
      "source": [
        "### Cross validation analysis of Logistic Regression for each pair of features"
      ]
    },
    {
      "cell_type": "code",
      "metadata": {
        "id": "9iqbDEUGpbv5",
        "colab": {
          "base_uri": "https://localhost:8080/"
        },
        "outputId": "4b771654-c97c-42c1-b24b-56338b2db296"
      },
      "source": [
        "def get_feature_name_pairs(frame):\n",
        "  pairs = []\n",
        "  f_names = list(frame.keys())\n",
        "  for i in range(len(f_names)):\n",
        "    for j in range(len(f_names)):\n",
        "      if (f_names[i] >= f_names[j]): continue # Avoids repeats and repeats with swapped ordering\n",
        "      else: pairs.append([f_names[i], f_names[j]])\n",
        "  return pairs\n",
        "\n",
        "from tqdm import tqdm # Progress bar because this takes a while\n",
        "feature_pairs_performance = []\n",
        "pipe = Pipeline([(\"scale\", StandardScaler()), (\"log_reg\", LogisticRegression())])\n",
        "for features in tqdm(get_feature_name_pairs(wine_x)):\n",
        "  feature_pairs_performance.append([features[0], features[1],\n",
        "                                    cross_val_eval(pipe, wine_x.loc[:, features], wine_y)])"
      ],
      "execution_count": 18,
      "outputs": [
        {
          "output_type": "stream",
          "name": "stderr",
          "text": [
            "100%|██████████| 78/78 [01:09<00:00,  1.12it/s]\n"
          ]
        }
      ]
    },
    {
      "cell_type": "markdown",
      "metadata": {
        "id": "Lhxw-DfmZyOS"
      },
      "source": [
        "### Cross validation analysis of logistic regression using the first two principal compoenents"
      ]
    },
    {
      "cell_type": "code",
      "metadata": {
        "id": "EBFmSDA7HrAX"
      },
      "source": [
        "pipe = Pipeline([(\"scale\", StandardScaler()), ('pca', PCA(n_components=2, random_state=rs)), (\"log_reg\", LogisticRegression())])\n",
        "pc2_accurary = cross_val_eval(pipe, wine_x, wine_y)"
      ],
      "execution_count": 19,
      "outputs": []
    },
    {
      "cell_type": "markdown",
      "metadata": {
        "id": "7myxvX_AZ2Qr"
      },
      "source": [
        "### Determining ideal number of principal components using cross validation"
      ]
    },
    {
      "cell_type": "code",
      "metadata": {
        "id": "craL-2nlPwxl"
      },
      "source": [
        "def cross_val_optimal_pca_components():\n",
        "  pipe = Pipeline([(\"scale\", StandardScaler()), (\"pca\", PCA(random_state=rs)),\n",
        "                   (\"log_reg\", LogisticRegression(random_state=rs))])\n",
        "  param_grid = { 'pca__n_components' : [i for i in range(1, len(wine_data['feature_names']))] }\n",
        "  cv = GridSearchCV(pipe, param_grid=param_grid, cv=rkf).fit(wine_x, wine_y)\n",
        "  results = cv.cv_results_['mean_test_score']\n",
        "  return cv.best_params_['pca__n_components'], cv.cv_results_['mean_test_score']\n",
        "optimal_components, pca_scores = cross_val_optimal_pca_components()"
      ],
      "execution_count": 20,
      "outputs": []
    },
    {
      "cell_type": "markdown",
      "metadata": {
        "id": "vaixQ4CvfdKH"
      },
      "source": [
        "## Explaination:"
      ]
    },
    {
      "cell_type": "code",
      "metadata": {
        "colab": {
          "base_uri": "https://localhost:8080/"
        },
        "id": "A5NL3IY9aPqC",
        "outputId": "75ec950d-cf3c-4634-b523-9a8cbd5d336b"
      },
      "source": [
        "# 4/5/7/8\n",
        "og_features_accuracy = cross_val_eval(\n",
        "    Pipeline([('Scale', StandardScaler()), ('log_reg', LogisticRegression(random_state=rs))]),\n",
        "    wine_x, wine_y)\n",
        "\n",
        "from tabulate import tabulate\n",
        "print(\"=========== Logistic Regression ===========\")\n",
        "table = [['2 Principal Components', round(pc2_accurary, 5)],\n",
        "         ['2 Best original features', round(max(feature_pairs_performance, key=lambda x:x[2])[2], 5)],\n",
        "         ['All original features', round(og_features_accuracy, 5)],\n",
        "         [str(optimal_components) + \" Principal Components (Optimal)\", round(max(pca_scores), 5)]]\n",
        "table = sorted(table, key=lambda x:x[1], reverse=True) # Sort from best to worse\n",
        "for i in range(len(table)):\n",
        "  table[i].insert(0, i)\n",
        "\n",
        "print(tabulate(table, headers=[\"Placing\", 'Training Data', 'Accuracy']))\n",
        "# print(\"Winner is\", max(table, key=lambda x:x[1]))\n"
      ],
      "execution_count": 21,
      "outputs": [
        {
          "output_type": "stream",
          "name": "stdout",
          "text": [
            "=========== Logistic Regression ===========\n",
            "  Placing  Training Data                        Accuracy\n",
            "---------  ---------------------------------  ----------\n",
            "        0  11 Principal Components (Optimal)     0.98382\n",
            "        1  All original features                 0.98199\n",
            "        2  2 Principal Components                0.96124\n",
            "        3  2 Best original features              0.91474\n"
          ]
        }
      ]
    },
    {
      "cell_type": "markdown",
      "metadata": {
        "id": "MWsN64_Xidnk"
      },
      "source": [
        "If the number of components selected is less than the number of features in the original data, this suggests that some of the features of the data were not correlated with the target and therefore are not useful for predictions of the target. Including them would have resulted in more error than it would improvement."
      ]
    },
    {
      "cell_type": "code",
      "metadata": {
        "colab": {
          "base_uri": "https://localhost:8080/",
          "height": 0
        },
        "id": "DPNIqHGNbvga",
        "outputId": "ebcd4514-3d31-454a-e67f-7322514d277d"
      },
      "source": [
        "# 6\n",
        "plt = sns.lineplot(x=[i for i in range(1, len(pca_scores)+1)], y=pca_scores)\n",
        "plt.set(xlabel='Number of principal components considered', ylabel='Accuracy')\n",
        "display(plt)"
      ],
      "execution_count": 22,
      "outputs": [
        {
          "output_type": "display_data",
          "data": {
            "text/plain": [
              "<matplotlib.axes._subplots.AxesSubplot at 0x7f65addf7b90>"
            ]
          },
          "metadata": {}
        },
        {
          "output_type": "display_data",
          "data": {
            "image/png": "[encoded data removed]",
            "text/plain": [
              "<Figure size 432x288 with 1 Axes>"
            ]
          },
          "metadata": {
            "needs_background": "light"
          }
        }
      ]
    },
    {
      "cell_type": "markdown",
      "metadata": {
        "id": "dAhUuJJIjJV7"
      },
      "source": [
        "The graph suggests that using only 11 principal components results in the most accurate predictions."
      ]
    },
    {
      "cell_type": "markdown",
      "metadata": {
        "id": "221340e2-90f8-48e1-985c-929f7b5200a4"
      },
      "source": [
        "# Part 2: Ensemble Learning"
      ]
    },
    {
      "cell_type": "markdown",
      "metadata": {
        "id": "mv-A06vMjVlD"
      },
      "source": [
        "In supervised learnign, bias refers to the inability of a model to capture the true relationship in the data (due to underfitting or insuffecient model flexability) whereas variance refers to overfitting; where the model is partially modeling noise."
      ]
    },
    {
      "cell_type": "markdown",
      "metadata": {
        "id": "grVFLd_Mjuju"
      },
      "source": [
        "Ensemble learning works by forming an ensemble of learners and somehow combining their predictions in various ways.\n",
        "As a result, the random error in their answers will average to zero provided we use enough of them."
      ]
    },
    {
      "cell_type": "markdown",
      "metadata": {
        "id": "yXJoG_YimDsE"
      },
      "source": [
        "### Bagging and Boosting:\n"
      ]
    },
    {
      "cell_type": "markdown",
      "metadata": {
        "id": "ORj0bHK5c01a"
      },
      "source": [
        "### Helper Functions"
      ]
    },
    {
      "cell_type": "code",
      "metadata": {
        "id": "0UZY5HNHnWNl"
      },
      "source": [
        "# Based on code from lab 10\n",
        "def bias_var_decomp(model_generator, M, h_param_name, h_param_range):\n",
        "  res = []\n",
        "  for (X_train, _, y_train, _) in tqdm(M):\n",
        "    for h_param in h_param_range:\n",
        "      mdl = model_generator(**{h_param_name : h_param}).fit(X_train, y_train)\n",
        "      y_pred = mdl.predict(X_test)\n",
        "      for i, y in enumerate(y_pred):\n",
        "          res.append({ h_param_name : h_param, 'i' : i, 't' : y_test[i], 'y' : y })\n",
        "\n",
        "  # Plot mse, bias, and variance against eachother (Stolen from lab 10)\n",
        "  res = pd.DataFrame(res)\n",
        "  ybar = res.groupby([ h_param_name, 'i' ]).agg(ybar=('y', 'mean')).reset_index()\n",
        "  decomp = pd.merge(res, ybar, how='inner')\n",
        "  decomp['mse'] = (decomp['t'] - decomp['y'])**2\n",
        "  decomp['bias'] = (decomp['t'] - decomp['ybar'])**2\n",
        "  decomp['var'] = (decomp['y'] - decomp['ybar'])**2\n",
        "  decomp = decomp.groupby(h_param_name).agg({ 'mse' : np.mean, 'bias' : np.mean, 'var' : np.mean }).reset_index().melt(id_vars=h_param_name) ## Step 6\n",
        "  sns.lineplot(data=decomp, x=h_param_name, y='value', hue='variable');"
      ],
      "execution_count": 23,
      "outputs": []
    },
    {
      "cell_type": "code",
      "metadata": {
        "id": "3c9feef1-2751-49af-aee0-6479e4a04e8f"
      },
      "source": [
        "import numpy as np\n",
        "from sklearn.datasets import load_boston\n",
        "from sklearn.model_selection import train_test_split\n",
        "from sklearn.dummy import DummyRegressor\n",
        "from sklearn.metrics import mean_squared_error\n",
        "\n",
        "boston = load_boston()\n",
        "X = boston['data']\n",
        "y = boston['target']\n",
        "feature_names = boston['feature_names']"
      ],
      "execution_count": 24,
      "outputs": []
    },
    {
      "cell_type": "markdown",
      "metadata": {
        "id": "469082c8-3a12-436d-8176-88097e248332"
      },
      "source": [
        "For the decompisition we need a fixed test set for calculating the average prediction."
      ]
    },
    {
      "cell_type": "code",
      "metadata": {
        "id": "b722ac24-9898-4527-a777-90e7aaac111a"
      },
      "source": [
        "X_learn, X_test, y_learn, y_test = train_test_split(X, y, train_size=0.7, random_state=rs)\n",
        "M = [ train_test_split(X_learn, y_learn, train_size=0.5, random_state=rs) for state in range(100) ]"
      ],
      "execution_count": 25,
      "outputs": []
    },
    {
      "cell_type": "markdown",
      "metadata": {
        "id": "ZV3Y-r-qc6Ci"
      },
      "source": [
        "### Bagging and Boosting:"
      ]
    },
    {
      "cell_type": "markdown",
      "metadata": {
        "id": "Z2aywD0ic-TO"
      },
      "source": [
        "We can use both bagging and boosting to improve the accuracy of our models. Let's take a look at its effect on a conventional learner."
      ]
    },
    {
      "cell_type": "code",
      "metadata": {
        "id": "e63afad6-9fe9-4cd3-bf8d-25127d9d10d4",
        "colab": {
          "base_uri": "https://localhost:8080/",
          "height": 297
        },
        "outputId": "b5cf04ac-290d-41f5-9504-022605dbbe63"
      },
      "source": [
        "# 4\n",
        "from sklearn.tree import DecisionTreeRegressor\n",
        "bias_var_decomp(DecisionTreeRegressor, M, 'min_samples_split', range(2, 51))"
      ],
      "execution_count": 26,
      "outputs": [
        {
          "output_type": "stream",
          "name": "stderr",
          "text": [
            "100%|██████████| 100/100 [00:06<00:00, 16.01it/s]\n"
          ]
        },
        {
          "output_type": "display_data",
          "data": {
            "image/png": "[encoded data removed]",
            "text/plain": [
              "<Figure size 432x288 with 1 Axes>"
            ]
          },
          "metadata": {
            "needs_background": "light"
          }
        }
      ]
    },
    {
      "cell_type": "markdown",
      "metadata": {
        "id": "bwQfn2j_dMnV"
      },
      "source": [
        "Optimal min_samples_split of around 15."
      ]
    },
    {
      "cell_type": "markdown",
      "metadata": {
        "id": "YvQvAL4EcyG0"
      },
      "source": [
        "### Bagging:\n",
        "Bagging aims to lower the variance of a learner. Bagging works by creating many different models in an ensemble, all of which are slightly different. This is done by training each model with a different subset of the available training data. By then averaging the differences of these models, the error from them cancels out and we are left with a better prediction."
      ]
    },
    {
      "cell_type": "code",
      "metadata": {
        "colab": {
          "base_uri": "https://localhost:8080/",
          "height": 297
        },
        "id": "UwCOtjJGgykR",
        "outputId": "5dff2829-1f14-4385-d3d7-a793d29587b3"
      },
      "source": [
        "# 5\n",
        "from sklearn.ensemble import RandomForestRegressor\n",
        "bias_var_decomp(RandomForestRegressor, M, 'n_estimators', range(1, 51))"
      ],
      "execution_count": 27,
      "outputs": [
        {
          "output_type": "stream",
          "name": "stderr",
          "text": [
            "100%|██████████| 100/100 [04:20<00:00,  2.61s/it]\n"
          ]
        },
        {
          "output_type": "display_data",
          "data": {
            "image/png": "[encoded data removed]",
            "text/plain": [
              "<Figure size 432x288 with 1 Axes>"
            ]
          },
          "metadata": {
            "needs_background": "light"
          }
        }
      ]
    },
    {
      "cell_type": "markdown",
      "metadata": {
        "id": "eAEsq7v8etfi"
      },
      "source": [
        "We can see from the above chart that here, bagging is lowering the variance of the ensemble without having much effect on the bias. The predictions will be much more accurate than simply using a single learner."
      ]
    },
    {
      "cell_type": "markdown",
      "metadata": {
        "id": "4ZAj6Ey8cndO"
      },
      "source": [
        "### Boosting:\n",
        "Boosting works by aiming to lower the bias of a learner. Instead of training randomly different models, boosting aims to build an ensemble where each member specialises at forming part of a prediction. By combining these predictions, as a result, our learner is more flexable and will allow us to make better predictions."
      ]
    },
    {
      "cell_type": "code",
      "metadata": {
        "colab": {
          "base_uri": "https://localhost:8080/",
          "height": 297
        },
        "id": "26CtoxtPgzT5",
        "outputId": "c44e1d05-a2c7-48af-b647-5595b2b3f271"
      },
      "source": [
        "# 6\n",
        "from sklearn.ensemble import GradientBoostingRegressor\n",
        "bias_var_decomp(GradientBoostingRegressor, M, 'n_estimators', range(1, 51))"
      ],
      "execution_count": 28,
      "outputs": [
        {
          "output_type": "stream",
          "name": "stderr",
          "text": [
            "100%|██████████| 100/100 [01:30<00:00,  1.10it/s]\n"
          ]
        },
        {
          "output_type": "display_data",
          "data": {
            "image/png": "[encoded data removed]",
            "text/plain": [
              "<Figure size 432x288 with 1 Axes>"
            ]
          },
          "metadata": {
            "needs_background": "light"
          }
        }
      ]
    },
    {
      "cell_type": "markdown",
      "metadata": {
        "id": "4do9PRVyfIFt"
      },
      "source": [
        "Here we see the reverse of the result for bagging.\n",
        "\n",
        "We can see from the above chart that boosting is lowering the bias of the ensemble without having much effect on the bias."
      ]
    }
  ]
}