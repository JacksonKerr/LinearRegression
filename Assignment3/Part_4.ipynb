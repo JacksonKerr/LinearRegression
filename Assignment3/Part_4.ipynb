{
  "nbformat": 4,
  "nbformat_minor": 0,
  "metadata": {
    "colab": {
      "name": "Part_4.ipynb",
      "provenance": [],
      "collapsed_sections": [
        "_y4lKnevdjO7",
        "CPgtkcuqLm-a",
        "GFKfMkkuLqVL",
        "UvVnIJrHCy-B"
      ],
      "authorship_tag": "ABX9TyM4WL0Gtqinw9ZIIuB7B+kR",
      "include_colab_link": true
    },
    "kernelspec": {
      "display_name": "Python 3",
      "name": "python3"
    },
    "language_info": {
      "name": "python"
    }
  },
  "cells": [
    {
      "cell_type": "markdown",
      "metadata": {
        "id": "view-in-github",
        "colab_type": "text"
      },
      "source": [
        "<a href=\"https://colab.research.google.com/github/JacksonKerr/LinearRegression/blob/main/Assignment3/Part_4.ipynb\" target=\"_parent\"><img src=\"https://colab.research.google.com/assets/colab-badge.svg\" alt=\"Open In Colab\"/></a>"
      ]
    },
    {
      "cell_type": "markdown",
      "metadata": {
        "id": "lFWvOExer6QW"
      },
      "source": [
        "#### Doc Options:"
      ]
    },
    {
      "cell_type": "code",
      "metadata": {
        "id": "8YGcrv15ounG"
      },
      "source": [
        "fast = True         # If true, uses stored graph images from GitHub repo for speed"
      ],
      "execution_count": null,
      "outputs": []
    },
    {
      "cell_type": "markdown",
      "metadata": {
        "id": "626AZV6ojXvS"
      },
      "source": [
        "#### Imports:"
      ]
    },
    {
      "cell_type": "code",
      "metadata": {
        "id": "39A1op2FjWIi"
      },
      "source": [
        "from sklearn.preprocessing import StandardScaler, MinMaxScaler\n",
        "from sklearn.decomposition import PCA\n",
        "from sklearn.linear_model import LinearRegression\n",
        "from sklearn.tree import DecisionTreeRegressor\n",
        "from sklearn.neighbors import KNeighborsRegressor\n",
        "from sklearn.model_selection import RepeatedKFold, GridSearchCV, RandomizedSearchCV\n",
        "from sklearn.neural_network import MLPRegressor\n",
        "from sklearn.metrics import make_scorer, r2_score\n",
        "from sklearn.pipeline import Pipeline\n",
        "from matplotlib import pyplot as plt\n",
        "from sklearn.model_selection import train_test_split"
      ],
      "execution_count": null,
      "outputs": []
    },
    {
      "cell_type": "markdown",
      "metadata": {
        "id": "-Wnu2iNxOe-5"
      },
      "source": [
        "#### Helper functions from labs\n",
        "- extract_loadings(pca, feature_names=None, pipeline_component=None, prefix='PC')\n",
        "- biplot(X, loadings=None, pc1=0, pc2=1, y=None, labels=None)"
      ]
    },
    {
      "cell_type": "code",
      "metadata": {
        "id": "HbYVbr6bOhYS"
      },
      "source": [
        "def extract_loadings(pca, feature_names=None, pipeline_component=None, prefix='PC'):\n",
        "    \"\"\"\n",
        "       take a PCA model and extract its loadings into a data frame for easier interrogation\n",
        "    \"\"\"\n",
        "    if pipeline_component is not None:\n",
        "        pca = pca[pipeline_component]\n",
        "        \n",
        "    X = pca.components_.T\n",
        "    \n",
        "    return pd.DataFrame(X, columns=[ f'{prefix}{i+1}' for i in range(X.shape[1]) ], index=feature_names)"
      ],
      "execution_count": null,
      "outputs": []
    },
    {
      "cell_type": "code",
      "metadata": {
        "id": "50nZQZ__OkTT"
      },
      "source": [
        "def biplot(X, loadings=None, pc1=0, pc2=1, y=None, labels=None):\n",
        "    \"\"\"\n",
        "      plot two principal components of data embedded via PCA along with their feature loadings\n",
        "    \"\"\"\n",
        "    xs = X[:, pc1]\n",
        "    ys = X[:, pc2]\n",
        "    \n",
        "    scalex = 1.0 / (xs.max() - xs.min())\n",
        "    scaley = 1.0 / (ys.max() - ys.min())    \n",
        "    sns.scatterplot(x=xs*scalex, y=ys*scaley, hue=y, palette='viridis')\n",
        "    \n",
        "    if loadings is not None:\n",
        "        n = len(loadings)\n",
        "        if labels is None:\n",
        "            labels = loadings.index.values\n",
        "        for i in range(n):\n",
        "            plt.arrow(0, 0, loadings.iloc[i, pc1], loadings.iloc[i, pc2], color='#ce2227', width=0.01, head_width=0.04)\n",
        "            plt.text(loadings.iloc[i, pc1]* 1.15, loadings.iloc[i, pc2] * 1.15, labels[i], color='#ce2227', ha='center', va='center')\n",
        "        \n",
        "    plt.xlim(-1,1)\n",
        "    plt.ylim(-1,1)\n",
        "    plt.xlabel(f'PC{pc1+1}')\n",
        "    plt.ylabel(f'PC{pc2+1}')\n",
        "    plt.grid()"
      ],
      "execution_count": null,
      "outputs": []
    },
    {
      "cell_type": "code",
      "metadata": {
        "id": "rhHOkSGJOmHK"
      },
      "source": [
        "def screeplot(pca, pipeline_component=None, prefix='PC', n_components=None):\n",
        "    \"\"\"\n",
        "        produce a plot from a PCA embedding that visualises the amount of \n",
        "        explained variance for each of the principal components \n",
        "    \"\"\"\n",
        "    import seaborn as sns\n",
        "    from matplotlib import pyplot as plt\n",
        "    \n",
        "    if pipeline_component is not None:\n",
        "        pca = pca[pipeline_component]\n",
        "\n",
        "    explained_variance = pca.explained_variance_ratio_\n",
        "    if n_components is not None: explained_variance = explained_variance[0:n_components]\n",
        "    \n",
        "    total_variance = np.cumsum(explained_variance)\n",
        "    ticks = range(len(explained_variance))\n",
        "    labels = [ f'{prefix}{i+1}' for i in ticks ]\n",
        "\n",
        "    plt.bar(x=range(len(explained_variance)), height=explained_variance, label='Component')\n",
        "    plt.plot(range(len(total_variance)), total_variance, 'o-', color='#ce2227', linewidth=2, label='Cumulative')\n",
        "    plt.xticks(ticks=ticks, labels=labels)\n",
        "    plt.xlabel('Principal Component')\n",
        "    plt.ylabel('Explained Variance')\n",
        "    plt.legend()\n",
        "\n",
        "    return total_variance # Modification, return for examination"
      ],
      "execution_count": null,
      "outputs": []
    },
    {
      "cell_type": "markdown",
      "metadata": {
        "id": "13a85jgadaHL"
      },
      "source": [
        "##Gettin That Data:\n",
        "\n"
      ]
    },
    {
      "cell_type": "code",
      "metadata": {
        "id": "AHD-1J4FGKGx"
      },
      "source": [
        "# from google.colab import drive\n",
        "# drive.mount('/content/drive', force_remount=True)"
      ],
      "execution_count": null,
      "outputs": []
    },
    {
      "cell_type": "code",
      "metadata": {
        "id": "65dcbc1c-2f98-45ea-bec4-861e46bb390b"
      },
      "source": [
        "import pandas as pd\n",
        "\n",
        "mystery_df = pd.read_csv('https://raw.githubusercontent.com/JacksonKerr/LinearRegression/main/Assignment3/mystery_train.csv', index_col=0).reset_index()\n",
        "\n",
        "mystery_y = mystery_df['y']\n",
        "mystery_x = mystery_df.drop(labels=['y'], axis=1)\n",
        "\n",
        "mystery_x, mystery_x_test, mystery_y, mystery_y_test = train_test_split(mystery_x, mystery_y, train_size=0.8, random_state=1)"
      ],
      "execution_count": null,
      "outputs": []
    },
    {
      "cell_type": "code",
      "metadata": {
        "id": "MB-WKFiripco",
        "colab": {
          "base_uri": "https://localhost:8080/",
          "height": 643
        },
        "outputId": "45bb74e6-5ba0-4055-f58a-2b8967ee8f03"
      },
      "source": [
        "display(mystery_x)"
      ],
      "execution_count": null,
      "outputs": [
        {
          "output_type": "display_data",
          "data": {
            "text/plain": [
              "1233    33.503\n",
              "1056    24.930\n",
              "1686    18.486\n",
              "187     49.419\n",
              "3840    43.622\n",
              "         ...  \n",
              "2895    14.342\n",
              "2763    25.729\n",
              "905     14.359\n",
              "3980    25.497\n",
              "235     14.604\n",
              "Name: y, Length: 4000, dtype: float64"
            ]
          },
          "metadata": {}
        },
        {
          "output_type": "display_data",
          "data": {
            "text/html": [
              "<div>\n",
              "<style scoped>\n",
              "    .dataframe tbody tr th:only-of-type {\n",
              "        vertical-align: middle;\n",
              "    }\n",
              "\n",
              "    .dataframe tbody tr th {\n",
              "        vertical-align: top;\n",
              "    }\n",
              "\n",
              "    .dataframe thead th {\n",
              "        text-align: right;\n",
              "    }\n",
              "</style>\n",
              "<table border=\"1\" class=\"dataframe\">\n",
              "  <thead>\n",
              "    <tr style=\"text-align: right;\">\n",
              "      <th></th>\n",
              "      <th>x1</th>\n",
              "      <th>x2</th>\n",
              "      <th>x3</th>\n",
              "      <th>x4</th>\n",
              "      <th>x5</th>\n",
              "      <th>x6</th>\n",
              "      <th>x7</th>\n",
              "      <th>x8</th>\n",
              "      <th>x9</th>\n",
              "      <th>x10</th>\n",
              "      <th>x11</th>\n",
              "      <th>x12</th>\n",
              "      <th>x13</th>\n",
              "      <th>x14</th>\n",
              "      <th>x15</th>\n",
              "      <th>x16</th>\n",
              "      <th>x17</th>\n",
              "      <th>x18</th>\n",
              "    </tr>\n",
              "  </thead>\n",
              "  <tbody>\n",
              "    <tr>\n",
              "      <th>1233</th>\n",
              "      <td>74.0</td>\n",
              "      <td>1.0</td>\n",
              "      <td>0.00534</td>\n",
              "      <td>0.000031</td>\n",
              "      <td>0.00284</td>\n",
              "      <td>0.00300</td>\n",
              "      <td>0.00852</td>\n",
              "      <td>0.02349</td>\n",
              "      <td>0.197</td>\n",
              "      <td>0.00998</td>\n",
              "      <td>0.01192</td>\n",
              "      <td>0.01780</td>\n",
              "      <td>0.02995</td>\n",
              "      <td>0.011598</td>\n",
              "      <td>22.611</td>\n",
              "      <td>0.53893</td>\n",
              "      <td>0.75216</td>\n",
              "      <td>0.16630</td>\n",
              "    </tr>\n",
              "    <tr>\n",
              "      <th>1056</th>\n",
              "      <td>73.0</td>\n",
              "      <td>1.0</td>\n",
              "      <td>0.00339</td>\n",
              "      <td>0.000017</td>\n",
              "      <td>0.00178</td>\n",
              "      <td>0.00183</td>\n",
              "      <td>0.00533</td>\n",
              "      <td>0.02571</td>\n",
              "      <td>0.252</td>\n",
              "      <td>0.01311</td>\n",
              "      <td>0.01491</td>\n",
              "      <td>0.01858</td>\n",
              "      <td>0.03933</td>\n",
              "      <td>0.027526</td>\n",
              "      <td>24.390</td>\n",
              "      <td>0.43389</td>\n",
              "      <td>0.64541</td>\n",
              "      <td>0.20944</td>\n",
              "    </tr>\n",
              "    <tr>\n",
              "      <th>1686</th>\n",
              "      <td>36.0</td>\n",
              "      <td>1.0</td>\n",
              "      <td>0.00449</td>\n",
              "      <td>0.000024</td>\n",
              "      <td>0.00269</td>\n",
              "      <td>0.00232</td>\n",
              "      <td>0.00806</td>\n",
              "      <td>0.01975</td>\n",
              "      <td>0.185</td>\n",
              "      <td>0.01100</td>\n",
              "      <td>0.01184</td>\n",
              "      <td>0.01298</td>\n",
              "      <td>0.03301</td>\n",
              "      <td>0.016538</td>\n",
              "      <td>23.161</td>\n",
              "      <td>0.38308</td>\n",
              "      <td>0.62710</td>\n",
              "      <td>0.18465</td>\n",
              "    </tr>\n",
              "    <tr>\n",
              "      <th>187</th>\n",
              "      <td>76.0</td>\n",
              "      <td>0.0</td>\n",
              "      <td>0.00457</td>\n",
              "      <td>0.000045</td>\n",
              "      <td>0.00192</td>\n",
              "      <td>0.00208</td>\n",
              "      <td>0.00576</td>\n",
              "      <td>0.02765</td>\n",
              "      <td>0.234</td>\n",
              "      <td>0.01386</td>\n",
              "      <td>0.01550</td>\n",
              "      <td>0.02131</td>\n",
              "      <td>0.04158</td>\n",
              "      <td>0.022315</td>\n",
              "      <td>22.308</td>\n",
              "      <td>0.66041</td>\n",
              "      <td>0.54973</td>\n",
              "      <td>0.18948</td>\n",
              "    </tr>\n",
              "    <tr>\n",
              "      <th>3840</th>\n",
              "      <td>63.0</td>\n",
              "      <td>0.0</td>\n",
              "      <td>0.00592</td>\n",
              "      <td>0.000047</td>\n",
              "      <td>0.00287</td>\n",
              "      <td>0.00277</td>\n",
              "      <td>0.00860</td>\n",
              "      <td>0.04756</td>\n",
              "      <td>0.439</td>\n",
              "      <td>0.02627</td>\n",
              "      <td>0.03255</td>\n",
              "      <td>0.03853</td>\n",
              "      <td>0.07881</td>\n",
              "      <td>0.031256</td>\n",
              "      <td>19.093</td>\n",
              "      <td>0.60753</td>\n",
              "      <td>0.62395</td>\n",
              "      <td>0.27343</td>\n",
              "    </tr>\n",
              "    <tr>\n",
              "      <th>...</th>\n",
              "      <td>...</td>\n",
              "      <td>...</td>\n",
              "      <td>...</td>\n",
              "      <td>...</td>\n",
              "      <td>...</td>\n",
              "      <td>...</td>\n",
              "      <td>...</td>\n",
              "      <td>...</td>\n",
              "      <td>...</td>\n",
              "      <td>...</td>\n",
              "      <td>...</td>\n",
              "      <td>...</td>\n",
              "      <td>...</td>\n",
              "      <td>...</td>\n",
              "      <td>...</td>\n",
              "      <td>...</td>\n",
              "      <td>...</td>\n",
              "      <td>...</td>\n",
              "    </tr>\n",
              "    <tr>\n",
              "      <th>2895</th>\n",
              "      <td>58.0</td>\n",
              "      <td>1.0</td>\n",
              "      <td>0.00574</td>\n",
              "      <td>0.000031</td>\n",
              "      <td>0.00320</td>\n",
              "      <td>0.00259</td>\n",
              "      <td>0.00961</td>\n",
              "      <td>0.01328</td>\n",
              "      <td>0.117</td>\n",
              "      <td>0.00738</td>\n",
              "      <td>0.00786</td>\n",
              "      <td>0.00930</td>\n",
              "      <td>0.02214</td>\n",
              "      <td>0.012079</td>\n",
              "      <td>22.560</td>\n",
              "      <td>0.32850</td>\n",
              "      <td>0.64315</td>\n",
              "      <td>0.14612</td>\n",
              "    </tr>\n",
              "    <tr>\n",
              "      <th>2763</th>\n",
              "      <td>57.0</td>\n",
              "      <td>0.0</td>\n",
              "      <td>0.00527</td>\n",
              "      <td>0.000029</td>\n",
              "      <td>0.00292</td>\n",
              "      <td>0.00324</td>\n",
              "      <td>0.00876</td>\n",
              "      <td>0.02620</td>\n",
              "      <td>0.230</td>\n",
              "      <td>0.01465</td>\n",
              "      <td>0.01629</td>\n",
              "      <td>0.01951</td>\n",
              "      <td>0.04396</td>\n",
              "      <td>0.012843</td>\n",
              "      <td>21.320</td>\n",
              "      <td>0.40321</td>\n",
              "      <td>0.56096</td>\n",
              "      <td>0.22595</td>\n",
              "    </tr>\n",
              "    <tr>\n",
              "      <th>905</th>\n",
              "      <td>57.0</td>\n",
              "      <td>1.0</td>\n",
              "      <td>0.00383</td>\n",
              "      <td>0.000021</td>\n",
              "      <td>0.00191</td>\n",
              "      <td>0.00185</td>\n",
              "      <td>0.00573</td>\n",
              "      <td>0.01627</td>\n",
              "      <td>0.145</td>\n",
              "      <td>0.00915</td>\n",
              "      <td>0.00852</td>\n",
              "      <td>0.01282</td>\n",
              "      <td>0.02744</td>\n",
              "      <td>0.005163</td>\n",
              "      <td>23.788</td>\n",
              "      <td>0.45399</td>\n",
              "      <td>0.71856</td>\n",
              "      <td>0.18783</td>\n",
              "    </tr>\n",
              "    <tr>\n",
              "      <th>3980</th>\n",
              "      <td>68.0</td>\n",
              "      <td>0.0</td>\n",
              "      <td>0.00342</td>\n",
              "      <td>0.000026</td>\n",
              "      <td>0.00141</td>\n",
              "      <td>0.00198</td>\n",
              "      <td>0.00423</td>\n",
              "      <td>0.02709</td>\n",
              "      <td>0.243</td>\n",
              "      <td>0.01120</td>\n",
              "      <td>0.01670</td>\n",
              "      <td>0.03031</td>\n",
              "      <td>0.03360</td>\n",
              "      <td>0.006698</td>\n",
              "      <td>23.565</td>\n",
              "      <td>0.46248</td>\n",
              "      <td>0.70502</td>\n",
              "      <td>0.20442</td>\n",
              "    </tr>\n",
              "    <tr>\n",
              "      <th>235</th>\n",
              "      <td>58.0</td>\n",
              "      <td>0.0</td>\n",
              "      <td>0.00368</td>\n",
              "      <td>0.000026</td>\n",
              "      <td>0.00188</td>\n",
              "      <td>0.00202</td>\n",
              "      <td>0.00564</td>\n",
              "      <td>0.03530</td>\n",
              "      <td>0.315</td>\n",
              "      <td>0.01777</td>\n",
              "      <td>0.02134</td>\n",
              "      <td>0.03045</td>\n",
              "      <td>0.05330</td>\n",
              "      <td>0.032028</td>\n",
              "      <td>23.894</td>\n",
              "      <td>0.58130</td>\n",
              "      <td>0.68678</td>\n",
              "      <td>0.19596</td>\n",
              "    </tr>\n",
              "  </tbody>\n",
              "</table>\n",
              "<p>4000 rows × 18 columns</p>\n",
              "</div>"
            ],
            "text/plain": [
              "        x1   x2       x3        x4  ...     x15      x16      x17      x18\n",
              "1233  74.0  1.0  0.00534  0.000031  ...  22.611  0.53893  0.75216  0.16630\n",
              "1056  73.0  1.0  0.00339  0.000017  ...  24.390  0.43389  0.64541  0.20944\n",
              "1686  36.0  1.0  0.00449  0.000024  ...  23.161  0.38308  0.62710  0.18465\n",
              "187   76.0  0.0  0.00457  0.000045  ...  22.308  0.66041  0.54973  0.18948\n",
              "3840  63.0  0.0  0.00592  0.000047  ...  19.093  0.60753  0.62395  0.27343\n",
              "...    ...  ...      ...       ...  ...     ...      ...      ...      ...\n",
              "2895  58.0  1.0  0.00574  0.000031  ...  22.560  0.32850  0.64315  0.14612\n",
              "2763  57.0  0.0  0.00527  0.000029  ...  21.320  0.40321  0.56096  0.22595\n",
              "905   57.0  1.0  0.00383  0.000021  ...  23.788  0.45399  0.71856  0.18783\n",
              "3980  68.0  0.0  0.00342  0.000026  ...  23.565  0.46248  0.70502  0.20442\n",
              "235   58.0  0.0  0.00368  0.000026  ...  23.894  0.58130  0.68678  0.19596\n",
              "\n",
              "[4000 rows x 18 columns]"
            ]
          },
          "metadata": {}
        }
      ]
    },
    {
      "cell_type": "markdown",
      "metadata": {
        "id": "k9YYp9KDkyq5"
      },
      "source": [
        "Let's have a look at the fields."
      ]
    },
    {
      "cell_type": "code",
      "metadata": {
        "colab": {
          "base_uri": "https://localhost:8080/"
        },
        "id": "INiPi44XcpNU",
        "outputId": "eafbafee-aaba-4f74-f0dd-85165080e9f5"
      },
      "source": [
        "mystery_df.info()"
      ],
      "execution_count": null,
      "outputs": [
        {
          "output_type": "stream",
          "name": "stdout",
          "text": [
            "<class 'pandas.core.frame.DataFrame'>\n",
            "RangeIndex: 5000 entries, 0 to 4999\n",
            "Data columns (total 19 columns):\n",
            " #   Column  Non-Null Count  Dtype  \n",
            "---  ------  --------------  -----  \n",
            " 0   x1      5000 non-null   float64\n",
            " 1   x2      5000 non-null   float64\n",
            " 2   x3      5000 non-null   float64\n",
            " 3   x4      5000 non-null   float64\n",
            " 4   x5      5000 non-null   float64\n",
            " 5   x6      5000 non-null   float64\n",
            " 6   x7      5000 non-null   float64\n",
            " 7   x8      5000 non-null   float64\n",
            " 8   x9      5000 non-null   float64\n",
            " 9   x10     5000 non-null   float64\n",
            " 10  x11     5000 non-null   float64\n",
            " 11  x12     5000 non-null   float64\n",
            " 12  x13     5000 non-null   float64\n",
            " 13  x14     5000 non-null   float64\n",
            " 14  x15     5000 non-null   float64\n",
            " 15  x16     5000 non-null   float64\n",
            " 16  x17     5000 non-null   float64\n",
            " 17  x18     5000 non-null   float64\n",
            " 18  y       5000 non-null   float64\n",
            "dtypes: float64(19)\n",
            "memory usage: 742.3 KB\n"
          ]
        }
      ]
    },
    {
      "cell_type": "markdown",
      "metadata": {
        "id": "2DdAh8jVk3na"
      },
      "source": [
        "Looks pretty standard. No missing values. All float64 decimal numbers."
      ]
    },
    {
      "cell_type": "markdown",
      "metadata": {
        "id": "_y4lKnevdjO7"
      },
      "source": [
        "## Exploratory Data Analysis"
      ]
    },
    {
      "cell_type": "markdown",
      "metadata": {
        "id": "CPgtkcuqLm-a"
      },
      "source": [
        "### Pairplot"
      ]
    },
    {
      "cell_type": "markdown",
      "metadata": {
        "id": "weKncf_Hl5Ab"
      },
      "source": [
        "Let's look at the relationships between the variables using hue=\"x2\" as it's the only categorical variable."
      ]
    },
    {
      "cell_type": "code",
      "metadata": {
        "colab": {
          "base_uri": "https://localhost:8080/"
        },
        "id": "6cdXbgPTh_Rg",
        "outputId": "2e97bf64-3879-45ad-bdf3-4bb596381944"
      },
      "source": [
        "import seaborn as sns\n",
        "import numpy as np\n",
        "\n",
        "if fast:\n",
        "  # Get stored pairplot from GitHub repo\n",
        "  from IPython.display import Image\n",
        "  from IPython.core.display import HTML \n",
        "  img = Image(url= \"https://raw.githubusercontent.com/JacksonKerr/LinearRegression/main/Assignment3/pairplot.png\")\n",
        "else:\n",
        "  # Create directly\n",
        "  img = sns.pairplot(mystery_df, hue=\"x2\")\n",
        "img"
      ],
      "execution_count": null,
      "outputs": [
        {
          "output_type": "execute_result",
          "data": {
            "text/html": [
              "<img src=\"https://raw.githubusercontent.com/JacksonKerr/LinearRegression/main/Assignment3/pairplot.png\"/>"
            ],
            "text/plain": [
              "<IPython.core.display.Image object>"
            ]
          },
          "metadata": {},
          "execution_count": 9
        }
      ]
    },
    {
      "cell_type": "markdown",
      "metadata": {
        "id": "-pUfT8xSACBb"
      },
      "source": [
        "#### Correlations:"
      ]
    },
    {
      "cell_type": "code",
      "metadata": {
        "colab": {
          "base_uri": "https://localhost:8080/"
        },
        "id": "bs48XLBfET-Z",
        "outputId": "7e7a29d2-76f8-422a-82d3-6fafbf4c5f93"
      },
      "source": [
        "sns.scatterplot(x=mystery_df[\"x13\"], y=mystery_df[\"x10\"], hue=mystery_df[\"x2\"])\n",
        "\n",
        "# Remove one\n",
        "to_rem = \"x13\"\n",
        "if to_rem in mystery_df.columns:\n",
        "  mystery_df = mystery_df.drop([to_rem], axis=1)"
      ],
      "execution_count": null,
      "outputs": [
        {
          "output_type": "display_data",
          "data": {
            "image/png": "[encoded data removed]",
            "text/plain": [
              "<Figure size 432x288 with 1 Axes>"
            ]
          },
          "metadata": {
            "needs_background": "light"
          }
        }
      ]
    },
    {
      "cell_type": "code",
      "metadata": {
        "colab": {
          "base_uri": "https://localhost:8080/"
        },
        "id": "QecX3vuIqujx",
        "outputId": "def7eb1e-22f6-4220-c1b4-38822594042f"
      },
      "source": [
        "sns.scatterplot(x=mystery_df[\"x7\"], y=mystery_df[\"x5\"], hue=mystery_df[\"x2\"])\n",
        "\n",
        "# Remove one\n",
        "to_rem = \"x7\"\n",
        "if to_rem in mystery_df.columns:\n",
        "  mystery_df = mystery_df.drop([to_rem], axis=1)"
      ],
      "execution_count": null,
      "outputs": [
        {
          "output_type": "display_data",
          "data": {
            "image/png": "[encoded data removed]",
            "text/plain": [
              "<Figure size 432x288 with 1 Axes>"
            ]
          },
          "metadata": {
            "needs_background": "light"
          }
        }
      ]
    },
    {
      "cell_type": "markdown",
      "metadata": {
        "id": "GFKfMkkuLqVL"
      },
      "source": [
        "### Heatmap"
      ]
    },
    {
      "cell_type": "code",
      "metadata": {
        "colab": {
          "base_uri": "https://localhost:8080/"
        },
        "id": "ixCEYwJEUYK_",
        "outputId": "fab1b054-c413-40b0-8114-26457c64254b"
      },
      "source": [
        "sns.heatmap(mystery_df.corr())"
      ],
      "execution_count": null,
      "outputs": [
        {
          "output_type": "execute_result",
          "data": {
            "text/plain": [
              "<matplotlib.axes._subplots.AxesSubplot at 0x7f0eddf0fe90>"
            ]
          },
          "metadata": {},
          "execution_count": 12
        },
        {
          "output_type": "display_data",
          "data": {
            "image/png": "[encoded data removed]",
            "text/plain": [
              "<Figure size 432x288 with 2 Axes>"
            ]
          },
          "metadata": {
            "needs_background": "light"
          }
        }
      ]
    },
    {
      "cell_type": "markdown",
      "metadata": {
        "id": "PoxF2-1_Q_uN"
      },
      "source": [
        "A lot of the variables are highly correlated with eachother. This was hinted at in the pairplot earlier."
      ]
    },
    {
      "cell_type": "markdown",
      "metadata": {
        "id": "JclHsVGG5gIG"
      },
      "source": [
        "### PCA Analysis"
      ]
    },
    {
      "cell_type": "code",
      "metadata": {
        "colab": {
          "base_uri": "https://localhost:8080/",
          "height": 296
        },
        "id": "wE-nIhbsxsRn",
        "outputId": "672344ba-48e2-495f-de14-f65e01aa243e"
      },
      "source": [
        "def find_optimal_pca_components():\n",
        "  pca = PCA()\n",
        "  pca_pipe = Pipeline([('scaler', StandardScaler()), ('pca', pca)])\n",
        "  P = pca_pipe.fit_transform(mystery_df)\n",
        "\n",
        "  # Draw screeplot\n",
        "  pca_performance = screeplot(pca)\n",
        "\n",
        "  # Print number of components needed to account for most of the variation\n",
        "  optimal_components = None\n",
        "  for i in range(len(pca_performance)):\n",
        "    if pca_performance[i] > 0.99:\n",
        "      optimal_components = i\n",
        "      print(\"By\", i, \"principal components, we have accounted for\",\n",
        "            str(round(pca_performance[i]*100, 3)) + \"%\", \"of the variance in the data.\")\n",
        "      break\n",
        "  return optimal_components\n",
        "optimal_pca_components = find_optimal_pca_components()"
      ],
      "execution_count": null,
      "outputs": [
        {
          "output_type": "stream",
          "name": "stdout",
          "text": [
            "By 10 principal components, we have already accounted for 99.006% of the variance in the data.\n"
          ]
        },
        {
          "output_type": "display_data",
          "data": {
            "image/png": "[encoded data removed]",
            "text/plain": [
              "<Figure size 432x288 with 1 Axes>"
            ]
          },
          "metadata": {
            "needs_background": "light"
          }
        }
      ]
    },
    {
      "cell_type": "code",
      "metadata": {
        "id": "nNje8QiqRtAi"
      },
      "source": [
        "# Apply PCA with optimal components to data\n",
        "pca = PCA(optimal_pca_components)\n",
        "optimal_pca_pipe = Pipeline([('scaler', StandardScaler()), ('pca', pca)])\n",
        "\n",
        "P = optimal_pca_pipe.fit_transform(mystery_x)\n",
        "mystery_x = pd.DataFrame(P)\n",
        "mystery_x.columns = [\"PC\"+str(i+1) for i in range(len(mystery_x.columns))]\n",
        "mystery_df = mystery_x.copy()\n",
        "mystery_df[\"y\"] = mystery_y"
      ],
      "execution_count": null,
      "outputs": []
    },
    {
      "cell_type": "code",
      "metadata": {
        "colab": {
          "base_uri": "https://localhost:8080/",
          "height": 610
        },
        "id": "pk3h0ZtehFEA",
        "outputId": "439d4285-9655-4e87-b1aa-6dc5867110f9"
      },
      "source": [
        "# Biplot\n",
        "fig = plt.figure(figsize=(10, 10))\n",
        "biplot(P, extract_loadings(pca, feature_names=[str(i) for i in range(10)]), y=mystery_y)\n",
        "plt.show()"
      ],
      "execution_count": null,
      "outputs": [
        {
          "output_type": "display_data",
          "data": {
            "image/png": "[encoded data removed]",
            "text/plain": [
              "<Figure size 720x720 with 1 Axes>"
            ]
          },
          "metadata": {
            "needs_background": "light"
          }
        }
      ]
    },
    {
      "cell_type": "markdown",
      "metadata": {
        "id": "AhC4_RBcMaLs"
      },
      "source": [
        "## Modeling"
      ]
    },
    {
      "cell_type": "code",
      "metadata": {
        "id": "c8e51c78-7c41-4d08-95c2-b47891937da5"
      },
      "source": [
        "pipe = Pipeline([(\"scaling\", \"passthrough\"), \n",
        "                 (\"dimension_reduction\", \"passthrough\"),\n",
        "                 (\"mdl\", \"passthrough\")])"
      ],
      "execution_count": null,
      "outputs": []
    },
    {
      "cell_type": "code",
      "metadata": {
        "colab": {
          "base_uri": "https://localhost:8080/"
        },
        "id": "a5e5b7dc-3ed6-43fe-bb88-4a230271f49e",
        "outputId": "ff0a946d-5c48-48d2-b967-7b2eeaff39d0"
      },
      "source": [
        "scaling_options = [\"passthrough\"]\n",
        "dim_red_options = [\"passthrough\"]\n",
        "\n",
        "mdl_options = ([LinearRegression()] \n",
        "            + [MLPRegressor(n) for n in range(50, 150)] \n",
        "            + [KNeighborsRegressor(n) for n in range(1, 20)]\n",
        "            + [DecisionTreeRegressor(n) for n in range(2, 30)])\n",
        "\n",
        "tune_grids = [{'scaling': scaling_options,\n",
        "               'dimension_reduction': dim_red_options,\n",
        "               'mdl': mdl_options}]\n",
        "\n",
        "rkf = RepeatedKFold(n_splits=3, n_repeats=5)\n",
        "\n",
        "scorer = make_scorer(r2_score, greater_is_better=True)\n",
        "\n",
        "cv = GridSearchCV(pipe, tune_grids, cv=rkf, scoring=scorer, n_jobs=-1, verbose=1).fit(mystery_x, mystery_y)"
      ],
      "execution_count": null,
      "outputs": [
        {
          "output_type": "stream",
          "name": "stdout",
          "text": [
            "Fitting 15 folds for each of 148 candidates, totalling 2220 fits\n"
          ]
        },
        {
          "output_type": "stream",
          "name": "stderr",
          "text": [
            "[Parallel(n_jobs=-1)]: Using backend LokyBackend with 2 concurrent workers.\n",
            "[Parallel(n_jobs=-1)]: Done  50 tasks      | elapsed:   53.5s\n",
            "[Parallel(n_jobs=-1)]: Done 200 tasks      | elapsed:  4.6min\n",
            "[Parallel(n_jobs=-1)]: Done 450 tasks      | elapsed: 11.5min\n",
            "[Parallel(n_jobs=-1)]: Done 800 tasks      | elapsed: 22.0min\n",
            "[Parallel(n_jobs=-1)]: Done 1250 tasks      | elapsed: 37.5min\n",
            "[Parallel(n_jobs=-1)]: Done 1800 tasks      | elapsed: 47.9min\n",
            "[Parallel(n_jobs=-1)]: Done 2220 out of 2220 | elapsed: 47.9min finished\n"
          ]
        }
      ]
    },
    {
      "cell_type": "code",
      "metadata": {
        "id": "iVDhLQDKcZu7",
        "colab": {
          "base_uri": "https://localhost:8080/"
        },
        "outputId": "40e2e1b2-27d5-41f2-8494-7148ebe66011"
      },
      "source": [
        "cv.best_score_"
      ],
      "execution_count": null,
      "outputs": [
        {
          "output_type": "execute_result",
          "data": {
            "text/plain": [
              "0.9996733828966378"
            ]
          },
          "metadata": {},
          "execution_count": 44
        }
      ]
    },
    {
      "cell_type": "code",
      "metadata": {
        "colab": {
          "base_uri": "https://localhost:8080/"
        },
        "id": "0U61by6P55bk",
        "outputId": "803e2e14-7ebe-4cd0-941f-d6826f5dd56d"
      },
      "source": [
        "cv.best_params_"
      ],
      "execution_count": null,
      "outputs": [
        {
          "output_type": "execute_result",
          "data": {
            "text/plain": [
              "{'dimension_reduction': 'passthrough',\n",
              " 'mdl': LinearRegression(copy_X=True, fit_intercept=True, n_jobs=None, normalize=False),\n",
              " 'scaling': 'passthrough'}"
            ]
          },
          "metadata": {},
          "execution_count": 47
        }
      ]
    },
    {
      "cell_type": "markdown",
      "metadata": {
        "id": "UvVnIJrHCy-B"
      },
      "source": [
        "## Hyperparameter Analysis"
      ]
    },
    {
      "cell_type": "code",
      "metadata": {
        "id": "i6fXYSez34HB"
      },
      "source": [
        "def cross_validate_model_mse(mdl, param_grid, X, y, cv=None):\n",
        "    import numpy as np\n",
        "    import pandas as pd\n",
        "\n",
        "    from sklearn.metrics import mean_squared_error, make_scorer, r2_score\n",
        "    from sklearn.model_selection import GridSearchCV\n",
        "    \n",
        "    # create a MSE scorer\n",
        "    scorer = make_scorer(mean_squared_error, greater_is_better=False)\n",
        "    \n",
        "    # perform the grid search on the supplied data\n",
        "    cv = GridSearchCV(mdl, param_grid, scoring=scorer, cv=cv, n_jobs=-1)\n",
        "    cv.fit(X, y)\n",
        "    cv_stats = pd.DataFrame(cv.cv_results_).filter(regex='(param_.*)|(split.*_test_score)', axis=1)\n",
        "    cv_stats = cv_stats.melt(id_vars=cv_stats.columns[cv_stats.columns.str.match('param_.*')], var_name='split', value_name='mse')\n",
        "    cv_stats.rename(columns=lambda n: n.replace('param_', ''), inplace=True)\n",
        "    cv_stats['split'] = cv_stats['split'].str.replace('split(\\d+)_test_score', '\\\\1', regex=True).astype(np.int64)\n",
        "    cv_stats['mse'] = -cv_stats['mse']\n",
        "    \n",
        "    return cv, cv_stats"
      ],
      "execution_count": null,
      "outputs": []
    },
    {
      "cell_type": "code",
      "metadata": {
        "id": "RsUDu1Ow4aOL"
      },
      "source": [
        "from sklearn.pipeline import Pipeline\n",
        "\n",
        "from sklearn.dummy import DummyRegressor\n",
        "from sklearn.neighbors import KNeighborsRegressor\n",
        "from sklearn.tree import DecisionTreeRegressor\n",
        "\n",
        "from sklearn.model_selection import RepeatedKFold\n",
        "\n",
        "from matplotlib import pyplot as plt\n",
        "\n",
        "rkf = RepeatedKFold(n_splits=10, n_repeats=3) # 3 ROUNDS and 10 FOLDS\n",
        "\n",
        "target = 'medv'\n",
        "\n",
        "# EDA Data\n",
        "X = bost.drop(columns=[target]).to_numpy()\n",
        "y = bost[target].to_numpy()\n",
        "\n",
        "# ===== kNN =====\n",
        "knn = KNeighborsRegressor()\n",
        "knn_grid = { 'n_neighbors' : [1, 2, 5, 10, 20, 40, 80, 120, 360] }\n",
        "knncv, knn_stats = cross_validate_model_mse(knn, knn_grid, X, y, cv=rkf)"
      ],
      "execution_count": null,
      "outputs": []
    },
    {
      "cell_type": "code",
      "metadata": {
        "id": "o_jlF2_nk2Ck"
      },
      "source": [
        "fig, axs = plt.subplots(nrows=1, ncols=2, figsize=(24,8))\n",
        "for ax in axs: ax.set_ylim((0, 1))\n",
        "\n",
        "# Scaled virgin data\n",
        "sns.lineplot(data=knn_virgin_scaled_stats, x='n_neighbors', y='mse', label='Virgin Scaled data', ax=axs[0])\n",
        "sns.lineplot(data=knn_stats, x='n_neighbors', y='mse', label='EDA data', ax=axs[0])\n",
        "axs[0].set_title('kNN with EDA data')"
      ],
      "execution_count": null,
      "outputs": []
    }
  ]
}